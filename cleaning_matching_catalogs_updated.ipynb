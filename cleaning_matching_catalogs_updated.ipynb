{
 "cells": [
  {
   "cell_type": "code",
   "execution_count": 1,
   "id": "878ded9d",
   "metadata": {},
   "outputs": [],
   "source": [
    "from astropy.table import Table, join\n",
    "import matplotlib.pyplot as plt\n",
    "import numpy as np"
   ]
  },
  {
   "cell_type": "code",
   "execution_count": 2,
   "id": "d657f9df",
   "metadata": {},
   "outputs": [],
   "source": [
    "b3 = Table.read('/home/jotter/nrao/summer_research_2018/tables/r0.5_b3_catalog_bgfit_may21.fits') #b3 huge catalog new\n",
    "b6 = Table.read('/home/jotter/nrao/summer_research_2018/tables/r0.5_b6_catalog_bgfit_may21_refit.fits')\n",
    "b7 = Table.read('/home/jotter/nrao/summer_research_2018/tables/r0.5_b7_catalog_bgfit_may21_refit.fits')\n",
    "old_catalog = Table.read('/home/jotter/nrao/summer_research_2018/tables/r0.5_catalog_bgfit_may21_ulim_mask.fits')"
   ]
  },
  {
   "cell_type": "code",
   "execution_count": null,
   "id": "c50604b8",
   "metadata": {},
   "outputs": [],
   "source": []
  },
  {
   "cell_type": "markdown",
   "id": "85dc8489",
   "metadata": {},
   "source": [
    "TO DO:\n",
    "    -remove low S/N B3 sources\n",
    "    -remove B6 non detections\n",
    "    -add ID column to b3 table - reorder so it's in front\n",
    "    -add D_ID column for backwards compatibility \n",
    "    -match tables\n",
    "    -take care of masked values so they are all nan rather than some weird number  \n",
    "    -add flux upper limits, and size upper limits   \n",
    "        -create 'mask' version with the deconvolved fits of 113,114,124,125 masked"
   ]
  },
  {
   "cell_type": "code",
   "execution_count": 4,
   "id": "e6d012fd",
   "metadata": {},
   "outputs": [],
   "source": [
    "##first remove nondetections from b6 table\n",
    "remove_b6 = np.array([3,14,17,42,61])\n",
    "for seq in remove_b6:\n",
    "    ind = np.where(b6['B3_Seq'] == seq)\n",
    "    b6.remove_row(ind[0][0])"
   ]
  },
  {
   "cell_type": "code",
   "execution_count": 10,
   "id": "5df1eeee",
   "metadata": {},
   "outputs": [],
   "source": [
    "low_sn_ind = np.where(b3['SNR_B3'] < 5)\n",
    "b3.remove_rows(low_sn_ind)"
   ]
  },
  {
   "cell_type": "code",
   "execution_count": 11,
   "id": "3be6f8c4",
   "metadata": {},
   "outputs": [
    {
     "name": "stdout",
     "output_type": "stream",
     "text": [
      "B3_Seq fwhm_maj_B6 fwhm_maj_err_B6 fwhm_min_B6 ... SNR_B6 RMS_B6 ar_deconv_B6\n",
      "------ ----------- --------------- ----------- ... ------ ------ ------------\n",
      "B3_Seq fwhm_maj_B7 fwhm_maj_err_B7 fwhm_min_B7 ... SNR_B7 RMS_B7 ar_deconv_B7\n",
      "------ ----------- --------------- ----------- ... ------ ------ ------------\n",
      "B3_Seq fwhm_maj_B3 fwhm_maj_err_B3 fwhm_min_B3 ... SNR_B3 RMS_B3 ar_deconv_B3\n",
      "------ ----------- --------------- ----------- ... ------ ------ ------------\n"
     ]
    }
   ],
   "source": [
    "print(b6[np.where(b6['SNR_B6'] < 3)])\n",
    "print(b7[np.where(b7['SNR_B7'] < 3)])\n",
    "print(b3[np.where(b3['SNR_B3'] < 5)])"
   ]
  },
  {
   "cell_type": "code",
   "execution_count": 18,
   "id": "81095aa7",
   "metadata": {},
   "outputs": [
    {
     "name": "stdout",
     "output_type": "stream",
     "text": [
      "['ID' 'B3_Seq' 'fwhm_maj_B3' 'fwhm_maj_err_B3' 'fwhm_min_B3'\n",
      " 'fwhm_min_err_B3' 'pa_B3' 'pa_err_B3' 'gauss_amp_B3' 'gauss_amp_err_B3'\n",
      " 'RA_B3' 'RA_err_B3' 'DEC_B3' 'DEC_err_B3' 'ap_flux_B3' 'ap_flux_err_B3'\n",
      " 'fwhm_maj_deconv_B3' 'fwhm_maj_deconv_err_B3' 'fwhm_min_deconv_B3'\n",
      " 'fwhm_min_deconv_err_B3' 'pa_deconv_B3' 'pa_deconv_err_B3' 'SNR_B3'\n",
      " 'RMS_B3' 'ar_deconv_B3']\n"
     ]
    }
   ],
   "source": [
    "#add ID column:\n",
    "b3['ID'] = np.arange(len(b3))\n",
    "col_order = b3.colnames\n",
    "col_order_new = np.concatenate((['ID'], col_order[:-1]))\n",
    "print(col_order_new)\n",
    "b3 = b3[list(col_order_new)]"
   ]
  },
  {
   "cell_type": "code",
   "execution_count": 87,
   "id": "bea36155",
   "metadata": {},
   "outputs": [],
   "source": [
    "#adding D_ID column:\n",
    "ref = Table.read('/home/jotter/nrao/summer_research_2018/tables/ref_catalog_may21.fits')\n",
    "did_tab = Table((ref['B3_Seq'], ref['D_ID']))\n",
    "b3join = join(b3, did_tab, keys='B3_Seq', join_type='left')\n",
    "bad_did = np.where(b3join['D_ID'].data > 1e5)[0]\n",
    "b3join['D_ID'][bad_did] = -1\n",
    "bad_did2 = np.where(b3join['D_ID'].data < -1e5)[0]\n",
    "b3join['D_ID'][bad_did2] = -1"
   ]
  },
  {
   "cell_type": "code",
   "execution_count": 88,
   "id": "761ae1f9",
   "metadata": {},
   "outputs": [],
   "source": [
    "#matching tables\n",
    "b3b6 = join(b3join, b6, keys='B3_Seq', join_type='left')\n",
    "b3b6b7 = join(b3b6, b7, keys='B3_Seq', join_type='outer')"
   ]
  },
  {
   "cell_type": "code",
   "execution_count": 89,
   "id": "b31a0d7d",
   "metadata": {},
   "outputs": [],
   "source": [
    "for col in b3b6b7.colnames:\n",
    "    b3b6b7[col].fill_value = np.nan"
   ]
  },
  {
   "cell_type": "code",
   "execution_count": 90,
   "id": "7c5437bb",
   "metadata": {},
   "outputs": [
    {
     "data": {
      "text/plain": [
       "nan"
      ]
     },
     "execution_count": 90,
     "metadata": {},
     "output_type": "execute_result"
    }
   ],
   "source": [
    "b3b6b7['fwhm_maj_B7'].fill_value"
   ]
  },
  {
   "cell_type": "code",
   "execution_count": 92,
   "id": "7ebc9e6f",
   "metadata": {},
   "outputs": [],
   "source": [
    "b3b6b7.write('/home/jotter/nrao/summer_research_2018/tables/r0.5_catalog_bgfit_may21.fits', overwrite=True)"
   ]
  },
  {
   "cell_type": "code",
   "execution_count": null,
   "id": "9f857485",
   "metadata": {},
   "outputs": [],
   "source": []
  },
  {
   "cell_type": "code",
   "execution_count": 93,
   "id": "c07ce41d",
   "metadata": {},
   "outputs": [],
   "source": [
    "##added size and flux upper limits in other scripts, now load in table\n",
    "tab = Table.read('/home/jotter/nrao/summer_research_2018/tables/r0.5_catalog_bgfit_may21_ulim.fits')"
   ]
  },
  {
   "cell_type": "code",
   "execution_count": 95,
   "id": "b3739c0b",
   "metadata": {},
   "outputs": [
    {
     "name": "stdout",
     "output_type": "stream",
     "text": [
      "fwhm_maj_deconv_B3\n",
      "fwhm_maj_deconv_err_B3\n",
      "fwhm_min_deconv_B3\n",
      "fwhm_min_deconv_err_B3\n",
      "pa_deconv_B3\n",
      "pa_deconv_err_B3\n",
      "ar_deconv_B3\n"
     ]
    }
   ],
   "source": [
    "badfit_ind = np.array([113,114,124,125])\n",
    "for col in tab.colnames: \n",
    "    if col[-9:] == 'deconv_B3' or col[-13:] == 'deconv_err_B3':\n",
    "        print(col)\n",
    "        tab[col][badfit_ind] = np.nan"
   ]
  },
  {
   "cell_type": "code",
   "execution_count": 96,
   "id": "013b801b",
   "metadata": {},
   "outputs": [],
   "source": [
    "tab.write('/home/jotter/nrao/summer_research_2018/tables/r0.5_catalog_bgfit_may21_ulim_mask.fits', overwrite=True)"
   ]
  },
  {
   "cell_type": "code",
   "execution_count": 99,
   "id": "8bbd9ba7",
   "metadata": {},
   "outputs": [
    {
     "data": {
      "text/html": [
       "<i>Table length=127</i>\n",
       "<table id=\"table140307481794960\" class=\"table-striped table-bordered table-condensed\">\n",
       "<thead><tr><th>ID</th><th>B3_Seq</th><th>fwhm_maj_B3</th><th>fwhm_maj_err_B3</th><th>fwhm_min_B3</th><th>fwhm_min_err_B3</th><th>pa_B3</th><th>pa_err_B3</th><th>gauss_amp_B3</th><th>gauss_amp_err_B3</th><th>RA_B3</th><th>RA_err_B3</th><th>DEC_B3</th><th>DEC_err_B3</th><th>ap_flux_B3</th><th>ap_flux_err_B3</th><th>fwhm_maj_deconv_B3</th><th>fwhm_maj_deconv_err_B3</th><th>fwhm_min_deconv_B3</th><th>fwhm_min_deconv_err_B3</th><th>pa_deconv_B3</th><th>pa_deconv_err_B3</th><th>SNR_B3</th><th>RMS_B3</th><th>ar_deconv_B3</th><th>D_ID</th><th>fwhm_maj_B6</th><th>fwhm_maj_err_B6</th><th>fwhm_min_B6</th><th>fwhm_min_err_B6</th><th>pa_B6</th><th>pa_err_B6</th><th>gauss_amp_B6</th><th>gauss_amp_err_B6</th><th>RA_B6</th><th>RA_err_B6</th><th>DEC_B6</th><th>DEC_err_B6</th><th>ap_flux_B6</th><th>ap_flux_err_B6</th><th>fwhm_maj_deconv_B6</th><th>fwhm_maj_deconv_err_B6</th><th>fwhm_min_deconv_B6</th><th>fwhm_min_deconv_err_B6</th><th>pa_deconv_B6</th><th>pa_deconv_err_B6</th><th>SNR_B6</th><th>RMS_B6</th><th>ar_deconv_B6</th><th>fwhm_maj_B7</th><th>fwhm_maj_err_B7</th><th>fwhm_min_B7</th><th>fwhm_min_err_B7</th><th>pa_B7</th><th>pa_err_B7</th><th>gauss_amp_B7</th><th>gauss_amp_err_B7</th><th>RA_B7</th><th>RA_err_B7</th><th>DEC_B7</th><th>DEC_err_B7</th><th>ap_flux_B7</th><th>ap_flux_err_B7</th><th>fwhm_maj_deconv_B7</th><th>fwhm_maj_deconv_err_B7</th><th>fwhm_min_deconv_B7</th><th>fwhm_min_deconv_err_B7</th><th>pa_deconv_B7</th><th>pa_deconv_err_B7</th><th>SNR_B7</th><th>RMS_B7</th><th>ar_deconv_B7</th><th>upper_lim_B3</th><th>upper_lim_B6</th><th>upper_lim_B7</th><th>B6_flux_ulim</th><th>B7_flux_ulim</th></tr></thead>\n",
       "<thead><tr><th></th><th></th><th></th><th></th><th></th><th></th><th></th><th></th><th></th><th></th><th></th><th></th><th></th><th></th><th></th><th></th><th></th><th></th><th></th><th></th><th></th><th></th><th></th><th></th><th></th><th></th><th></th><th></th><th></th><th></th><th></th><th></th><th></th><th></th><th></th><th></th><th></th><th></th><th></th><th></th><th></th><th></th><th></th><th></th><th></th><th></th><th></th><th></th><th></th><th></th><th></th><th></th><th></th><th></th><th></th><th></th><th></th><th></th><th></th><th></th><th></th><th></th><th></th><th></th><th></th><th></th><th></th><th></th><th></th><th></th><th></th><th></th><th>AU</th><th>AU</th><th>AU</th><th></th><th></th></tr></thead>\n",
       "<thead><tr><th>int64</th><th>int32</th><th>float64</th><th>float64</th><th>float64</th><th>float64</th><th>float64</th><th>float64</th><th>float64</th><th>float64</th><th>float64</th><th>float64</th><th>float64</th><th>float64</th><th>float64</th><th>float64</th><th>float64</th><th>float64</th><th>float64</th><th>float64</th><th>float64</th><th>float64</th><th>float64</th><th>float64</th><th>float64</th><th>int32</th><th>float64</th><th>float64</th><th>float64</th><th>float64</th><th>float64</th><th>float64</th><th>float64</th><th>float64</th><th>float64</th><th>float64</th><th>float64</th><th>float64</th><th>float64</th><th>float64</th><th>float64</th><th>float64</th><th>float64</th><th>float64</th><th>float64</th><th>float64</th><th>float64</th><th>float64</th><th>float64</th><th>float64</th><th>float64</th><th>float64</th><th>float64</th><th>float64</th><th>float64</th><th>float64</th><th>float64</th><th>float64</th><th>float64</th><th>float64</th><th>float64</th><th>float64</th><th>float64</th><th>float64</th><th>float64</th><th>float64</th><th>float64</th><th>float64</th><th>float64</th><th>float64</th><th>float64</th><th>float64</th><th>float64</th><th>float64</th><th>float64</th><th>float64</th><th>float64</th></tr></thead>\n",
       "<tr><td>0</td><td>0</td><td>0.10305585997928254</td><td>0.005978321021454948</td><td>0.08478250887162492</td><td>0.004918503770637874</td><td>56.95452545532544</td><td>0.20888564676048593</td><td>0.0002547371545014736</td><td>1.4777247800786749e-05</td><td>83.81515090326748</td><td>6.704696865522927e-07</td><td>-5.3823407933457466</td><td>6.200124333207998e-07</td><td>0.00030326626340923296</td><td>7.005527787363965e-06</td><td>0.05180421201112408</td><td>0.005978321021454948</td><td>0.026503408218873602</td><td>0.004918503770637874</td><td>-1.2702585309348218</td><td>0.20888564676048593</td><td>19.399299361304976</td><td>1.4112799362919759e-05</td><td>1.9546245367127264</td><td>2</td><td>nan</td><td>nan</td><td>nan</td><td>nan</td><td>nan</td><td>nan</td><td>nan</td><td>nan</td><td>nan</td><td>nan</td><td>nan</td><td>nan</td><td>nan</td><td>nan</td><td>nan</td><td>nan</td><td>nan</td><td>nan</td><td>nan</td><td>nan</td><td>nan</td><td>nan</td><td>nan</td><td>nan</td><td>nan</td><td>nan</td><td>nan</td><td>nan</td><td>nan</td><td>nan</td><td>nan</td><td>nan</td><td>nan</td><td>nan</td><td>nan</td><td>nan</td><td>nan</td><td>nan</td><td>nan</td><td>nan</td><td>nan</td><td>nan</td><td>nan</td><td>nan</td><td>nan</td><td>nan</td><td>nan</td><td>nan</td><td>nan</td><td>nan</td><td>nan</td></tr>\n",
       "<tr><td>1</td><td>1</td><td>0.11584944756560857</td><td>0.014047580955655387</td><td>0.06481658989387087</td><td>0.007859839676357889</td><td>58.66559214544469</td><td>0.13968770465164923</td><td>0.0001731617899034192</td><td>2.0999984799853715e-05</td><td>83.80704254391247</td><td>1.4952667586795851e-06</td><td>-5.382287866738019</td><td>1.170309120265059e-06</td><td>0.00016871907851167075</td><td>1.4191411921993958e-05</td><td>nan</td><td>nan</td><td>nan</td><td>nan</td><td>nan</td><td>nan</td><td>7.024454045060415</td><td>1.4553046639775857e-05</td><td>nan</td><td>3</td><td>nan</td><td>nan</td><td>nan</td><td>nan</td><td>nan</td><td>nan</td><td>nan</td><td>nan</td><td>nan</td><td>nan</td><td>nan</td><td>nan</td><td>nan</td><td>nan</td><td>nan</td><td>nan</td><td>nan</td><td>nan</td><td>nan</td><td>nan</td><td>nan</td><td>nan</td><td>nan</td><td>nan</td><td>nan</td><td>nan</td><td>nan</td><td>nan</td><td>nan</td><td>nan</td><td>nan</td><td>nan</td><td>nan</td><td>nan</td><td>nan</td><td>nan</td><td>nan</td><td>nan</td><td>nan</td><td>nan</td><td>nan</td><td>nan</td><td>nan</td><td>nan</td><td>nan</td><td>nan</td><td>18.110688028549117</td><td>nan</td><td>nan</td><td>nan</td><td>nan</td></tr>\n",
       "<tr><td>2</td><td>2</td><td>0.07598532943911104</td><td>0.008706835425854306</td><td>0.0637818541430692</td><td>0.00730782438216444</td><td>241.73067686299476</td><td>0.46020146578238064</td><td>0.00022885897305836324</td><td>2.62237110154526e-05</td><td>83.8169899462259</td><td>9.924663864372184e-07</td><td>-5.381757079653479</td><td>9.016615753801123e-07</td><td>0.0001547257992428559</td><td>1.3263358536929322e-05</td><td>nan</td><td>nan</td><td>nan</td><td>nan</td><td>nan</td><td>nan</td><td>12.371471226668866</td><td>1.596290894667618e-05</td><td>nan</td><td>4</td><td>nan</td><td>nan</td><td>nan</td><td>nan</td><td>nan</td><td>nan</td><td>nan</td><td>nan</td><td>nan</td><td>nan</td><td>nan</td><td>nan</td><td>nan</td><td>nan</td><td>nan</td><td>nan</td><td>nan</td><td>nan</td><td>nan</td><td>nan</td><td>nan</td><td>nan</td><td>nan</td><td>nan</td><td>nan</td><td>nan</td><td>nan</td><td>nan</td><td>nan</td><td>nan</td><td>nan</td><td>nan</td><td>nan</td><td>nan</td><td>nan</td><td>nan</td><td>nan</td><td>nan</td><td>nan</td><td>nan</td><td>nan</td><td>nan</td><td>nan</td><td>nan</td><td>nan</td><td>nan</td><td>13.646791700015182</td><td>nan</td><td>nan</td><td>nan</td><td>nan</td></tr>\n",
       "<tr><td>3</td><td>3</td><td>0.125214056844178</td><td>0.0014964199953616476</td><td>0.08549277663331106</td><td>0.0010217160868824608</td><td>35.61556476235245</td><td>0.021617061991398567</td><td>0.0011603951895139634</td><td>1.3867723890371504e-05</td><td>83.80986005156173</td><td>1.4200913628479887e-07</td><td>-5.381681607707714</td><td>1.597448655507702e-07</td><td>0.0015933513090232746</td><td>5.678990436011385e-06</td><td>0.08054361738385311</td><td>0.0014964199953616476</td><td>0.04558314961964404</td><td>0.0010217160868824608</td><td>0.4908353078371169</td><td>0.021617061991398567</td><td>98.41361084466187</td><td>1.1791003089456353e-05</td><td>1.7669603363507569</td><td>5</td><td>nan</td><td>nan</td><td>nan</td><td>nan</td><td>nan</td><td>nan</td><td>nan</td><td>nan</td><td>nan</td><td>nan</td><td>nan</td><td>nan</td><td>nan</td><td>nan</td><td>nan</td><td>nan</td><td>nan</td><td>nan</td><td>nan</td><td>nan</td><td>nan</td><td>nan</td><td>nan</td><td>nan</td><td>nan</td><td>nan</td><td>nan</td><td>nan</td><td>nan</td><td>nan</td><td>nan</td><td>nan</td><td>nan</td><td>nan</td><td>nan</td><td>nan</td><td>nan</td><td>nan</td><td>nan</td><td>nan</td><td>nan</td><td>nan</td><td>nan</td><td>nan</td><td>nan</td><td>nan</td><td>nan</td><td>nan</td><td>nan</td><td>2.838952001184225</td><td>nan</td></tr>\n",
       "<tr><td>4</td><td>4</td><td>0.10897646120909066</td><td>0.0016797612416176643</td><td>0.0931694497791326</td><td>0.001436116620183963</td><td>52.16081474176056</td><td>0.06926781513629048</td><td>0.0009762169099616974</td><td>1.504747984563764e-05</td><td>83.81123802001149</td><td>1.878479548474693e-07</td><td>-5.380396025918965</td><td>1.8075904817157155e-07</td><td>0.0012783409471112967</td><td>7.872200057311188e-06</td><td>0.06200464031599789</td><td>0.0016797612416176643</td><td>0.04784728823830666</td><td>0.001436116620183963</td><td>-1.1487423388897695</td><td>0.06926781513629048</td><td>61.353108995806004</td><td>1.6971449440461583e-05</td><td>1.2958861954136163</td><td>6</td><td>0.10584714908243306</td><td>0.010395269005769446</td><td>0.08068161907691876</td><td>0.007847629591543472</td><td>68.34199910990384</td><td>0.2509146547862677</td><td>0.0018267359370158916</td><td>0.00018899373308105065</td><td>83.81124353848003</td><td>1.1808989967962827e-06</td><td>-5.3803940313375325</td><td>9.697495038406568e-07</td><td>0.014157745500997833</td><td>7.708033181779694e-05</td><td>nan</td><td>nan</td><td>nan</td><td>nan</td><td>nan</td><td>nan</td><td>6.605426809038255</td><td>0.00037474206039542587</td><td>nan</td><td>nan</td><td>nan</td><td>nan</td><td>nan</td><td>nan</td><td>nan</td><td>nan</td><td>nan</td><td>nan</td><td>nan</td><td>nan</td><td>nan</td><td>nan</td><td>nan</td><td>nan</td><td>nan</td><td>nan</td><td>nan</td><td>nan</td><td>nan</td><td>nan</td><td>nan</td><td>nan</td><td>nan</td><td>8.729975319733736</td><td>nan</td><td>nan</td><td>nan</td></tr>\n",
       "<tr><td>5</td><td>5</td><td>0.09439382045194641</td><td>0.00446826257292058</td><td>0.0799778149060421</td><td>0.0037825193993310338</td><td>266.58335507156426</td><td>0.20089366900209374</td><td>0.0004257564108069167</td><td>2.0138560946684267e-05</td><td>83.81809145352516</td><td>5.263783322228979e-07</td><td>-5.380298782836436</td><td>4.4648896728915273e-07</td><td>0.0005726100673825688</td><td>1.1391634126118326e-05</td><td>nan</td><td>nan</td><td>nan</td><td>nan</td><td>nan</td><td>nan</td><td>21.42881907622244</td><td>1.6771631635492668e-05</td><td>nan</td><td>7</td><td>nan</td><td>nan</td><td>nan</td><td>nan</td><td>nan</td><td>nan</td><td>nan</td><td>nan</td><td>nan</td><td>nan</td><td>nan</td><td>nan</td><td>nan</td><td>nan</td><td>nan</td><td>nan</td><td>nan</td><td>nan</td><td>nan</td><td>nan</td><td>nan</td><td>nan</td><td>nan</td><td>nan</td><td>nan</td><td>nan</td><td>nan</td><td>nan</td><td>nan</td><td>nan</td><td>nan</td><td>nan</td><td>nan</td><td>nan</td><td>nan</td><td>nan</td><td>nan</td><td>nan</td><td>nan</td><td>nan</td><td>nan</td><td>nan</td><td>nan</td><td>nan</td><td>nan</td><td>nan</td><td>10.369125200204051</td><td>nan</td><td>nan</td><td>nan</td><td>nan</td></tr>\n",
       "<tr><td>6</td><td>6</td><td>0.16292986573390136</td><td>0.002157279212693443</td><td>0.11447677393967727</td><td>0.0015157341390503196</td><td>-46.83690005163766</td><td>0.025983667655203196</td><td>0.0010881097771289205</td><td>1.394835489209481e-05</td><td>83.81189644741445</td><td>2.2229211299338454e-07</td><td>-5.378926525078703</td><td>2.1751503539977196e-07</td><td>0.002760245792682336</td><td>3.0542479690449734e-06</td><td>0.14651790905500436</td><td>0.002157279212693443</td><td>0.06132779295332359</td><td>0.0015157341390503196</td><td>-46.78757356140829</td><td>0.025983667655203196</td><td>130.0672315991389</td><td>8.365748726646416e-06</td><td>2.38909476436758</td><td>8</td><td>0.15123730494837295</td><td>0.012081594649083765</td><td>0.11992697259527732</td><td>0.00957982342481732</td><td>262.496644434464</td><td>0.24129634211084736</td><td>0.002359892464072265</td><td>0.00018853394377187554</td><td>83.81189746271352</td><td>1.4206221998519849e-06</td><td>-5.378924322444727</td><td>1.1357375655309965e-06</td><td>0.026972430233134052</td><td>4.927404088149811e-05</td><td>0.12554666808980716</td><td>0.012081594649083765</td><td>0.08408780076881849</td><td>0.00957982342481732</td><td>-83.14475570412102</td><td>0.24129634211084736</td><td>9.159300239780887</td><td>0.00025764986432290154</td><td>1.4930425928842046</td><td>nan</td><td>nan</td><td>nan</td><td>nan</td><td>nan</td><td>nan</td><td>nan</td><td>nan</td><td>nan</td><td>nan</td><td>nan</td><td>nan</td><td>nan</td><td>nan</td><td>nan</td><td>nan</td><td>nan</td><td>nan</td><td>nan</td><td>nan</td><td>nan</td><td>nan</td><td>nan</td><td>nan</td><td>nan</td><td>nan</td><td>nan</td><td>nan</td></tr>\n",
       "<tr><td>7</td><td>7</td><td>0.11066426350567159</td><td>0.0029523442353190173</td><td>0.0769263000331707</td><td>0.0020522741321774107</td><td>44.112444463926806</td><td>0.05074939545540998</td><td>0.0005962637978962987</td><td>1.5907429419772272e-05</td><td>83.80645728575972</td><td>2.982891029722936e-07</td><td>-5.37878318647283</td><td>3.0152532096107407e-07</td><td>0.0006414257010983361</td><td>9.717063347629265e-06</td><td>0.053897225089146045</td><td>0.0029523442353190173</td><td>0.028928306628787384</td><td>0.0020522741321774107</td><td>0.7967192866936271</td><td>0.05074939545540998</td><td>33.155471132031465</td><td>1.764306944096461e-05</td><td>1.8631310080041594</td><td>9</td><td>0.10099194787842597</td><td>0.01793243564568001</td><td>0.06925777875632476</td><td>0.012236418560144574</td><td>262.2794065738794</td><td>0.3237038491499797</td><td>0.0008023241963872122</td><td>0.00015000653866478652</td><td>83.80646056465497</td><td>2.096070194406574e-06</td><td>-5.378786482416865</td><td>1.4580083610494813e-06</td><td>0.004225819106589817</td><td>5.4091059947619366e-05</td><td>nan</td><td>nan</td><td>nan</td><td>nan</td><td>nan</td><td>nan</td><td>4.567370585000703</td><td>0.00022990850344395807</td><td>nan</td><td>nan</td><td>nan</td><td>nan</td><td>nan</td><td>nan</td><td>nan</td><td>nan</td><td>nan</td><td>nan</td><td>nan</td><td>nan</td><td>nan</td><td>nan</td><td>nan</td><td>nan</td><td>nan</td><td>nan</td><td>nan</td><td>nan</td><td>nan</td><td>nan</td><td>nan</td><td>nan</td><td>nan</td><td>10.812953095971633</td><td>nan</td><td>nan</td><td>nan</td></tr>\n",
       "<tr><td>8</td><td>8</td><td>0.10063229464856939</td><td>0.0048645731913437695</td><td>0.05828454336124253</td><td>0.0028173039914478034</td><td>38.564282921853646</td><td>0.059582060510417145</td><td>0.0001937180850692333</td><td>9.363486169919245e-06</td><td>83.8067170182355</td><td>4.421080179889121e-07</td><td>-5.3787626046318655</td><td>4.941720230805922e-07</td><td>0.00015014792710952272</td><td>7.106447446948373e-06</td><td>nan</td><td>nan</td><td>nan</td><td>nan</td><td>nan</td><td>nan</td><td>17.716039787289894</td><td>1.1107082173111849e-05</td><td>nan</td><td>10</td><td>0.11272327556958782</td><td>0.022601419752812952</td><td>0.07731429739161383</td><td>0.015365660874283805</td><td>-3.2181329828872265</td><td>0.3637962904045597</td><td>0.0004232638827370235</td><td>8.408977330795948e-05</td><td>83.80670742318956</td><td>1.8112141364579729e-06</td><td>-5.378765335067353</td><td>2.6371386093143253e-06</td><td>0.002922006838690927</td><td>3.058438376678355e-05</td><td>nan</td><td>nan</td><td>nan</td><td>nan</td><td>nan</td><td>nan</td><td>3.81429811974154</td><td>0.0001736358793895585</td><td>nan</td><td>nan</td><td>nan</td><td>nan</td><td>nan</td><td>nan</td><td>nan</td><td>nan</td><td>nan</td><td>nan</td><td>nan</td><td>nan</td><td>nan</td><td>nan</td><td>nan</td><td>nan</td><td>nan</td><td>nan</td><td>nan</td><td>nan</td><td>nan</td><td>nan</td><td>nan</td><td>nan</td><td>11.40401851906844</td><td>12.004053442728253</td><td>nan</td><td>nan</td><td>nan</td></tr>\n",
       "<tr><td>...</td><td>...</td><td>...</td><td>...</td><td>...</td><td>...</td><td>...</td><td>...</td><td>...</td><td>...</td><td>...</td><td>...</td><td>...</td><td>...</td><td>...</td><td>...</td><td>...</td><td>...</td><td>...</td><td>...</td><td>...</td><td>...</td><td>...</td><td>...</td><td>...</td><td>...</td><td>...</td><td>...</td><td>...</td><td>...</td><td>...</td><td>...</td><td>...</td><td>...</td><td>...</td><td>...</td><td>...</td><td>...</td><td>...</td><td>...</td><td>...</td><td>...</td><td>...</td><td>...</td><td>...</td><td>...</td><td>...</td><td>...</td><td>...</td><td>...</td><td>...</td><td>...</td><td>...</td><td>...</td><td>...</td><td>...</td><td>...</td><td>...</td><td>...</td><td>...</td><td>...</td><td>...</td><td>...</td><td>...</td><td>...</td><td>...</td><td>...</td><td>...</td><td>...</td><td>...</td><td>...</td><td>...</td><td>...</td><td>...</td><td>...</td><td>...</td><td>...</td></tr>\n",
       "<tr><td>117</td><td>119</td><td>0.08800269907177186</td><td>0.01109615293204198</td><td>0.07074039627846192</td><td>0.008919818601786486</td><td>56.58717340186729</td><td>0.4052222861116363</td><td>0.0009864005437188526</td><td>0.00012436564377914114</td><td>83.80718754363936</td><td>1.2366423959305823e-06</td><td>-5.359964123838949</td><td>1.1361757440890356e-06</td><td>0.0010017450448167443</td><td>9.255808800052625e-05</td><td>nan</td><td>nan</td><td>nan</td><td>nan</td><td>nan</td><td>nan</td><td>6.7335384720991165</td><td>0.00012706892448477447</td><td>nan</td><td>-1</td><td>nan</td><td>nan</td><td>nan</td><td>nan</td><td>nan</td><td>nan</td><td>nan</td><td>nan</td><td>nan</td><td>nan</td><td>nan</td><td>nan</td><td>nan</td><td>nan</td><td>nan</td><td>nan</td><td>nan</td><td>nan</td><td>nan</td><td>nan</td><td>nan</td><td>nan</td><td>nan</td><td>nan</td><td>nan</td><td>nan</td><td>nan</td><td>nan</td><td>nan</td><td>nan</td><td>nan</td><td>nan</td><td>nan</td><td>nan</td><td>nan</td><td>nan</td><td>nan</td><td>nan</td><td>nan</td><td>nan</td><td>nan</td><td>nan</td><td>nan</td><td>nan</td><td>nan</td><td>nan</td><td>18.497778063468218</td><td>nan</td><td>nan</td><td>nan</td><td>nan</td></tr>\n",
       "<tr><td>118</td><td>120</td><td>0.13603758198929894</td><td>0.01104458176806743</td><td>0.08418569671457966</td><td>0.006830444224798876</td><td>59.85310053913855</td><td>0.11510068353308746</td><td>0.0002912489071604796</td><td>2.6639759223824597e-05</td><td>83.81454745414872</td><td>1.1964580505697836e-06</td><td>-5.3626618110164115</td><td>9.555069542870635e-07</td><td>0.0005121822640732544</td><td>2.0256778567349982e-05</td><td>0.09835646510074075</td><td>0.01104458176806743</td><td>0.038690876965691956</td><td>0.006830444224798876</td><td>1.1885463706234978</td><td>0.11510068353308746</td><td>6.694878274773208</td><td>4.0531958802603185e-05</td><td>2.5421099963165883</td><td>-1</td><td>nan</td><td>nan</td><td>nan</td><td>nan</td><td>nan</td><td>nan</td><td>nan</td><td>nan</td><td>nan</td><td>nan</td><td>nan</td><td>nan</td><td>nan</td><td>nan</td><td>nan</td><td>nan</td><td>nan</td><td>nan</td><td>nan</td><td>nan</td><td>nan</td><td>nan</td><td>nan</td><td>nan</td><td>nan</td><td>nan</td><td>nan</td><td>nan</td><td>nan</td><td>nan</td><td>nan</td><td>nan</td><td>nan</td><td>nan</td><td>nan</td><td>nan</td><td>nan</td><td>nan</td><td>nan</td><td>nan</td><td>nan</td><td>nan</td><td>nan</td><td>nan</td><td>nan</td><td>nan</td><td>nan</td><td>nan</td><td>nan</td><td>nan</td><td>nan</td></tr>\n",
       "<tr><td>119</td><td>121</td><td>0.15669421734760636</td><td>0.012216719142393995</td><td>0.0730324281844425</td><td>0.005690058478973513</td><td>43.11946670431021</td><td>0.06562505625599498</td><td>0.0003491792400472424</td><td>2.7210427057198024e-05</td><td>83.81440868477056</td><td>1.0995539560534383e-06</td><td>-5.362745980053886</td><td>1.1469579039233174e-06</td><td>0.000521886054912593</td><td>1.609364333595153e-05</td><td>0.12332601447895707</td><td>0.012216719142393995</td><td>0.01596967163418995</td><td>0.005690058478973513</td><td>0.751340115528396</td><td>0.06562505625599498</td><td>10.091617714981234</td><td>4.269767305231653e-05</td><td>7.722514106985438</td><td>-1</td><td>nan</td><td>nan</td><td>nan</td><td>nan</td><td>nan</td><td>nan</td><td>nan</td><td>nan</td><td>nan</td><td>nan</td><td>nan</td><td>nan</td><td>nan</td><td>nan</td><td>nan</td><td>nan</td><td>nan</td><td>nan</td><td>nan</td><td>nan</td><td>nan</td><td>nan</td><td>nan</td><td>nan</td><td>nan</td><td>nan</td><td>nan</td><td>nan</td><td>nan</td><td>nan</td><td>nan</td><td>nan</td><td>nan</td><td>nan</td><td>nan</td><td>nan</td><td>nan</td><td>nan</td><td>nan</td><td>nan</td><td>nan</td><td>nan</td><td>nan</td><td>nan</td><td>nan</td><td>nan</td><td>nan</td><td>nan</td><td>nan</td><td>nan</td><td>nan</td></tr>\n",
       "<tr><td>120</td><td>122</td><td>0.13614070522744867</td><td>0.012024896017966379</td><td>0.05429894056794266</td><td>0.004736028712263037</td><td>56.33906068793402</td><td>0.05868375140679358</td><td>0.0002696104245419833</td><td>2.3568122629521746e-05</td><td>83.82221820165805</td><td>1.2083052235585593e-06</td><td>-5.372543234250317</td><td>9.055649706479171e-07</td><td>0.0002751091332072921</td><td>1.190604673030847e-05</td><td>nan</td><td>nan</td><td>nan</td><td>nan</td><td>nan</td><td>nan</td><td>13.116770342801502</td><td>3.0124241675366648e-05</td><td>nan</td><td>-1</td><td>nan</td><td>nan</td><td>nan</td><td>nan</td><td>nan</td><td>nan</td><td>nan</td><td>nan</td><td>nan</td><td>nan</td><td>nan</td><td>nan</td><td>nan</td><td>nan</td><td>nan</td><td>nan</td><td>nan</td><td>nan</td><td>nan</td><td>nan</td><td>nan</td><td>nan</td><td>nan</td><td>nan</td><td>nan</td><td>nan</td><td>nan</td><td>nan</td><td>nan</td><td>nan</td><td>nan</td><td>nan</td><td>nan</td><td>nan</td><td>nan</td><td>nan</td><td>nan</td><td>nan</td><td>nan</td><td>nan</td><td>nan</td><td>nan</td><td>nan</td><td>nan</td><td>nan</td><td>nan</td><td>13.25341447882872</td><td>nan</td><td>nan</td><td>nan</td><td>nan</td></tr>\n",
       "<tr><td>121</td><td>123</td><td>0.09437209913434544</td><td>0.01349044172137859</td><td>0.062058889531547465</td><td>0.008837760141435268</td><td>56.92010667884239</td><td>0.23365532074089254</td><td>0.0001242683111377409</td><td>1.7710087869270804e-05</td><td>83.82138954902479</td><td>1.445477976237259e-06</td><td>-5.374768000241506</td><td>1.2292686120682146e-06</td><td>0.00013812238162559188</td><td>1.0876862729621037e-05</td><td>nan</td><td>nan</td><td>nan</td><td>nan</td><td>nan</td><td>nan</td><td>7.4219470549922075</td><td>1.7651527741691098e-05</td><td>nan</td><td>-1</td><td>nan</td><td>nan</td><td>nan</td><td>nan</td><td>nan</td><td>nan</td><td>nan</td><td>nan</td><td>nan</td><td>nan</td><td>nan</td><td>nan</td><td>nan</td><td>nan</td><td>nan</td><td>nan</td><td>nan</td><td>nan</td><td>nan</td><td>nan</td><td>nan</td><td>nan</td><td>nan</td><td>nan</td><td>nan</td><td>nan</td><td>nan</td><td>nan</td><td>nan</td><td>nan</td><td>nan</td><td>nan</td><td>nan</td><td>nan</td><td>nan</td><td>nan</td><td>nan</td><td>nan</td><td>nan</td><td>nan</td><td>nan</td><td>nan</td><td>nan</td><td>nan</td><td>nan</td><td>nan</td><td>17.61904283456186</td><td>nan</td><td>nan</td><td>nan</td><td>nan</td></tr>\n",
       "<tr><td>122</td><td>124</td><td>0.07207535521278602</td><td>0.009558280271680156</td><td>0.06242062888702405</td><td>0.008277916331943034</td><td>-54.549502018768386</td><td>0.6497909666977871</td><td>9.865322153927991e-05</td><td>1.598731496944016e-05</td><td>83.81822242542592</td><td>1.079062091874173e-06</td><td>-5.372861570502924</td><td>1.0297571644677806e-06</td><td>6.489674593902684e-05</td><td>1.15345910371297e-05</td><td>nan</td><td>nan</td><td>nan</td><td>nan</td><td>nan</td><td>nan</td><td>6.357241933298356</td><td>1.223175240738783e-05</td><td>nan</td><td>-1</td><td>nan</td><td>nan</td><td>nan</td><td>nan</td><td>nan</td><td>nan</td><td>nan</td><td>nan</td><td>nan</td><td>nan</td><td>nan</td><td>nan</td><td>nan</td><td>nan</td><td>nan</td><td>nan</td><td>nan</td><td>nan</td><td>nan</td><td>nan</td><td>nan</td><td>nan</td><td>nan</td><td>nan</td><td>nan</td><td>nan</td><td>nan</td><td>nan</td><td>nan</td><td>nan</td><td>nan</td><td>nan</td><td>nan</td><td>nan</td><td>nan</td><td>nan</td><td>nan</td><td>nan</td><td>nan</td><td>nan</td><td>nan</td><td>nan</td><td>nan</td><td>nan</td><td>nan</td><td>nan</td><td>19.037366360689226</td><td>nan</td><td>nan</td><td>nan</td><td>nan</td></tr>\n",
       "<tr><td>123</td><td>125</td><td>0.07477938647307465</td><td>0.011148633202283325</td><td>0.05913162340070314</td><td>0.008816377025049386</td><td>56.16162428816659</td><td>0.4450610965780333</td><td>0.00013067764135101965</td><td>1.948147423326375e-05</td><td>83.82003636243364</td><td>1.2363433157173681e-06</td><td>-5.370777768938167</td><td>1.1324951025179956e-06</td><td>8.194343695398714e-05</td><td>9.176522881670424e-06</td><td>nan</td><td>nan</td><td>nan</td><td>nan</td><td>nan</td><td>nan</td><td>10.675870403421884</td><td>1.8332146282773465e-05</td><td>nan</td><td>-1</td><td>nan</td><td>nan</td><td>nan</td><td>nan</td><td>nan</td><td>nan</td><td>nan</td><td>nan</td><td>nan</td><td>nan</td><td>nan</td><td>nan</td><td>nan</td><td>nan</td><td>nan</td><td>nan</td><td>nan</td><td>nan</td><td>nan</td><td>nan</td><td>nan</td><td>nan</td><td>nan</td><td>nan</td><td>nan</td><td>nan</td><td>nan</td><td>nan</td><td>nan</td><td>nan</td><td>nan</td><td>nan</td><td>nan</td><td>nan</td><td>nan</td><td>nan</td><td>nan</td><td>nan</td><td>nan</td><td>nan</td><td>nan</td><td>nan</td><td>nan</td><td>nan</td><td>nan</td><td>nan</td><td>14.690601927980142</td><td>nan</td><td>nan</td><td>nan</td><td>nan</td></tr>\n",
       "<tr><td>124</td><td>126</td><td>0.20899246393474089</td><td>0.08252618221928677</td><td>0.1678301892248195</td><td>0.06627217811465773</td><td>-68.7129706300843</td><td>1.2628177982168718</td><td>0.001021823356859386</td><td>0.00016342563925054868</td><td>83.819010739101</td><td>9.50435403428949e-06</td><td>-5.390064463235393</td><td>8.096279069316707e-06</td><td>0.00587406742668635</td><td>5.235181536748531e-05</td><td>nan</td><td>nan</td><td>nan</td><td>nan</td><td>nan</td><td>nan</td><td>5.19631195114136</td><td>0.00019664395949803293</td><td>nan</td><td>-1</td><td>nan</td><td>nan</td><td>nan</td><td>nan</td><td>nan</td><td>nan</td><td>nan</td><td>nan</td><td>nan</td><td>nan</td><td>nan</td><td>nan</td><td>nan</td><td>nan</td><td>nan</td><td>nan</td><td>nan</td><td>nan</td><td>nan</td><td>nan</td><td>nan</td><td>nan</td><td>nan</td><td>nan</td><td>nan</td><td>nan</td><td>nan</td><td>nan</td><td>nan</td><td>nan</td><td>nan</td><td>nan</td><td>nan</td><td>nan</td><td>nan</td><td>nan</td><td>nan</td><td>nan</td><td>nan</td><td>nan</td><td>nan</td><td>nan</td><td>nan</td><td>nan</td><td>nan</td><td>nan</td><td>nan</td><td>nan</td><td>nan</td><td>nan</td><td>nan</td></tr>\n",
       "<tr><td>125</td><td>127</td><td>0.24333988758703132</td><td>0.09946710166767081</td><td>0.18035462044467943</td><td>0.07372137841146646</td><td>260.9978181896514</td><td>0.9506703414428872</td><td>0.0003070735176152084</td><td>3.72686577629556e-05</td><td>83.81337469206831</td><td>1.1668361843621871e-05</td><td>-5.388551958477064</td><td>8.78317996828242e-06</td><td>0.001839369366510328</td><td>1.3068451421894857e-05</td><td>nan</td><td>nan</td><td>nan</td><td>nan</td><td>nan</td><td>nan</td><td>5.59088050560249</td><td>5.4923999414313585e-05</td><td>nan</td><td>-1</td><td>nan</td><td>nan</td><td>nan</td><td>nan</td><td>nan</td><td>nan</td><td>nan</td><td>nan</td><td>nan</td><td>nan</td><td>nan</td><td>nan</td><td>nan</td><td>nan</td><td>nan</td><td>nan</td><td>nan</td><td>nan</td><td>nan</td><td>nan</td><td>nan</td><td>nan</td><td>nan</td><td>nan</td><td>nan</td><td>nan</td><td>nan</td><td>nan</td><td>nan</td><td>nan</td><td>nan</td><td>nan</td><td>nan</td><td>nan</td><td>nan</td><td>nan</td><td>nan</td><td>nan</td><td>nan</td><td>nan</td><td>nan</td><td>nan</td><td>nan</td><td>nan</td><td>nan</td><td>nan</td><td>nan</td><td>nan</td><td>nan</td><td>nan</td><td>nan</td></tr>\n",
       "<tr><td>126</td><td>128</td><td>0.12321674784301004</td><td>0.004354022608009198</td><td>0.07113174286999978</td><td>0.0025132593161780992</td><td>60.78429399165017</td><td>0.04326498161408352</td><td>0.0033995005527822975</td><td>0.00012011940771284547</td><td>83.82655385501631</td><td>4.7101374007448495e-07</td><td>-5.377063788303016</td><td>3.602534044266951e-07</td><td>0.003836767929263917</td><td>7.444585287427737e-05</td><td>nan</td><td>nan</td><td>nan</td><td>nan</td><td>nan</td><td>nan</td><td>24.291033680666562</td><td>0.00015331752365455031</td><td>nan</td><td>-1</td><td>nan</td><td>nan</td><td>nan</td><td>nan</td><td>nan</td><td>nan</td><td>nan</td><td>nan</td><td>nan</td><td>nan</td><td>nan</td><td>nan</td><td>nan</td><td>nan</td><td>nan</td><td>nan</td><td>nan</td><td>nan</td><td>nan</td><td>nan</td><td>nan</td><td>nan</td><td>nan</td><td>nan</td><td>nan</td><td>nan</td><td>nan</td><td>nan</td><td>nan</td><td>nan</td><td>nan</td><td>nan</td><td>nan</td><td>nan</td><td>nan</td><td>nan</td><td>nan</td><td>nan</td><td>nan</td><td>nan</td><td>nan</td><td>nan</td><td>nan</td><td>nan</td><td>nan</td><td>nan</td><td>9.739086862223209</td><td>nan</td><td>nan</td><td>nan</td><td>nan</td></tr>\n",
       "</table>"
      ],
      "text/plain": [
       "<Table length=127>\n",
       "  ID  B3_Seq     fwhm_maj_B3     ... upper_lim_B7    B6_flux_ulim   B7_flux_ulim\n",
       "                                 ...      AU                                    \n",
       "int64 int32        float64       ...   float64         float64        float64   \n",
       "----- ------ ------------------- ... ------------ ----------------- ------------\n",
       "    0      0 0.10305585997928254 ...          nan               nan          nan\n",
       "    1      1 0.11584944756560857 ...          nan               nan          nan\n",
       "    2      2 0.07598532943911104 ...          nan               nan          nan\n",
       "    3      3   0.125214056844178 ...          nan 2.838952001184225          nan\n",
       "    4      4 0.10897646120909066 ...          nan               nan          nan\n",
       "    5      5 0.09439382045194641 ...          nan               nan          nan\n",
       "    6      6 0.16292986573390136 ...          nan               nan          nan\n",
       "    7      7 0.11066426350567159 ...          nan               nan          nan\n",
       "    8      8 0.10063229464856939 ...          nan               nan          nan\n",
       "  ...    ...                 ... ...          ...               ...          ...\n",
       "  117    119 0.08800269907177186 ...          nan               nan          nan\n",
       "  118    120 0.13603758198929894 ...          nan               nan          nan\n",
       "  119    121 0.15669421734760636 ...          nan               nan          nan\n",
       "  120    122 0.13614070522744867 ...          nan               nan          nan\n",
       "  121    123 0.09437209913434544 ...          nan               nan          nan\n",
       "  122    124 0.07207535521278602 ...          nan               nan          nan\n",
       "  123    125 0.07477938647307465 ...          nan               nan          nan\n",
       "  124    126 0.20899246393474089 ...          nan               nan          nan\n",
       "  125    127 0.24333988758703132 ...          nan               nan          nan\n",
       "  126    128 0.12321674784301004 ...          nan               nan          nan"
      ]
     },
     "execution_count": 99,
     "metadata": {},
     "output_type": "execute_result"
    }
   ],
   "source": [
    "tab"
   ]
  },
  {
   "cell_type": "code",
   "execution_count": 15,
   "id": "127b855d",
   "metadata": {},
   "outputs": [],
   "source": [
    "#adding fit for source 41, which I somehow left out before\n",
    "b6_tab = Table.read('/home/jotter/nrao/tables/src41_b6fit.fits')\n",
    "#tab = Table.read('/home/jotter/nrao/summer_research_2018/tables/r0.5_catalog_bgfit_may21.fits')\n",
    "#tab = Table.read('/home/jotter/nrao/summer_research_2018/tables/r0.5_catalog_bgfit_may21_ulim.fits')\n",
    "tab = Table.read('/home/jotter/nrao/summer_research_2018/tables/r0.5_catalog_bgfit_may21_ulim_mask.fits')\n",
    "\n",
    "for col in b6_tab.colnames: #these are nondetections that I accidentally didnt get rid of before\n",
    "    if col[-2:] == 'B6':\n",
    "        tab[col][41] = b6_tab[col]"
   ]
  },
  {
   "cell_type": "code",
   "execution_count": 16,
   "id": "1f1c1720",
   "metadata": {},
   "outputs": [
    {
     "data": {
      "text/html": [
       "<i>Row index=41</i>\n",
       "<table id=\"table139761920781840\">\n",
       "<thead><tr><th>ID</th><th>B3_Seq</th><th>fwhm_maj_B3</th><th>fwhm_maj_err_B3</th><th>fwhm_min_B3</th><th>fwhm_min_err_B3</th><th>pa_B3</th><th>pa_err_B3</th><th>gauss_amp_B3</th><th>gauss_amp_err_B3</th><th>RA_B3</th><th>RA_err_B3</th><th>DEC_B3</th><th>DEC_err_B3</th><th>ap_flux_B3</th><th>ap_flux_err_B3</th><th>fwhm_maj_deconv_B3</th><th>fwhm_maj_deconv_err_B3</th><th>fwhm_min_deconv_B3</th><th>fwhm_min_deconv_err_B3</th><th>pa_deconv_B3</th><th>pa_deconv_err_B3</th><th>SNR_B3</th><th>RMS_B3</th><th>ar_deconv_B3</th><th>D_ID</th><th>fwhm_maj_B6</th><th>fwhm_maj_err_B6</th><th>fwhm_min_B6</th><th>fwhm_min_err_B6</th><th>pa_B6</th><th>pa_err_B6</th><th>gauss_amp_B6</th><th>gauss_amp_err_B6</th><th>RA_B6</th><th>RA_err_B6</th><th>DEC_B6</th><th>DEC_err_B6</th><th>ap_flux_B6</th><th>ap_flux_err_B6</th><th>fwhm_maj_deconv_B6</th><th>fwhm_maj_deconv_err_B6</th><th>fwhm_min_deconv_B6</th><th>fwhm_min_deconv_err_B6</th><th>pa_deconv_B6</th><th>pa_deconv_err_B6</th><th>SNR_B6</th><th>RMS_B6</th><th>ar_deconv_B6</th><th>fwhm_maj_B7</th><th>fwhm_maj_err_B7</th><th>fwhm_min_B7</th><th>fwhm_min_err_B7</th><th>pa_B7</th><th>pa_err_B7</th><th>gauss_amp_B7</th><th>gauss_amp_err_B7</th><th>RA_B7</th><th>RA_err_B7</th><th>DEC_B7</th><th>DEC_err_B7</th><th>ap_flux_B7</th><th>ap_flux_err_B7</th><th>fwhm_maj_deconv_B7</th><th>fwhm_maj_deconv_err_B7</th><th>fwhm_min_deconv_B7</th><th>fwhm_min_deconv_err_B7</th><th>pa_deconv_B7</th><th>pa_deconv_err_B7</th><th>SNR_B7</th><th>RMS_B7</th><th>ar_deconv_B7</th><th>upper_lim_B3</th><th>upper_lim_B6</th><th>upper_lim_B7</th><th>B6_flux_ulim</th><th>B7_flux_ulim</th></tr></thead>\n",
       "<thead><tr><th></th><th></th><th></th><th></th><th></th><th></th><th></th><th></th><th></th><th></th><th></th><th></th><th></th><th></th><th></th><th></th><th></th><th></th><th></th><th></th><th></th><th></th><th></th><th></th><th></th><th></th><th></th><th></th><th></th><th></th><th></th><th></th><th></th><th></th><th></th><th></th><th></th><th></th><th></th><th></th><th></th><th></th><th></th><th></th><th></th><th></th><th></th><th></th><th></th><th></th><th></th><th></th><th></th><th></th><th></th><th></th><th></th><th></th><th></th><th></th><th></th><th></th><th></th><th></th><th></th><th></th><th></th><th></th><th></th><th></th><th></th><th></th><th>AU</th><th>AU</th><th>AU</th><th></th><th></th></tr></thead>\n",
       "<thead><tr><th>int64</th><th>int32</th><th>float64</th><th>float64</th><th>float64</th><th>float64</th><th>float64</th><th>float64</th><th>float64</th><th>float64</th><th>float64</th><th>float64</th><th>float64</th><th>float64</th><th>float64</th><th>float64</th><th>float64</th><th>float64</th><th>float64</th><th>float64</th><th>float64</th><th>float64</th><th>float64</th><th>float64</th><th>float64</th><th>int32</th><th>float64</th><th>float64</th><th>float64</th><th>float64</th><th>float64</th><th>float64</th><th>float64</th><th>float64</th><th>float64</th><th>float64</th><th>float64</th><th>float64</th><th>float64</th><th>float64</th><th>float64</th><th>float64</th><th>float64</th><th>float64</th><th>float64</th><th>float64</th><th>float64</th><th>float64</th><th>float64</th><th>float64</th><th>float64</th><th>float64</th><th>float64</th><th>float64</th><th>float64</th><th>float64</th><th>float64</th><th>float64</th><th>float64</th><th>float64</th><th>float64</th><th>float64</th><th>float64</th><th>float64</th><th>float64</th><th>float64</th><th>float64</th><th>float64</th><th>float64</th><th>float64</th><th>float64</th><th>float64</th><th>float64</th><th>float64</th><th>float64</th><th>float64</th><th>float64</th></tr></thead>\n",
       "<tr><td>41</td><td>41</td><td>0.10506711313214062</td><td>0.001655787002007198</td><td>0.08544549420012472</td><td>0.0013465595157379307</td><td>40.748531304022265</td><td>0.05352349029527983</td><td>0.0007797641136222767</td><td>1.2288611564901236e-05</td><td>83.80726447594998</td><td>1.7531284550416592e-07</td><td>-5.3727749436508505</td><td>1.806810816594237e-07</td><td>0.0009069323141098084</td><td>5.204563707446018e-06</td><td>0.04774242527039455</td><td>0.001655787002007198</td><td>0.04047486272984116</td><td>0.0013465595157379307</td><td>-0.5331879578416203</td><td>0.05352349029527983</td><td>78.90163739636097</td><td>9.775051694305148e-06</td><td>1.1795574351681541</td><td>46</td><td>0.14154948323279043</td><td>0.006418096297410904</td><td>0.10517067376895163</td><td>0.0047684924561777866</td><td>2.592761622605398</td><td>0.10634766451734487</td><td>0.0014415627455892275</td><td>6.536473647212353e-05</td><td>83.80726259554115</td><td>7.567385394643028e-07</td><td>-5.372776018232102</td><td>5.629657540548359e-07</td><td>0.027470672550397614</td><td>8.1110983891764e-06</td><td>0.11653920733450066</td><td>0.006418096297410904</td><td>0.05561710996631059</td><td>0.0047684924561777866</td><td>-1.3185510027272271</td><td>0.10634766451734487</td><td>23.512672437593064</td><td>nan</td><td>2.095384089628046</td><td>nan</td><td>nan</td><td>nan</td><td>nan</td><td>nan</td><td>nan</td><td>nan</td><td>nan</td><td>nan</td><td>nan</td><td>nan</td><td>nan</td><td>nan</td><td>nan</td><td>nan</td><td>nan</td><td>nan</td><td>nan</td><td>nan</td><td>nan</td><td>nan</td><td>nan</td><td>nan</td><td>nan</td><td>nan</td><td>nan</td><td>nan</td><td>nan</td></tr>\n",
       "</table>"
      ],
      "text/plain": [
       "<Row index=41>\n",
       "  ID  B3_Seq     fwhm_maj_B3       fwhm_maj_err_B3        fwhm_min_B3        fwhm_min_err_B3          pa_B3             pa_err_B3           gauss_amp_B3        gauss_amp_err_B3          RA_B3             RA_err_B3               DEC_B3             DEC_err_B3            ap_flux_B3          ap_flux_err_B3     fwhm_maj_deconv_B3 fwhm_maj_deconv_err_B3  fwhm_min_deconv_B3 fwhm_min_deconv_err_B3     pa_deconv_B3      pa_deconv_err_B3        SNR_B3              RMS_B3           ar_deconv_B3     D_ID     fwhm_maj_B6       fwhm_maj_err_B6        fwhm_min_B6        fwhm_min_err_B6          pa_B6            pa_err_B6           gauss_amp_B6        gauss_amp_err_B6         RA_B6             RA_err_B6             DEC_B6             DEC_err_B6           ap_flux_B6         ap_flux_err_B6    fwhm_maj_deconv_B6 fwhm_maj_deconv_err_B6  fwhm_min_deconv_B6 fwhm_min_deconv_err_B6     pa_deconv_B6      pa_deconv_err_B6        SNR_B6        RMS_B6    ar_deconv_B6   fwhm_maj_B7 fwhm_maj_err_B7 fwhm_min_B7 fwhm_min_err_B7  pa_B7  pa_err_B7 gauss_amp_B7 gauss_amp_err_B7  RA_B7  RA_err_B7  DEC_B7 DEC_err_B7 ap_flux_B7 ap_flux_err_B7 fwhm_maj_deconv_B7 fwhm_maj_deconv_err_B7 fwhm_min_deconv_B7 fwhm_min_deconv_err_B7 pa_deconv_B7 pa_deconv_err_B7  SNR_B7  RMS_B7 ar_deconv_B7 upper_lim_B3 upper_lim_B6 upper_lim_B7 B6_flux_ulim B7_flux_ulim\n",
       "                                                                                                                                                                                                                                                                                                                                                                                                                                                                                                                                                                                                                                                                                                                                                                                                                                                                                                                                                                                                                                                                                                                                                                                                                                                                                                                       AU           AU           AU                               \n",
       "int64 int32        float64             float64              float64              float64             float64             float64              float64               float64              float64             float64               float64              float64               float64               float64              float64              float64               float64              float64               float64             float64            float64             float64             float64       int32       float64             float64              float64              float64             float64            float64              float64               float64             float64             float64             float64              float64              float64              float64             float64              float64               float64              float64               float64             float64            float64       float64      float64        float64       float64       float64       float64     float64  float64    float64        float64      float64  float64  float64  float64    float64      float64          float64              float64              float64              float64           float64        float64      float64 float64   float64      float64      float64      float64      float64      float64   \n",
       "----- ------ ------------------- -------------------- ------------------- --------------------- ------------------ ------------------- --------------------- ---------------------- ----------------- ---------------------- ------------------- --------------------- --------------------- --------------------- ------------------- ---------------------- ------------------- ---------------------- ------------------- ------------------- ----------------- --------------------- ------------------ ----- ------------------- -------------------- ------------------- --------------------- ----------------- ------------------- --------------------- --------------------- ----------------- --------------------- ------------------ --------------------- -------------------- ------------------- ------------------- ---------------------- ------------------- ---------------------- ------------------- ------------------- ------------------ ------- ----------------- ----------- --------------- ----------- --------------- ------- --------- ------------ ---------------- ------- --------- ------- ---------- ---------- -------------- ------------------ ---------------------- ------------------ ---------------------- ------------ ---------------- ------- ------- ------------ ------------ ------------ ------------ ------------ ------------\n",
       "   41     41 0.10506711313214062 0.001655787002007198 0.08544549420012472 0.0013465595157379307 40.748531304022265 0.05352349029527983 0.0007797641136222767 1.2288611564901236e-05 83.80726447594998 1.7531284550416592e-07 -5.3727749436508505 1.806810816594237e-07 0.0009069323141098084 5.204563707446018e-06 0.04774242527039455   0.001655787002007198 0.04047486272984116  0.0013465595157379307 -0.5331879578416203 0.05352349029527983 78.90163739636097 9.775051694305148e-06 1.1795574351681541    46 0.14154948323279043 0.006418096297410904 0.10517067376895163 0.0047684924561777866 2.592761622605398 0.10634766451734487 0.0014415627455892275 6.536473647212353e-05 83.80726259554115 7.567385394643028e-07 -5.372776018232102 5.629657540548359e-07 0.027470672550397614 8.1110983891764e-06 0.11653920733450066   0.006418096297410904 0.05561710996631059  0.0047684924561777866 -1.3185510027272271 0.10634766451734487 23.512672437593064     nan 2.095384089628046         nan             nan         nan             nan     nan       nan          nan              nan     nan       nan     nan        nan        nan            nan                nan                    nan                nan                    nan          nan              nan     nan     nan          nan          nan          nan          nan          nan          nan"
      ]
     },
     "execution_count": 16,
     "metadata": {},
     "output_type": "execute_result"
    }
   ],
   "source": [
    "tab[41]"
   ]
  },
  {
   "cell_type": "code",
   "execution_count": 17,
   "id": "63d972e9",
   "metadata": {},
   "outputs": [],
   "source": [
    "#tab.write('/home/jotter/nrao/summer_research_2018/tables/r0.5_catalog_bgfit_may21_ulim_mask.fits', overwrite=True)"
   ]
  },
  {
   "cell_type": "code",
   "execution_count": 20,
   "id": "3e66687e",
   "metadata": {},
   "outputs": [
    {
     "data": {
      "text/plain": [
       "(50, 9)"
      ]
     },
     "execution_count": 20,
     "metadata": {},
     "output_type": "execute_result"
    }
   ],
   "source": [
    "len(np.where(np.isnan(tab['ap_flux_B6'])==False)[0]), len(np.where(np.isnan(tab['B6_flux_ulim'])==False)[0])"
   ]
  },
  {
   "cell_type": "code",
   "execution_count": 30,
   "id": "94d05f6d",
   "metadata": {},
   "outputs": [],
   "source": [
    "tab = Table.read('/home/jotter/nrao/summer_research_2018/tables/r0.5_catalog_bgfit_may21_ulim.fits')"
   ]
  },
  {
   "cell_type": "code",
   "execution_count": 31,
   "id": "77dbfff6",
   "metadata": {},
   "outputs": [
    {
     "data": {
      "text/plain": [
       "0.11653920733450066"
      ]
     },
     "execution_count": 31,
     "metadata": {},
     "output_type": "execute_result"
    }
   ],
   "source": [
    "tab['fwhm_maj_deconv_B6'][41]"
   ]
  },
  {
   "cell_type": "code",
   "execution_count": null,
   "id": "964aa50e",
   "metadata": {},
   "outputs": [],
   "source": []
  }
 ],
 "metadata": {
  "kernelspec": {
   "display_name": "Python 3",
   "language": "python",
   "name": "python3"
  },
  "language_info": {
   "codemirror_mode": {
    "name": "ipython",
    "version": 3
   },
   "file_extension": ".py",
   "mimetype": "text/x-python",
   "name": "python",
   "nbconvert_exporter": "python",
   "pygments_lexer": "ipython3",
   "version": "3.7.10"
  }
 },
 "nbformat": 4,
 "nbformat_minor": 5
}
