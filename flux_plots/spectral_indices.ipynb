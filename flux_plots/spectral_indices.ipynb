{
 "cells": [
  {
   "cell_type": "code",
   "execution_count": 1,
   "metadata": {},
   "outputs": [],
   "source": [
    "from astropy.table import Table, join\n",
    "import numpy as np\n",
    "import matplotlib.pyplot as plt\n",
    "import astropy.units as u\n",
    "from astropy.coordinates import SkyCoord\n",
    "import astropy.constants as const"
   ]
  },
  {
   "cell_type": "code",
   "execution_count": 2,
   "metadata": {},
   "outputs": [],
   "source": [
    "freqs = [98, 223.5 ,339.7672758867]\n",
    "eisfreq = (const.c / (850*u.micron)).to(u.GHz).value\n",
    "data = Table.read('/home/jotter/nrao/summer_research_2018/tables/r0.5_catalog_bgfit_may21_ulim_mask.fits')\n",
    "calc = Table.read('/home/jotter/nrao/summer_research_2018/tables/r0.5_may21_calc_vals_mask_alpha.fits')"
   ]
  },
  {
   "cell_type": "code",
   "execution_count": 3,
   "metadata": {},
   "outputs": [],
   "source": [
    "def specind_compute(freq1, freq2, flux1, flux2, flux1_err, flux2_err):\n",
    "    freqdiff = np.log10(freq2) - np.log10(freq1)\n",
    "    specind = (np.log10(flux2)-np.log10(flux1))/freqdiff\n",
    "    error = np.sqrt((flux1_err/(freqdiff*np.log(10)*flux1))**2 + (flux2_err/(freqdiff*np.log(10)*flux2))**2)\n",
    "    return specind, error"
   ]
  },
  {
   "cell_type": "code",
   "execution_count": 4,
   "metadata": {},
   "outputs": [],
   "source": [
    "b3flux = data['ap_flux_B3'].data\n",
    "b3flux_err = data['ap_flux_err_B3'].data\n",
    "b6flux = data['ap_flux_B6'].data\n",
    "b6flux_err = data['ap_flux_err_B6'].data\n",
    "b7flux = data['ap_flux_B7'].data\n",
    "b7flux_err = data['ap_flux_err_B7'].data"
   ]
  },
  {
   "cell_type": "code",
   "execution_count": 5,
   "metadata": {},
   "outputs": [],
   "source": [
    "b6b7_specind, b6b7_specind_err = specind_compute(freqs[2],freqs[1],b7flux, b6flux, b7flux_err, b6flux_err)\n",
    "b3b6_specind, b3b6_specind_err = specind_compute(freqs[1],freqs[0],b6flux, b3flux, b6flux_err, b3flux_err)"
   ]
  },
  {
   "cell_type": "code",
   "execution_count": 6,
   "metadata": {},
   "outputs": [
    {
     "name": "stdout",
     "output_type": "stream",
     "text": [
      "50 33\n"
     ]
    }
   ],
   "source": [
    "b3b6_ind = np.where(np.isnan(b3b6_specind) == False)[0]\n",
    "b6b7_ind = np.where(np.isnan(b6b7_specind) == False)[0]\n",
    "print(len(b3b6_ind), len(b6b7_ind))"
   ]
  },
  {
   "cell_type": "code",
   "execution_count": 7,
   "metadata": {},
   "outputs": [],
   "source": [
    "sys_err = 0.20 #20% systematic error\n",
    "\n",
    "b3flux = data['ap_flux_B3'].data\n",
    "b3flux_err = np.sqrt(data['ap_flux_err_B3'].data**2 + (sys_err*b3flux)**2)\n",
    "b6flux = data['ap_flux_B6'].data\n",
    "b6flux_err = np.sqrt(data['ap_flux_err_B6'].data**2 + (sys_err*b6flux)**2)\n",
    "b7flux = data['ap_flux_B7'].data\n",
    "b7flux_err = np.sqrt(data['ap_flux_err_B7'].data**2 + (sys_err*b7flux)**2)"
   ]
  },
  {
   "cell_type": "code",
   "execution_count": 8,
   "metadata": {},
   "outputs": [],
   "source": [
    "b6b7_specind, b6b7_specind_err_sys = specind_compute(freqs[2],freqs[1],b7flux, b6flux, b7flux_err, b6flux_err)\n",
    "b3b6_specind, b3b6_specind_err_sys = specind_compute(freqs[1],freqs[0],b6flux, b3flux, b6flux_err, b3flux_err)"
   ]
  },
  {
   "cell_type": "code",
   "execution_count": 9,
   "metadata": {},
   "outputs": [
    {
     "name": "stdout",
     "output_type": "stream",
     "text": [
      "[37 38 43 53 56 58]\n"
     ]
    }
   ],
   "source": [
    "##get spectral index upper limits:\n",
    "b6_ulim_ind = np.where(np.isnan(data['B6_flux_ulim']) == False)[0] #upper limit for B6\n",
    "b7_nodet_ind = np.where(np.isnan(data['ap_flux_B7']) == True)[0] #no detection in B7\n",
    "ulim_ind = np.intersect1d(b6_ulim_ind, b7_nodet_ind)\n",
    "fit_ind = np.where(np.isnan(calc['alpha_fit'])==False)[0]\n",
    "ulim_ind = np.setdiff1d(ulim_ind, fit_ind)\n",
    "print(ulim_ind)\n",
    "\n",
    "b3flux = data['ap_flux_B3'][ulim_ind] * 1000\n",
    "b3flux_err = data['ap_flux_err_B3'][ulim_ind] * 1000 #errors don't actually matter here\n",
    "b6ulim = data['B6_flux_ulim'][ulim_ind]\n",
    "b6ulim_err = data['B6_flux_ulim'][ulim_ind] * 0.2\n",
    "b7ulim = data['B7_flux_ulim'][ulim_ind]\n",
    "b7ulim_err = data['B7_flux_ulim'][ulim_ind] * 0.2\n",
    "\n",
    "b3b6_ulim, b3b6_ulim_err = specind_compute(freqs[1],freqs[0],b6ulim, b3flux, b6ulim_err, b3flux_err)\n",
    "b3b7_ulim, b3b7_ulim_err = specind_compute(freqs[2],freqs[0],b7ulim, b3flux, b7ulim_err, b3flux_err)"
   ]
  },
  {
   "cell_type": "code",
   "execution_count": 10,
   "metadata": {},
   "outputs": [],
   "source": [
    "calc['alpha_ulim_B3B6'] = np.repeat(np.nan, len(calc))\n",
    "calc['alpha_ulim_B3B6'][ulim_ind] = b3b6_ulim"
   ]
  },
  {
   "cell_type": "code",
   "execution_count": 11,
   "metadata": {},
   "outputs": [],
   "source": [
    "eisner_full = Table.read('/home/jotter/nrao/tables/eisner_tbl.txt', format='ascii')\n",
    "eisner_coord = Table.read('/home/jotter/nrao/tables/eis_coord_table.fits')\n",
    "match_eis = Table.read('/home/jotter/nrao/tables/eis_r0.5_may21_match.fits')\n",
    "nondet_eis_match = Table.read('/home/jotter/nrao/tables/eis_nondet_ir_nondet.fits')\n",
    "\n",
    "match_eis_ind = []\n",
    "\n",
    "for ID in match_eis['ID_2']:\n",
    "    match_eis_ind.append(np.where(eisner_full['ID'] == ID.strip())[0][0])\n",
    "    \n",
    "eis_match = eisner_full[match_eis_ind]\n",
    "\n",
    "eis_flux = []\n",
    "eis_flux_err = []\n",
    "for fstr in eis_match['F_lambda 850mum']:\n",
    "    split = fstr.split(' ')\n",
    "    eis_flux.append(float(split[0]))\n",
    "    eis_flux_err.append(float(split[-1]))\n",
    "    \n",
    "eis_flux = np.array(eis_flux)\n",
    "eis_flux_err = np.array(eis_flux_err)\n",
    "b3flux = match_eis['ap_flux_B3'] * 1000\n",
    "b3flux_err = np.sqrt((match_eis['ap_flux_err_B3']*1000)**2 + (b3flux*0.2)**2)\n",
    "b3eis_specind, b3eis_specind_err = specind_compute(freqs[0], eisfreq, b3flux, eis_flux, b3flux_err, eis_flux_err)"
   ]
  },
  {
   "cell_type": "code",
   "execution_count": 12,
   "metadata": {},
   "outputs": [],
   "source": [
    "calc['alpha_B3eis'] = np.repeat(np.nan, len(calc))\n",
    "calc['alpha_B3eis_err'] = np.repeat(np.nan, len(calc))\n",
    "b3eis_ind = match_eis['ID_1']\n",
    "#b3eis_ind = np.setdiff1d(match_eis['ID_1'], np.array([4,6,11]))\n",
    "calc['alpha_B3eis'][b3eis_ind] = b3eis_specind\n",
    "calc['alpha_B3eis_err'][b3eis_ind] = b3eis_specind_err"
   ]
  },
  {
   "cell_type": "code",
   "execution_count": 13,
   "metadata": {},
   "outputs": [],
   "source": [
    "#calc.write('/home/jotter/nrao/summer_research_2018/tables/r0.5_may21_calc_vals_mask_alpha_ulim.fits', overwrite=True)"
   ]
  },
  {
   "cell_type": "code",
   "execution_count": 14,
   "metadata": {},
   "outputs": [
    {
     "data": {
      "text/html": [
       "<i>Row index=41</i>\n",
       "<table id=\"table139691134460816\">\n",
       "<thead><tr><th>ID</th><th>int_flux_B3</th><th>int_flux_err_B3</th><th>int_flux_B6</th><th>int_flux_err_B6</th><th>int_flux_B7</th><th>int_flux_err_B7</th><th>inclination_B3</th><th>inclination_err_B3</th><th>inclination_B6</th><th>inclination_err_B6</th><th>inclination_B7</th><th>inclination_err_B7</th><th>lower_lum_B3</th><th>lower_lum_B6</th><th>lower_lum_B7</th><th>dust_mass_B3</th><th>dust_mass_err_B3</th><th>dust_mass_B6</th><th>dust_mass_err_B6</th><th>dust_mass_B7</th><th>dust_mass_err_B7</th><th>alpha_B3B6</th><th>alpha_B3B6_err</th><th>alpha_B6B7</th><th>alpha_B6B7_err</th><th>dust_mass_ulim_B6</th><th>dust_mass_ulim_B7</th><th>alpha_fit</th><th>alpha_fit_err</th><th>alpha_ulim_B3B6</th><th>alpha_B3eis</th><th>alpha_B3eis_err</th></tr></thead>\n",
       "<thead><tr><th></th><th></th><th></th><th></th><th></th><th></th><th></th><th>deg</th><th>deg</th><th>deg</th><th>deg</th><th>deg</th><th>deg</th><th>solLum</th><th>solLum</th><th>solLum</th><th></th><th></th><th></th><th></th><th></th><th></th><th></th><th></th><th></th><th></th><th></th><th></th><th></th><th></th><th></th><th></th><th></th></tr></thead>\n",
       "<thead><tr><th>int32</th><th>float64</th><th>float64</th><th>float64</th><th>float64</th><th>float64</th><th>float64</th><th>float64</th><th>float64</th><th>float64</th><th>float64</th><th>float64</th><th>float64</th><th>float64</th><th>float64</th><th>float64</th><th>float64</th><th>float64</th><th>float64</th><th>float64</th><th>float64</th><th>float64</th><th>float64</th><th>float64</th><th>float64</th><th>float64</th><th>float64</th><th>float64</th><th>float64</th><th>float64</th><th>float64</th><th>float64</th><th>float64</th></tr></thead>\n",
       "<tr><td>41</td><td>0.0010162103327094466</td><td>2.773844494233732e-05</td><td>0.01166569169106069</td><td>0.0009161555951203105</td><td>nan</td><td>nan</td><td>32.029451769754</td><td>4.40158965338908</td><td>61.494737640987424</td><td>3.1707610562344626</td><td>nan</td><td>nan</td><td>0.0006496284753283785</td><td>6.875362555925028e-05</td><td>nan</td><td>51.99917275755524</td><td>0.29840485683523715</td><td>155.85587259772242</td><td>0.046018615483543045</td><td>nan</td><td>nan</td><td>4.137099315407814</td><td>0.34314167966456444</td><td>nan</td><td>nan</td><td>nan</td><td>nan</td><td>nan</td><td>nan</td><td>nan</td><td>nan</td><td>nan</td></tr>\n",
       "</table>"
      ],
      "text/plain": [
       "<Row index=41>\n",
       "  ID       int_flux_B3         int_flux_err_B3        int_flux_B6        int_flux_err_B6    int_flux_B7 int_flux_err_B7  inclination_B3 inclination_err_B3   inclination_B6   inclination_err_B6 inclination_B7 inclination_err_B7      lower_lum_B3          lower_lum_B6     lower_lum_B7    dust_mass_B3     dust_mass_err_B3     dust_mass_B6      dust_mass_err_B6   dust_mass_B7 dust_mass_err_B7     alpha_B3B6       alpha_B3B6_err   alpha_B6B7 alpha_B6B7_err dust_mass_ulim_B6 dust_mass_ulim_B7 alpha_fit alpha_fit_err alpha_ulim_B3B6 alpha_B3eis alpha_B3eis_err\n",
       "                                                                                                                              deg              deg                deg                deg              deg              deg                 solLum                solLum           solLum                                                                                                                                                                                                                                                                                       \n",
       "int32        float64               float64              float64              float64          float64       float64         float64          float64            float64            float64          float64          float64              float64               float64          float64         float64            float64            float64             float64          float64        float64           float64            float64        float64      float64          float64           float64       float64     float64        float64       float64       float64    \n",
       "----- --------------------- --------------------- ------------------- --------------------- ----------- --------------- --------------- ------------------ ------------------ ------------------ -------------- ------------------ --------------------- --------------------- ------------ ----------------- ------------------- ------------------ -------------------- ------------ ---------------- ----------------- ------------------- ---------- -------------- ----------------- ----------------- --------- ------------- --------------- ----------- ---------------\n",
       "   41 0.0010162103327094466 2.773844494233732e-05 0.01166569169106069 0.0009161555951203105         nan             nan 32.029451769754   4.40158965338908 61.494737640987424 3.1707610562344626            nan                nan 0.0006496284753283785 6.875362555925028e-05          nan 51.99917275755524 0.29840485683523715 155.85587259772242 0.046018615483543045          nan              nan 4.137099315407814 0.34314167966456444        nan            nan               nan               nan       nan           nan             nan         nan             nan"
      ]
     },
     "execution_count": 14,
     "metadata": {},
     "output_type": "execute_result"
    }
   ],
   "source": [
    "calc[41]"
   ]
  },
  {
   "cell_type": "code",
   "execution_count": null,
   "metadata": {},
   "outputs": [],
   "source": []
  },
  {
   "cell_type": "code",
   "execution_count": 15,
   "metadata": {},
   "outputs": [],
   "source": [
    "nondet_fov_ind = []\n",
    "eisner_full_id = np.array([idstr.strip() for idstr in eisner_full['ID']])\n",
    "for nondet_id in nondet_eis_match['ID']:\n",
    "    nondet_id = nondet_id.strip()\n",
    "    ind = np.where(eisner_full_id == nondet_id)[0][0]\n",
    "    nondet_fov_ind.append(ind)\n",
    "\n",
    "nondet_eis_full = eisner_full[np.array(nondet_fov_ind)]"
   ]
  },
  {
   "cell_type": "code",
   "execution_count": 16,
   "metadata": {},
   "outputs": [],
   "source": [
    "b3_ulim = nondet_eis_match['B3_flux_ulim']\n",
    "b3_ulim_err = b3_ulim*0.2\n",
    "\n",
    "eis_flux_nd = []\n",
    "eis_flux_err_nd = []\n",
    "for fstr in nondet_eis_full['F_lambda 850mum']:\n",
    "    split = fstr.split(' ')\n",
    "    eis_flux_nd.append(float(split[0]))\n",
    "    eis_flux_err_nd.append(float(split[-1]))\n",
    "eis_flux_nd  = np.array(eis_flux_nd)\n",
    "eis_flux_err_nd = np.array(eis_flux_err_nd)\n",
    "\n",
    "b3eis_alpha_llim, b3eis_alpha_llim_err = specind_compute(freqs[0], eisfreq, b3_ulim, eis_flux_nd, b3_ulim_err, eis_flux_err_nd)"
   ]
  },
  {
   "cell_type": "code",
   "execution_count": 17,
   "metadata": {},
   "outputs": [
    {
     "name": "stdout",
     "output_type": "stream",
     "text": [
      "39 33\n",
      "86 39 14 33 6\n"
     ]
    },
    {
     "data": {
      "image/png": "[encoded data removed]",
      "text/plain": [
       "<Figure size 576x432 with 1 Axes>"
      ]
     },
     "metadata": {
      "needs_background": "light"
     },
     "output_type": "display_data"
    }
   ],
   "source": [
    "##creating spectral index histogram - including eisner spectral indices\n",
    "\n",
    "calc = Table.read('/home/jotter/nrao/summer_research_2018/tables/r0.5_may21_calc_vals_mask_alpha_ulim.fits')\n",
    "\n",
    "plt.rcParams.update({'font.size': 16})\n",
    "\n",
    "fig = plt.figure(figsize=(8,6))\n",
    "specind_fit = calc['alpha_fit']\n",
    "fit_ind = np.where(np.isnan(specind_fit) == False)[0]\n",
    "b3b6_only = np.setdiff1d(b3b6_ind, fit_ind)\n",
    "eis_ind = np.where(np.isnan(calc['alpha_B3eis'])==False)[0]\n",
    "eis_only = np.setdiff1d(eis_ind, fit_ind)\n",
    "\n",
    "specind_fit = specind_fit[fit_ind]\n",
    "specind_fit_err = calc['alpha_fit_err'][fit_ind]\n",
    "specind_b3b6_only = calc['alpha_B3B6'][b3b6_only]\n",
    "specind_b3b6_only_err = calc['alpha_B3B6_err'][b3b6_only]\n",
    "print(len(eis_ind), len(eis_only))\n",
    "specind_eis_only = calc['alpha_B3eis'][eis_only]\n",
    "specind_eis_only_err = calc['alpha_B3eis_err'][eis_only]\n",
    "\n",
    "total_alpha = np.concatenate((specind_fit,specind_b3b6_only, specind_eis_only))\n",
    "total_alpha_err = np.concatenate((specind_fit_err, specind_b3b6_only_err, specind_eis_only_err))\n",
    "bins = np.arange(-1.5, 5, 0.5)\n",
    "plt.hist(total_alpha, bins=bins,color='tab:purple', edgecolor='k')\n",
    "\n",
    "ulim_alpha = calc['alpha_ulim_B3B6']\n",
    "ulim_alpha = ulim_alpha[np.isnan(ulim_alpha) == False]\n",
    "plt.hist(ulim_alpha, bins=bins,color='gray', edgecolor='k', alpha=0.5, hatch='O', label='Upper limits', rwidth=0.8)\n",
    "\n",
    "plt.hist(b3eis_alpha_llim, bins=bins,color='gray', edgecolor='k', alpha=0.5, hatch='/', label='Lower limits', rwidth=0.8)\n",
    "plt.legend()\n",
    "plt.xlabel('Spectral Index')\n",
    "plt.ylabel('Number')\n",
    "print(len(total_alpha), len(fit_ind), len(b3b6_only), len(specind_eis_only), len(ulim_alpha))\n",
    "#plt.savefig('/home/jotter/nrao/plots/alpha_hist.pdf', bbox_inches='tight')"
   ]
  },
  {
   "cell_type": "code",
   "execution_count": 18,
   "metadata": {},
   "outputs": [],
   "source": [
    "b3b6_alpha = calc['alpha_B3B6']\n",
    "b3b6_alpha_err = calc['alpha_B3B6_err']\n",
    "b6b7_alpha = calc['alpha_B6B7']\n",
    "b6b7_alpha_err = calc['alpha_B6B7_err']\n",
    "alpha = calc['alpha_fit']\n",
    "alpha_err = calc['alpha_fit_err']"
   ]
  },
  {
   "cell_type": "code",
   "execution_count": 19,
   "metadata": {},
   "outputs": [
    {
     "name": "stdout",
     "output_type": "stream",
     "text": [
      "86\n",
      "[ 0  1  2  3  4  5  6  8  9 10 11 12 13 14 15 16 17 18 19 20 21 22 23 24\n",
      " 25 26 28 29 30 31 32 33 34 35 36 37 38 39 41 43 46 48 49 50 51 52 54 58\n",
      " 59 60 63 67 69 70 71 76 77 78 83] 59\n",
      "[40 42 44 45 47] 5\n",
      "[3.60049339 4.35475107 4.13709932 3.2703883  3.12805326]\n",
      "[ 7 27 53 55 56 57 61 62 64 65 66 68 72 73 74 75 79 80 81 82 84 85] 22\n",
      "[ 0  1  2  3  4  5  6  8  9 10 11 12 14 15 16 18 19 20 22 23 24 25 26 28\n",
      " 29 30 31 32 33 34 35 36 37 38 39 40 41 42 43 44 45 46 47 48 49 50 52 58\n",
      " 60 70] 50\n",
      "[ 7 13 17 21 27 51 53 54 55 56 57 59 61 62 63 64 65 66 67 68 69 71 72 73\n",
      " 74 75 76 77 78 79 80 81 82 83 84 85] 36\n",
      "[1.56847467 1.19939063 1.10556168 1.98181565 2.00848386 2.12758724\n",
      " 2.05153496 2.04327796 2.09011784 2.83220038 1.59046797 2.34825301\n",
      " 1.57548438 2.39286437 2.20403329 2.40175332 2.13171912 2.35214808\n",
      " 1.89971481 1.9717476  1.77621602 2.32700557 1.90306809 2.68306769\n",
      " 1.7294879  2.42278457 2.01318233 1.71913237 2.73936137 1.56057699\n",
      " 2.12560587 1.37614491 2.00020626 2.12653567 2.28672315 3.60049339\n",
      " 1.83138712 4.35475107 2.23389883 4.13709932 3.2703883  2.36742273\n",
      " 3.12805326 2.59936114 2.45225294 2.85605236 2.26038354 1.99004992\n",
      " 1.94787367 2.02493948]\n"
     ]
    }
   ],
   "source": [
    "##now find where the vaues agree with 2\n",
    "print(len(total_alpha))\n",
    "\n",
    "alpha2 = np.where(np.abs(total_alpha - 2) <=  3*total_alpha_err)[0]\n",
    "print(alpha2, len(alpha2))\n",
    "\n",
    "alpha_close2 = np.where(np.abs(total_alpha - 2) <= 0.5)[0]\n",
    "#print(alpha_close2, len(alpha_close2))\n",
    "\n",
    "alphag2 = np.where(total_alpha - 2 >  3*total_alpha_err)[0]\n",
    "print(alphag2, len(alphag2))\n",
    "print(total_alpha[alphag2])\n",
    "\n",
    "alphal2 = np.where(2 - total_alpha > 3*total_alpha_err)[0]\n",
    "print(alphal2, len(alphal2))\n",
    "\n",
    "alpha24 = np.where(2.4 - total_alpha <=  3*total_alpha_err)[0]\n",
    "print(alpha24, len(alpha24))\n",
    "\n",
    "alphal24 = np.where(2.4 - total_alpha >  3*total_alpha_err)[0]\n",
    "print(alphal24, len(alphal24))\n",
    "print(total_alpha[alpha24])"
   ]
  },
  {
   "cell_type": "code",
   "execution_count": 20,
   "metadata": {},
   "outputs": [
    {
     "name": "stdout",
     "output_type": "stream",
     "text": [
      "[64 65 74 75 79 80 81 82 85] 9\n"
     ]
    }
   ],
   "source": [
    "alphal0 = np.where(total_alpha + 3*total_alpha_err <= 0)[0]\n",
    "print(alphal0, len(alphal0))"
   ]
  },
  {
   "cell_type": "code",
   "execution_count": null,
   "metadata": {},
   "outputs": [],
   "source": []
  },
  {
   "cell_type": "code",
   "execution_count": null,
   "metadata": {},
   "outputs": [],
   "source": []
  },
  {
   "cell_type": "code",
   "execution_count": null,
   "metadata": {},
   "outputs": [],
   "source": []
  },
  {
   "cell_type": "code",
   "execution_count": null,
   "metadata": {},
   "outputs": [],
   "source": []
  },
  {
   "cell_type": "code",
   "execution_count": null,
   "metadata": {},
   "outputs": [],
   "source": []
  },
  {
   "cell_type": "code",
   "execution_count": 21,
   "metadata": {},
   "outputs": [
    {
     "name": "stdout",
     "output_type": "stream",
     "text": [
      "   ID_2  \n",
      "---------\n",
      "HC447    \n",
      "  ID \n",
      "-----\n",
      "HC447\n",
      "F_lambda 850mum\n",
      "---------------\n",
      "   1.6 +or- 0.3\n"
     ]
    }
   ],
   "source": [
    "match_eis_ind = np.where(match_eis['ID_1'] == 19)\n",
    "print(match_eis[match_eis_ind]['ID_2'])\n",
    "print(eis_match[match_eis_ind]['ID'])\n",
    "print(eis_match[match_eis_ind]['F_lambda 850mum'])"
   ]
  },
  {
   "cell_type": "code",
   "execution_count": 22,
   "metadata": {},
   "outputs": [],
   "source": [
    "eis_fdust = []\n",
    "eis_fdust_err = []\n",
    "for fstr in eis_match['F_dust']:\n",
    "    split = fstr.split(' ')\n",
    "    eis_fdust.append(float(split[0]))\n",
    "    eis_fdust_err.append(float(split[-1]))\n",
    "    \n",
    "eis_fdust = np.array(eis_fdust)\n",
    "    \n",
    "ff_ind = np.where(eis_fdust == 0.0)\n",
    "ff_cont_ind = np.where(eis_flux - eis_fdust > eis_flux_err)"
   ]
  },
  {
   "cell_type": "code",
   "execution_count": 23,
   "metadata": {},
   "outputs": [
    {
     "name": "stdout",
     "output_type": "stream",
     "text": [
      "     ap_flux_B3     \n",
      "--------------------\n",
      "-0.09420096630005637\n",
      " -0.3433744997252077\n",
      "  0.2837327720924503\n",
      "-0.36415320157576564\n",
      "-0.28530526017089464\n",
      " -0.4474587353022407\n",
      "-0.10261329548619313\n",
      "     ap_flux_B3     \n",
      "--------------------\n",
      "    1.53572734375194\n",
      "  0.8171412373229117\n",
      "-0.09420096630005637\n",
      " -0.3433744997252077\n",
      "  0.2837327720924503\n",
      "-0.36415320157576564\n",
      "-0.28530526017089464\n",
      " -0.1509770211963688\n",
      " -0.4474587353022407\n",
      "-0.20742094729553096\n",
      "-0.10422174750565016\n",
      "  0.6205516435844293\n",
      "-0.10261329548619313\n"
     ]
    }
   ],
   "source": [
    "print(b3eis_specind[ff_ind] + 3*b3eis_specind_err[ff_ind])\n",
    "print(b3eis_specind[ff_cont_ind] + 3*b3eis_specind_err[ff_cont_ind])"
   ]
  },
  {
   "cell_type": "code",
   "execution_count": 24,
   "metadata": {},
   "outputs": [
    {
     "data": {
      "text/plain": [
       "(13, 39)"
      ]
     },
     "execution_count": 24,
     "metadata": {},
     "output_type": "execute_result"
    }
   ],
   "source": [
    "len(ff_cont_ind[0]), len(eis_flux)"
   ]
  },
  {
   "cell_type": "code",
   "execution_count": 25,
   "metadata": {},
   "outputs": [
    {
     "name": "stdout",
     "output_type": "stream",
     "text": [
      "     ap_flux_B3     \n",
      "--------------------\n",
      " -0.5684123565342065\n",
      "  -0.830681036185685\n",
      "-0.31025211310924783\n",
      " -0.8409619763716555\n",
      " -0.7935377532842277\n",
      " -0.9294026417439554\n",
      " -0.5909877494745314\n"
     ]
    },
    {
     "name": "stderr",
     "output_type": "stream",
     "text": [
      "/home/jotter/anaconda3/lib/python3.7/site-packages/ipykernel_launcher.py:3: RuntimeWarning: divide by zero encountered in log10\n",
      "  This is separate from the ipykernel package so we can avoid doing imports until\n",
      "/home/jotter/anaconda3/lib/python3.7/site-packages/ipykernel_launcher.py:4: RuntimeWarning: divide by zero encountered in true_divide\n",
      "  after removing the cwd from sys.path.\n"
     ]
    }
   ],
   "source": [
    "## get spectral ind\n",
    "\n",
    "eis_flux = np.array(eis_flux)\n",
    "eis_flux_err = np.array(eis_flux_err)\n",
    "b3flux = match_eis['ap_flux_B3'] * 1000\n",
    "b3flux_err = np.sqrt((match_eis['ap_flux_err_B3']*1000)**2 + (b3flux*0.2)**2)\n",
    "b3eis_specind, b3eis_specind_err = specind_compute(freqs[0], eisfreq, b3flux, eis_flux, b3flux_err, eis_flux_err)\n",
    "\n",
    "eis_fdust = np.array(eis_fdust)\n",
    "eis_fdust_err = np.array(eis_fdust_err)\n",
    "b3eis_specind_fdust, b3eis_specind_err_fdust = specind_compute(freqs[0], eisfreq, b3flux, eis_fdust, b3flux_err, eis_fdust_err)\n",
    "\n",
    "nodust_ind = np.where(np.isinf(b3eis_specind_fdust)==True)\n",
    "print(b3eis_specind[nodust_ind])"
   ]
  },
  {
   "cell_type": "code",
   "execution_count": 26,
   "metadata": {},
   "outputs": [
    {
     "name": "stdout",
     "output_type": "stream",
     "text": [
      "      ap_flux_B6     \n",
      "---------------------\n",
      " 0.014157745500997833\n",
      " 0.026972430233134052\n",
      "0.0014215083933372507\n",
      "  0.04105631749631381\n",
      "ID_1\n",
      "----\n",
      "   4\n",
      "   6\n",
      "  11\n",
      "  15\n",
      "[ 6.7 13.   6.6 17.3]\n",
      "[0.7 1.3 0.6 2. ]\n"
     ]
    }
   ],
   "source": [
    "b6flux = match_eis['ap_flux_B6']\n",
    "print(b6flux[np.isnan(b6flux)==False])\n",
    "print(match_eis['ID_1'][np.isnan(b6flux)==False])\n",
    "print(eis_flux[np.isnan(b6flux)==False])\n",
    "print(eis_flux_err[np.isnan(b6flux)==False])"
   ]
  },
  {
   "cell_type": "code",
   "execution_count": 27,
   "metadata": {},
   "outputs": [
    {
     "data": {
      "text/plain": [
       "(array([6., 3., 1., 1., 1., 1., 2., 7., 9., 8.]),\n",
       " array([-0.92940264, -0.63396843, -0.33853422, -0.04310001,  0.25233421,\n",
       "         0.54776842,  0.84320263,  1.13863684,  1.43407105,  1.72950526,\n",
       "         2.02493948]),\n",
       " <BarContainer object of 10 artists>)"
      ]
     },
     "execution_count": 27,
     "metadata": {},
     "output_type": "execute_result"
    },
    {
     "data": {
      "image/png": "[encoded data removed]",
      "text/plain": [
       "<Figure size 432x288 with 1 Axes>"
      ]
     },
     "metadata": {
      "needs_background": "light"
     },
     "output_type": "display_data"
    }
   ],
   "source": [
    "plt.hist(b3eis_specind)"
   ]
  },
  {
   "cell_type": "code",
   "execution_count": 28,
   "metadata": {},
   "outputs": [
    {
     "data": {
      "text/plain": [
       "(array([ 1.,  0.,  1.,  1.,  0.,  2.,  0.,  3., 11., 13.]),\n",
       " array([-2.70223877, -2.22952095, -1.75680312, -1.2840853 , -0.81136747,\n",
       "        -0.33864965,  0.13406818,  0.606786  ,  1.07950383,  1.55222165,\n",
       "         2.02493948]),\n",
       " <BarContainer object of 10 artists>)"
      ]
     },
     "execution_count": 28,
     "metadata": {},
     "output_type": "execute_result"
    },
    {
     "data": {
      "image/png": "[encoded data removed]",
      "text/plain": [
       "<Figure size 432x288 with 1 Axes>"
      ]
     },
     "metadata": {
      "needs_background": "light"
     },
     "output_type": "display_data"
    }
   ],
   "source": [
    "plt.hist(b3eis_specind_fdust[b3eis_specind_fdust > -10])"
   ]
  },
  {
   "cell_type": "code",
   "execution_count": 29,
   "metadata": {},
   "outputs": [
    {
     "data": {
      "text/plain": [
       "(-0.5909877494745314,\n",
       " 0.1627914846627794,\n",
       " 3.836767929263917,\n",
       " 0.7709563611069719,\n",
       " 1.8,\n",
       " 0.1)"
      ]
     },
     "execution_count": 29,
     "metadata": {},
     "output_type": "execute_result"
    }
   ],
   "source": [
    "b3eis_specind[-1], b3eis_specind_err[-1], b3flux[-1], b3flux_err[-1], eis_flux[-1], eis_flux_err[-1]"
   ]
  },
  {
   "cell_type": "code",
   "execution_count": 30,
   "metadata": {},
   "outputs": [
    {
     "data": {
      "text/plain": [
       "(array([ 0,  2,  3,  4,  5,  7,  9, 10, 14, 15, 17, 18, 19, 21, 25, 26, 27,\n",
       "        28, 32, 33, 34, 35, 37, 38]),)"
      ]
     },
     "execution_count": 30,
     "metadata": {},
     "output_type": "execute_result"
    }
   ],
   "source": [
    "np.where(np.abs(2 - b3eis_specind) > 3*b3eis_specind_err)"
   ]
  },
  {
   "cell_type": "code",
   "execution_count": 31,
   "metadata": {},
   "outputs": [],
   "source": [
    "##unmatched eisner sources:\n",
    "eisner_full_id = [st.strip() for st in eisner_full['ID']]\n",
    "matched_eis_id = [st.strip() for st in match_eis['ID_2']]\n",
    "nondet_eis = np.setdiff1d(eisner_full_id, matched_eis_id)\n",
    "\n",
    "nondet_eis_ind = []\n",
    "for ID in nondet_eis:\n",
    "    nondet_eis_ind.append(np.where(eisner_full['ID'] == ID.strip())[0][0])\n",
    "    \n",
    "nondet_eis = eisner_coord[nondet_eis_ind]\n",
    "#nondet_eis.write('/home/jotter/nrao/tables/eis_nondet_full.fits', overwrite=True)"
   ]
  },
  {
   "cell_type": "code",
   "execution_count": 32,
   "metadata": {},
   "outputs": [],
   "source": [
    "nondet_coord = SkyCoord(nondet_eis['RA'], nondet_eis['DEC'], unit=u.degree)\n",
    "srcI = SkyCoord(data['RA_B3'][26], data['DEC_B3'][26], unit=u.degree)\n",
    "\n",
    "dist = nondet_coord.separation(srcI)\n",
    "fov_ind = np.where(dist < 65*u.arcsecond)"
   ]
  },
  {
   "cell_type": "code",
   "execution_count": 33,
   "metadata": {},
   "outputs": [],
   "source": [
    "nondet_eis_fov = nondet_eis[fov_ind]\n",
    "#nondet_eis_fov.write('/home/jotter/nrao/tables/eis_nondet_fov.fits', overwrite=True)"
   ]
  },
  {
   "cell_type": "code",
   "execution_count": 34,
   "metadata": {},
   "outputs": [],
   "source": [
    "match_eis_ind_nondet = []\n",
    "for ID in nondet_eis_fov['ID']:\n",
    "    match_eis_ind_nondet.append(np.where(eisner_full['ID'] == ID.strip())[0][0])\n",
    "    \n",
    "nondet_eis_fov_full = eisner_full[match_eis_ind_nondet]"
   ]
  },
  {
   "cell_type": "code",
   "execution_count": 35,
   "metadata": {},
   "outputs": [],
   "source": [
    "eis_flux_nd = []\n",
    "eis_flux_err_nd = []\n",
    "for fstr in nondet_eis_fov_full['F_lambda 850mum']:\n",
    "    split = fstr.split(' ')\n",
    "    eis_flux_nd.append(float(split[0]))\n",
    "    eis_flux_err_nd.append(float(split[-1]))\n",
    "eis_flux_nd  = np.array(eis_flux_nd)\n",
    "eis_flux_err_nd = np.array(eis_flux_err_nd)\n",
    "\n",
    "eis_fdust_nd = []\n",
    "eis_fdust_err_nd = []\n",
    "for fstr in nondet_eis_fov_full['F_dust']:\n",
    "    split = fstr.split(' ')\n",
    "    eis_fdust_nd.append(float(split[0]))\n",
    "    eis_fdust_err_nd.append(float(split[-1]))\n",
    "eis_fdust_nd  = np.array(eis_fdust_nd)\n",
    "eis_fdust_err_nd = np.array(eis_fdust_err_nd)"
   ]
  },
  {
   "cell_type": "code",
   "execution_count": 36,
   "metadata": {},
   "outputs": [
    {
     "name": "stderr",
     "output_type": "stream",
     "text": [
      "/home/jotter/anaconda3/lib/python3.7/site-packages/ipykernel_launcher.py:3: RuntimeWarning: divide by zero encountered in log10\n",
      "  This is separate from the ipykernel package so we can avoid doing imports until\n",
      "/home/jotter/anaconda3/lib/python3.7/site-packages/ipykernel_launcher.py:4: RuntimeWarning: divide by zero encountered in true_divide\n",
      "  after removing the cwd from sys.path.\n"
     ]
    }
   ],
   "source": [
    "nondet_eis_match = Table.read('/home/jotter/nrao/tables/eis_nondet_ir_nondet.fits')\n",
    "b3_ulim = nondet_eis_match['B3_flux_ulim']\n",
    "b3_ulim_err = b3_ulim*0.2\n",
    "b3eis_alpha_llim, b3eis_alpha_llim_err = specind_compute(freqs[0], eisfreq, b3_ulim, eis_flux_nd, b3_ulim_err, eis_flux_err_nd)\n",
    "b3eis_alpha_llim_fdust, b3eis_alpha_llim_fdust_err = specind_compute(freqs[0], eisfreq, b3_ulim, eis_fdust_nd, b3_ulim_err, eis_fdust_err_nd)\n"
   ]
  },
  {
   "cell_type": "code",
   "execution_count": 38,
   "metadata": {},
   "outputs": [
    {
     "data": {
      "text/plain": [
       "(array([2., 2., 2., 2., 0., 2., 2., 2., 2., 1.]),\n",
       " array([2.50685060e-03, 3.60229854e-01, 7.17952858e-01, 1.07567586e+00,\n",
       "        1.43339886e+00, 1.79112187e+00, 2.14884487e+00, 2.50656787e+00,\n",
       "        2.86429088e+00, 3.22201388e+00, 3.57973689e+00]),\n",
       " <BarContainer object of 10 artists>)"
      ]
     },
     "execution_count": 38,
     "metadata": {},
     "output_type": "execute_result"
    },
    {
     "data": {
      "image/png": "[encoded data removed]",
      "text/plain": [
       "<Figure size 432x288 with 1 Axes>"
      ]
     },
     "metadata": {
      "needs_background": "light"
     },
     "output_type": "display_data"
    }
   ],
   "source": [
    "plt.hist(b3eis_alpha_llim)"
   ]
  },
  {
   "cell_type": "code",
   "execution_count": 39,
   "metadata": {},
   "outputs": [
    {
     "data": {
      "text/plain": [
       "(array([1., 0., 3., 1., 4., 0., 2., 3., 1., 1.]),\n",
       " array([-0.85535381, -0.40118012,  0.05299356,  0.50716725,  0.96134093,\n",
       "         1.41551462,  1.8696883 ,  2.32386199,  2.77803567,  3.23220936,\n",
       "         3.68638304]),\n",
       " <BarContainer object of 10 artists>)"
      ]
     },
     "execution_count": 39,
     "metadata": {},
     "output_type": "execute_result"
    },
    {
     "data": {
      "image/png": "[encoded data removed]",
      "text/plain": [
       "<Figure size 432x288 with 1 Axes>"
      ]
     },
     "metadata": {
      "needs_background": "light"
     },
     "output_type": "display_data"
    }
   ],
   "source": [
    "plt.hist(b3eis_alpha_llim_fdust)"
   ]
  },
  {
   "cell_type": "code",
   "execution_count": 40,
   "metadata": {},
   "outputs": [
    {
     "data": {
      "image/png": "[encoded data removed]",
      "text/plain": [
       "<Figure size 576x288 with 2 Axes>"
      ]
     },
     "metadata": {
      "needs_background": "light"
     },
     "output_type": "display_data"
    }
   ],
   "source": [
    "##creating 2 panel spectral index histogram\n",
    "\n",
    "plt.rcParams.update({'font.size': 16})\n",
    "\n",
    "fig, (ax0,ax1) = plt.subplots(1,2,sharey=True,figsize=(8,4))\n",
    "\n",
    "bins = np.arange(-1.5, 5, 0.5)\n",
    "ax0.hist(total_alpha, bins=bins,color='tab:purple', edgecolor='k')\n",
    "ax0.hist(ulim_alpha, bins=bins,color='gray', edgecolor='k', alpha=0.5, hatch='/')\n",
    "\n",
    "ax0.set_ylabel('Number')\n",
    "\n",
    "bins2 = np.arange(-2,4,0.75)\n",
    "plt.hist(b3eis_specind, bins, color='tab:green', edgecolor='k')\n",
    "ax1.hist(b3eis_alpha_llim, bins, alpha=0.5, hatch='\\\\', color='gray', edgecolor='k')\n",
    "\n",
    "fig.text(0.4,0, 'Spectral Index')\n",
    "plt.subplots_adjust(wspace=0.05)\n",
    "plt.savefig('/home/jotter/nrao/plots/alpha_hist_2panel.pdf', bbox_inches='tight')"
   ]
  },
  {
   "cell_type": "code",
   "execution_count": null,
   "metadata": {},
   "outputs": [],
   "source": []
  },
  {
   "cell_type": "code",
   "execution_count": 41,
   "metadata": {},
   "outputs": [],
   "source": [
    "fb = Table.read('/home/jotter/nrao/summer_research_2018/tables/Forbrich2016_r0.5_mar21.fits')\n",
    "fb.rename_column('Seq_1','Seq')"
   ]
  },
  {
   "cell_type": "code",
   "execution_count": 42,
   "metadata": {},
   "outputs": [],
   "source": [
    "specind_tab = Table((b3b6_ind, b3b6_specind[b3b6_ind], b3b6_specind_err_sys[b3b6_ind],\n",
    "                     b6b7_specind[b3b6_ind], b6b7_specind_err_sys[b3b6_ind]),\n",
    "                    names=('Seq', 'b3b6_alpha', 'b3b6_alpha_err', 'b6b7_alpha', 'b6b7_alpha_err'))"
   ]
  },
  {
   "cell_type": "code",
   "execution_count": 43,
   "metadata": {},
   "outputs": [],
   "source": [
    "match = join(specind_tab, fb, keys='Seq')"
   ]
  },
  {
   "cell_type": "code",
   "execution_count": 44,
   "metadata": {},
   "outputs": [
    {
     "data": {
      "text/html": [
       "<i>Table length=17</i>\n",
       "<table id=\"table139690853002128\" class=\"table-striped table-bordered table-condensed\">\n",
       "<thead><tr><th>Seq</th><th>b3b6_alpha</th><th>b3b6_alpha_err</th><th>b6b7_alpha</th><th>b6b7_alpha_err</th><th>fwhm_maj_B3</th><th>fwhm_maj_err_B3</th><th>fwhm_min_B3</th><th>fwhm_min_err_B3</th><th>pa_B3</th><th>pa_err_B3</th><th>gauss_amp_B3</th><th>gauss_amp_err_B3</th><th>RA_B3</th><th>RA_err_B3</th><th>DEC_B3</th><th>DEC_err_B3</th><th>ap_flux_B3</th><th>ap_flux_err_B3</th><th>fwhm_maj_deconv_B3</th><th>fwhm_maj_deconv_err_B3</th><th>fwhm_min_deconv_B3</th><th>fwhm_min_deconv_err_B3</th><th>pa_deconv_B3</th><th>pa_deconv_err_B3</th><th>SNR_B3</th><th>RMS_B3</th><th>ar_deconv_B3</th><th>D_ID</th><th>fwhm_maj_B6</th><th>fwhm_maj_err_B6</th><th>fwhm_min_B6</th><th>fwhm_min_err_B6</th><th>pa_B6</th><th>pa_err_B6</th><th>gauss_amp_B6</th><th>gauss_amp_err_B6</th><th>RA_B6</th><th>RA_err_B6</th><th>DEC_B6</th><th>DEC_err_B6</th><th>success_B6</th><th>ap_flux_B6</th><th>ap_flux_err_B6</th><th>fwhm_maj_deconv_B6</th><th>fwhm_maj_deconv_err_B6</th><th>fwhm_min_deconv_B6</th><th>fwhm_min_deconv_err_B6</th><th>pa_deconv_B6</th><th>pa_deconv_err_B6</th><th>SNR_B6</th><th>ar_deconv_B6</th><th>fwhm_maj_B7</th><th>fwhm_maj_err_B7</th><th>fwhm_min_B7</th><th>fwhm_min_err_B7</th><th>pa_B7</th><th>pa_err_B7</th><th>gauss_amp_B7</th><th>gauss_amp_err_B7</th><th>RA_B7</th><th>RA_err_B7</th><th>DEC_B7</th><th>DEC_err_B7</th><th>success_B7</th><th>ap_flux_B7</th><th>ap_flux_err_B7</th><th>fwhm_maj_deconv_B7</th><th>fwhm_maj_deconv_err_B7</th><th>fwhm_min_deconv_B7</th><th>fwhm_min_deconv_err_B7</th><th>pa_deconv_B7</th><th>pa_deconv_err_B7</th><th>SNR_B7</th><th>ar_deconv_B7</th><th>upper_lim_B6</th><th>upper_lim_B7</th><th>upper_lim_B3</th><th>Seq_2</th><th>Rad</th><th>RAJ2000</th><th>e_RAJ2000</th><th>DEJ2000</th><th>e_DEJ2000</th><th>Spk</th><th>e_Spk</th><th>alpha</th><th>e_alpha</th><th>Ref</th><th>COUP</th><th>Ltc</th><th>VISION</th><th>Separation</th></tr></thead>\n",
       "<thead><tr><th></th><th></th><th></th><th></th><th></th><th></th><th></th><th></th><th></th><th></th><th></th><th></th><th></th><th></th><th></th><th></th><th></th><th></th><th></th><th></th><th></th><th></th><th></th><th></th><th></th><th></th><th></th><th></th><th></th><th></th><th></th><th></th><th></th><th></th><th></th><th></th><th></th><th></th><th></th><th></th><th></th><th></th><th></th><th></th><th></th><th></th><th></th><th></th><th></th><th></th><th></th><th></th><th></th><th></th><th></th><th></th><th></th><th></th><th></th><th></th><th></th><th></th><th></th><th></th><th></th><th></th><th></th><th></th><th></th><th></th><th></th><th></th><th></th><th></th><th></th><th>AU</th><th>AU</th><th>AU</th><th></th><th>arcmin</th><th>deg</th><th>s</th><th>deg</th><th>arcsec</th><th>mJy</th><th>mJy</th><th></th><th></th><th></th><th></th><th>[10-7W]</th><th></th><th>arcsec</th></tr></thead>\n",
       "<thead><tr><th>int64</th><th>float64</th><th>float64</th><th>float64</th><th>float64</th><th>float64</th><th>float64</th><th>float64</th><th>float64</th><th>float64</th><th>float64</th><th>float64</th><th>float64</th><th>float64</th><th>float64</th><th>float64</th><th>float64</th><th>float64</th><th>float64</th><th>float64</th><th>float64</th><th>float64</th><th>float64</th><th>float64</th><th>float64</th><th>float64</th><th>float32</th><th>float64</th><th>int32</th><th>float64</th><th>float64</th><th>float64</th><th>float64</th><th>float64</th><th>float64</th><th>float64</th><th>float64</th><th>float64</th><th>float64</th><th>float64</th><th>float64</th><th>bytes8</th><th>float64</th><th>float64</th><th>float64</th><th>float64</th><th>float64</th><th>float64</th><th>float64</th><th>float64</th><th>float64</th><th>float64</th><th>float64</th><th>float64</th><th>float64</th><th>float64</th><th>float64</th><th>float64</th><th>float64</th><th>float64</th><th>float64</th><th>float64</th><th>float64</th><th>float64</th><th>bytes8</th><th>float64</th><th>float64</th><th>float64</th><th>float64</th><th>float64</th><th>float64</th><th>float64</th><th>float64</th><th>float64</th><th>float64</th><th>float64</th><th>float64</th><th>float64</th><th>int16</th><th>float32</th><th>float64</th><th>float64</th><th>float64</th><th>float64</th><th>float32</th><th>float32</th><th>float32</th><th>float32</th><th>bytes10</th><th>int16</th><th>float32</th><th>bytes16</th><th>float64</th></tr></thead>\n",
       "<tr><td>11</td><td>1.2041659700088365</td><td>0.3483167955008686</td><td>nan</td><td>nan</td><td>0.12508210993658392</td><td>0.010340954500372333</td><td>0.07738150510535492</td><td>0.0063974644881915135</td><td>63.87105340817135</td><td>0.1171777427736119</td><td>0.00042892873791004993</td><td>3.5459341681562276e-05</td><td>83.81413482476985</td><td>1.1444981184015256e-06</td><td>-5.377732925184</td><td>8.646495562344217e-07</td><td>0.0005267397030781578</td><td>2.6459894084720006e-05</td><td>0.08435570004661445</td><td>0.010340954500372333</td><td>0.009750403626335292</td><td>0.0063974644881915135</td><td>1.3197653459129894</td><td>0.1171777427736119</td><td>8.222765350482419</td><td>5.1860705e-05</td><td>8.651508519993413</td><td>13</td><td>0.15964335921635386</td><td>0.0</td><td>0.06117036435877132</td><td>0.0</td><td>250.2004256854907</td><td>0.0</td><td>0.00048677623736149755</td><td>0.0</td><td>83.81413767212715</td><td>0.0</td><td>-5.377732005185563</td><td>0.0</td><td>True</td><td>0.0023087293491329645</td><td>2.6718869645249473e-05</td><td>nan</td><td>nan</td><td>nan</td><td>nan</td><td>nan</td><td>nan</td><td>4.699289971199373</td><td>nan</td><td>nan</td><td>nan</td><td>nan</td><td>nan</td><td>nan</td><td>nan</td><td>nan</td><td>nan</td><td>nan</td><td>nan</td><td>nan</td><td>nan</td><td>N/A</td><td>nan</td><td>nan</td><td>nan</td><td>nan</td><td>nan</td><td>nan</td><td>nan</td><td>nan</td><td>nan</td><td>nan</td><td>10.654308473754133</td><td>nan</td><td>nan</td><td>233</td><td>0.28</td><td>83.8141426666667</td><td>7.310000000000002e-05</td><td>-5.37778622222222</td><td>0.0008300000000000001</td><td>0.4975</td><td>0.0025</td><td>-0.68</td><td>0.21</td><td>Z</td><td>0</td><td>nan</td><td>05351539-0522399</td><td>0.19391704900403609</td></tr>\n",
       "<tr><td>15</td><td>3.0599956987129615</td><td>0.34307902481306535</td><td>-0.4462729705921854</td><td>0.675287538057442</td><td>0.19939876292069492</td><td>0.00202988914746693</td><td>0.0980854869696446</td><td>0.0009985185572633478</td><td>-84.00387297660558</td><td>0.009342554436372946</td><td>0.001496526994912253</td><td>1.523478937792442e-05</td><td>83.81107215283834</td><td>2.384561120713724e-07</td><td>-5.377358469256499</td><td>1.1978290994901457e-07</td><td>0.003292253169383969</td><td>1.1032424966607122e-05</td><td>0.1823311368692168</td><td>0.00202988914746693</td><td>0.04139455132052926</td><td>0.0009985185572633478</td><td>-80.25450102795986</td><td>0.009342554436372946</td><td>48.35535068040186</td><td>3.094853e-05</td><td>4.4047134478491445</td><td>17</td><td>0.23293727073047546</td><td>0.003485788332594531</td><td>0.10847470114638688</td><td>0.001623275303775445</td><td>6.720746212185361</td><td>0.012584423155651423</td><td>0.002165320499186504</td><td>3.240341716364201e-05</td><td>83.8110731308297</td><td>4.089773651523633e-07</td><td>-5.377359335214831</td><td>1.9616165433877818e-07</td><td>True</td><td>0.022555942675093348</td><td>7.798314897834036e-06</td><td>0.21918156894051585</td><td>0.003485788332594531</td><td>0.06448332383324551</td><td>0.001623275303775445</td><td>-80.70656061124687</td><td>0.012584423155651423</td><td>44.456153204099955</td><td>3.3990426657800934</td><td>0.2521372543437774</td><td>0.013091746487728729</td><td>0.09997049822621522</td><td>0.005190837033326284</td><td>6.37843893208813</td><td>0.03454640472980462</td><td>0.0017548393801976204</td><td>9.111908515628475e-05</td><td>83.81106882096374</td><td>1.536268355664132e-06</td><td>-5.377357650872647</td><td>6.322483984036077e-07</td><td>True</td><td>0.03804994845987197</td><td>1.159673148917816e-05</td><td>0.2394016737194864</td><td>0.013091746487728729</td><td>0.049257085739754056</td><td>0.005190837033326284</td><td>-81.55823927347178</td><td>0.03454640472980462</td><td>15.386240428858159</td><td>4.860248431755511</td><td>nan</td><td>nan</td><td>nan</td><td>200</td><td>0.14</td><td>83.811188</td><td>0.00024820000000000007</td><td>-5.37727341666667</td><td>0.005672000000000001</td><td>0.0686</td><td>0.0026</td><td>nan</td><td>nan</td><td></td><td>0</td><td>nan</td><td></td><td>0.5159020304882778</td></tr>\n",
       "<tr><td>21</td><td>1.9356748336167402</td><td>0.3432394294236032</td><td>0.9962209518026341</td><td>0.6754018201830183</td><td>0.09903178444661873</td><td>0.001599587286907939</td><td>0.0740468188800734</td><td>0.0011960248400822648</td><td>41.96961846740993</td><td>0.03873547669292013</td><td>0.0013731493365948216</td><td>2.2179464456372965e-05</td><td>83.80982708856077</td><td>1.6409009209843703e-07</td><td>-5.37575717589869</td><td>1.690652665980387e-07</td><td>0.0012959593632677821</td><td>4.895208008693686e-05</td><td>0.023297160887695602</td><td>0.001599587286907939</td><td>0.018027505489830332</td><td>0.0011960248400822648</td><td>0.0966655202195798</td><td>0.03873547669292013</td><td>16.343996368094007</td><td>7.551067e-05</td><td>1.2923119563512537</td><td>23</td><td>0.1106547226225418</td><td>0.005387321598716349</td><td>0.07985713860384423</td><td>0.0038879824101768485</td><td>-41.00181223761632</td><td>0.10370495688690973</td><td>0.0012229074790801463</td><td>5.95412004310688e-05</td><td>83.80982880630711</td><td>5.661743143383438e-07</td><td>-5.37575684782842</td><td>5.418898199852885e-07</td><td>True</td><td>0.004717993479491312</td><td>1.5521214741493263e-05</td><td>0.05834717272067777</td><td>0.005387321598716349</td><td>0.03727417325464247</td><td>0.0038879824101768485</td><td>61.218151768630946</td><td>0.10370495688690973</td><td>21.3105327455565</td><td>1.5653512238104619</td><td>0.09545531770339269</td><td>0.008728159611409683</td><td>0.07240639227428206</td><td>0.006620843547102291</td><td>-47.86538881231604</td><td>0.23102132760636868</td><td>0.0011939945954606238</td><td>0.00010916783712291799</td><td>83.8098278152042</td><td>9.014212259489432e-07</td><td>-5.375758103575617</td><td>9.259876145370471e-07</td><td>True</td><td>0.00992570153684431</td><td>1.3837480081124887e-05</td><td>0.020168514991707572</td><td>0.008728159611409683</td><td>0.01094352112944186</td><td>0.006620843547102291</td><td>-32.44890611003327</td><td>0.23102132760636868</td><td>16.723615809787447</td><td>1.8429639558557882</td><td>nan</td><td>nan</td><td>nan</td><td>178</td><td>0.05</td><td>83.809807125</td><td>4.280000000000001e-05</td><td>-5.37580055555556</td><td>0.0012820000000000002</td><td>0.5904</td><td>0.0025</td><td>-0.28</td><td>0.12</td><td>Z,GMR L</td><td>621</td><td>30.97</td><td>05351436-0522327</td><td>0.17177848948647192</td></tr>\n",
       "<tr><td>24</td><td>2.6229409735012954</td><td>0.3431253303409543</td><td>1.8295696326370796</td><td>0.6752938904242397</td><td>0.12967183521590606</td><td>0.002232677567423603</td><td>0.08497125282543859</td><td>0.001463031690313493</td><td>63.79922279568646</td><td>0.0279633031431088</td><td>0.0022547246641611406</td><td>3.8821957382578386e-05</td><td>83.81072556494026</td><td>2.4828989414096433e-07</td><td>-5.375362040041768</td><td>1.9364914887027325e-07</td><td>0.0031608588985081914</td><td>7.289383166205229e-05</td><td>0.09101063576510156</td><td>0.002232677567423603</td><td>0.03646211424603409</td><td>0.001463031690313493</td><td>1.3199845219886224</td><td>0.0279633031431088</td><td>14.696549206472266</td><td>0.00014494611</td><td>2.496032872668666</td><td>28</td><td>0.16490991032102897</td><td>0.0</td><td>0.100891542793053</td><td>0.0</td><td>247.56439571319925</td><td>0.0</td><td>0.0029107338897973963</td><td>0.0</td><td>83.81072837447728</td><td>0.0</td><td>-5.375362247510271</td><td>0.0</td><td>True</td><td>0.02396949940687319</td><td>2.1344935223588636e-05</td><td>0.13817141063461447</td><td>0.0</td><td>0.06674705644552066</td><td>0.0</td><td>1.2859004442119328</td><td>0.0</td><td>26.914349371075904</td><td>2.07007496648771</td><td>0.15754050197870248</td><td>0.008317268733170293</td><td>0.09054794959474005</td><td>0.00478035848618802</td><td>157.55508647285427</td><td>0.06408095626799878</td><td>0.0038845325928980063</td><td>0.00020508433511952698</td><td>83.8107267648731</td><td>9.320040858307136e-07</td><td>-5.3753631471356025</td><td>6.418240837991185e-07</td><td>True</td><td>0.06067254822740265</td><td>1.7493745899504414e-05</td><td>0.1293023465076303</td><td>0.008317268733170293</td><td>0.04970885694503894</td><td>0.00478035848618802</td><td>73.83469106544479</td><td>0.06408095626799878</td><td>29.978052457782443</td><td>2.601193317532822</td><td>nan</td><td>nan</td><td>nan</td><td>191</td><td>0.03</td><td>83.8107240416667</td><td>0.0002463</td><td>-5.37535319444444</td><td>0.005568000000000001</td><td>0.051</td><td>0.0027</td><td>nan</td><td>nan</td><td></td><td>0</td><td>nan</td><td></td><td>0.03230878981158058</td></tr>\n",
       "<tr><td>26</td><td>1.9670280849890753</td><td>0.34307250665323097</td><td>2.0144767718110206</td><td>0.6752851967843106</td><td>0.16331123523718813</td><td>0.0005984989564806667</td><td>0.10473652686566355</td><td>0.00038383577867933506</td><td>-34.83517756319236</td><td>0.005646171235100633</td><td>0.022894279779799867</td><td>8.390236000220025e-05</td><td>83.81048870425084</td><td>5.4840612063627444e-08</td><td>-5.375171637140804</td><td>6.345794306308062e-08</td><td>0.04835475015016731</td><td>0.000129947382448196</td><td>0.1464608019963095</td><td>0.0005984989564806667</td><td>0.04203636563559025</td><td>0.00038383577867933506</td><td>-37.3229547204303</td><td>0.005646171235100633</td><td>67.14203011721378</td><td>0.00034098284</td><td>3.484145210505732</td><td>30</td><td>0.22115750851055851</td><td>0.0015550442423447111</td><td>0.11297519605070568</td><td>0.0007943708525476552</td><td>233.40412326553144</td><td>0.0068732682451465976</td><td>0.02319284383114502</td><td>0.00016307741676502898</td><td>83.81048858347229</td><td>1.3273673851478007e-07</td><td>-5.375172324047161</td><td>1.5751205275218476e-07</td><td>True</td><td>0.2514108573006386</td><td>5.249053068769276e-05</td><td>0.2096150019157218</td><td>0.0015550442423447111</td><td>0.06251172527465239</td><td>0.0007943708525476552</td><td>-37.627811022884686</td><td>0.0068732682451465976</td><td>71.13852130716653</td><td>3.3532109535411863</td><td>0.23204508420518688</td><td>0.0024596911446968877</td><td>0.10697239125830676</td><td>0.0011339197343777755</td><td>234.62968488185322</td><td>0.008775836922038174</td><td>0.02362916013374762</td><td>0.00025047223199103994</td><td>83.81048824255767</td><td>2.0026295477852324e-07</td><td>-5.375171244157876</td><td>2.489423705898047e-07</td><td>True</td><td>0.5936169586740018</td><td>3.032631100565687e-05</td><td>0.22100020988271843</td><td>0.0024596911446968877</td><td>0.051176627074822664</td><td>0.0011339197343777755</td><td>-36.365463618994006</td><td>0.008775836922038174</td><td>79.85680311452491</td><td>4.318381701076267</td><td>nan</td><td>nan</td><td>nan</td><td>185</td><td>0.01</td><td>83.8104811666667</td><td>3.08e-05</td><td>-5.37516508333333</td><td>0.0005310000000000001</td><td>0.6127</td><td>0.0027</td><td>1.86</td><td>0.26</td><td>Z,GMR I</td><td>0</td><td>nan</td><td></td><td>0.03586817756937565</td></tr>\n",
       "<tr><td>27</td><td>2.5583597754213607</td><td>0.34308258174772627</td><td>2.018288753644133</td><td>0.6752861260870419</td><td>0.11813186324617996</td><td>0.00043468727849308206</td><td>0.10101323405468406</td><td>0.0003716963440031233</td><td>45.32123365175519</td><td>0.016552759101006766</td><td>0.004850262673296847</td><td>1.784740866768621e-05</td><td>83.8116809414994</td><td>4.774746003077352e-08</td><td>-5.375189825376971</td><td>4.7664390035333147e-08</td><td>0.007731626710471992</td><td>4.6326189580769116e-05</td><td>0.07182626132787302</td><td>0.00043468727849308206</td><td>0.06765590657535943</td><td>0.0003716963440031233</td><td>-1.0413511027549482</td><td>0.016552759101006766</td><td>47.73337635509851</td><td>8.365894e-05</td><td>1.0616406602706356</td><td>31</td><td>0.12750061258938641</td><td>0.00071828424418033</td><td>0.11470442942959089</td><td>0.0006461961671567699</td><td>134.06739630632558</td><td>0.03759489877240168</td><td>0.007612453848159216</td><td>4.288529915341499e-05</td><td>83.81168147269874</td><td>8.045194970033392e-08</td><td>-5.37519081716348</td><td>8.072825435365056e-08</td><td>True</td><td>0.055579480014412076</td><td>4.0370167476379906e-05</td><td>0.09113378251768073</td><td>0.00071828424418033</td><td>0.0853245120531337</td><td>0.0006461961671567699</td><td>-49.59463603379517</td><td>0.03759489877240168</td><td>39.63419357642094</td><td>1.0680844264416005</td><td>0.12324347159336775</td><td>0.0013004206330314004</td><td>0.10570567868461701</td><td>0.0011153715245616907</td><td>-48.744210081094764</td><td>0.048416333242761615</td><td>0.009081826078320228</td><td>9.582806377988263e-05</td><td>83.81168120618877</td><td>1.4147696284371926e-07</td><td>-5.375190775597561</td><td>1.443138998103675e-07</td><td>True</td><td>0.1496212836048912</td><td>2.3137277378788126e-05</td><td>0.08007394052202933</td><td>0.0013004206330314004</td><td>0.07824918004352331</td><td>0.0011153715245616907</td><td>-13.213581472766325</td><td>0.048416333242761615</td><td>55.45874412439676</td><td>1.0233198670898669</td><td>nan</td><td>nan</td><td>nan</td><td>206</td><td>0.08</td><td>83.8116815</td><td>0.00014250000000000002</td><td>-5.37518458333333</td><td>0.0030910000000000004</td><td>0.0923</td><td>0.0027</td><td>nan</td><td>nan</td><td></td><td>0</td><td>nan</td><td></td><td>0.018977227549907518</td></tr>\n",
       "<tr><td>28</td><td>2.30350047126661</td><td>0.34312199125698345</td><td>1.7111404843923563</td><td>0.6753069245337651</td><td>0.09935764250563933</td><td>0.0007383579382746675</td><td>0.0740737936269457</td><td>0.0005504656880587276</td><td>44.86876487699547</td><td>0.0176389940134741</td><td>0.002700612488838627</td><td>2.00689448449509e-05</td><td>83.80999692843773</td><td>7.676891979938971e-08</td><td>-5.375113566120221</td><td>7.686954290185851e-08</td><td>0.0026043515946572392</td><td>3.0205382373527037e-05</td><td>0.024419663844879043</td><td>0.0007383579382746675</td><td>0.018441013717850868</td><td>0.0005504656880587276</td><td>1.3123898419648983</td><td>0.0176389940134741</td><td>51.96780309176472</td><td>4.3990218e-05</td><td>1.3242039845803515</td><td>32</td><td>0.09994446491819159</td><td>0.0026266689241011784</td><td>0.07462675419999953</td><td>0.0019613169986370787</td><td>-46.95565188647791</td><td>0.06272366678399499</td><td>0.0034202634769480485</td><td>8.988415328802162e-05</td><td>83.80999781536767</td><td>2.7076805349283396e-07</td><td>-5.3751136466172085</td><td>2.760726968421164e-07</td><td>True</td><td>0.013392244277926684</td><td>1.9405669066820608e-05</td><td>0.03187702929924152</td><td>0.0026266689241011784</td><td>0.02672133688486625</td><td>0.0019613169986370787</td><td>41.49226965434895</td><td>0.06272366678399499</td><td>51.888030238440415</td><td>1.1929429068833461</td><td>0.1000278300365765</td><td>0.0030008167964678807</td><td>0.07354010467121466</td><td>0.002206196815151225</td><td>-48.96755073538412</td><td>0.06788450818641723</td><td>0.003813274592775115</td><td>0.0001143981580326338</td><td>83.80999782791231</td><td>3.042052700329154e-07</td><td>-5.375113930453334</td><td>3.1700042741971076e-07</td><td>True</td><td>0.035596982620222185</td><td>1.686647798909198e-05</td><td>0.03289157564919631</td><td>0.0030008167964678807</td><td>0.02244959598391643</td><td>0.002206196815151225</td><td>25.087202268562695</td><td>0.06788450818641723</td><td>42.614477832268264</td><td>1.4651299592545375</td><td>nan</td><td>nan</td><td>nan</td><td>180</td><td>0.02</td><td>83.8099944583333</td><td>0.00027680000000000006</td><td>-5.37510133333333</td><td>0.0037750000000000006</td><td>0.0816</td><td>0.0026</td><td>0.36</td><td>0.3</td><td></td><td>628</td><td>29.91</td><td></td><td>0.044919136163564126</td></tr>\n",
       "<tr><td>30</td><td>-0.5657153667861811</td><td>0.501700395815964</td><td>2.653580625980681</td><td>1.020541014557533</td><td>0.09858907321861342</td><td>0.00960679082637385</td><td>0.07024009544737278</td><td>0.0068443416684823765</td><td>50.86617694936402</td><td>0.1993898111747764</td><td>0.00023547794866967775</td><td>2.294765169728743e-05</td><td>83.81138234323772</td><td>1.0160018586229238e-06</td><td>-5.374950709672517</td><td>9.506805948704598e-07</td><td>0.0002232191433909771</td><td>1.7100742145690553e-05</td><td>nan</td><td>nan</td><td>nan</td><td>nan</td><td>nan</td><td>nan</td><td>8.250220909607293</td><td>2.643829e-05</td><td>nan</td><td>34</td><td>0.03538025651854684</td><td>0.0</td><td>0.027765674516556003</td><td>0.0</td><td>247.1240587219545</td><td>0.0</td><td>0.00013902094124205178</td><td>0.0</td><td>83.81138025837255</td><td>0.0</td><td>-5.374949885484752</td><td>0.0</td><td>True</td><td>7.147570209825021e-05</td><td>2.9345355287415635e-05</td><td>nan</td><td>nan</td><td>nan</td><td>nan</td><td>nan</td><td>nan</td><td>3.865231128242361</td><td>nan</td><td>0.02694357203102398</td><td>0.0</td><td>0.021778661938876252</td><td>0.0</td><td>213.58457552169193</td><td>0.0</td><td>0.0005734295341232241</td><td>0.0</td><td>83.81137958829969</td><td>0.0</td><td>-5.374952228834863</td><td>0.0</td><td>True</td><td>0.0004312356649050874</td><td>9.079416758370001e-05</td><td>nan</td><td>nan</td><td>nan</td><td>nan</td><td>nan</td><td>nan</td><td>4.229446858718679</td><td>nan</td><td>11.97732167981239</td><td>6.127095602653608</td><td>16.711231235576264</td><td>203</td><td>0.06</td><td>83.8113781666667</td><td>8.960000000000002e-05</td><td>-5.37495272222222</td><td>0.0016640000000000001</td><td>0.2093</td><td>0.0026</td><td>0.52</td><td>0.37</td><td></td><td>655</td><td>31.37</td><td>05351472-0522296</td><td>0.016630690546738807</td></tr>\n",
       "<tr><td>36</td><td>2.233898830587656</td><td>0.34921588370869017</td><td>nan</td><td>nan</td><td>0.09729487250778972</td><td>0.004844393231932997</td><td>0.08014777494208151</td><td>0.003990585561474869</td><td>38.88026497889888</td><td>0.18045877594525253</td><td>0.0002162680067978771</td><td>1.0768364228984903e-05</td><td>83.80568709317753</td><td>5.127896598524401e-07</td><td>-5.373926429004982</td><td>5.340360810004902e-07</td><td>0.00023104696633400516</td><td>1.1166289182472271e-05</td><td>0.037508882176846385</td><td>0.004844393231932997</td><td>0.00778233544574815</td><td>0.003990585561474869</td><td>-0.6337308452767503</td><td>0.18045877594525253</td><td>10.936483744518972</td><td>1.6198166e-05</td><td>4.819746262330446</td><td>40</td><td>nan</td><td>nan</td><td>nan</td><td>nan</td><td>nan</td><td>nan</td><td>nan</td><td>nan</td><td>nan</td><td>nan</td><td>nan</td><td>nan</td><td>N/A</td><td>nan</td><td>nan</td><td>nan</td><td>nan</td><td>nan</td><td>nan</td><td>nan</td><td>nan</td><td>nan</td><td>nan</td><td>nan</td><td>nan</td><td>nan</td><td>nan</td><td>nan</td><td>nan</td><td>nan</td><td>nan</td><td>nan</td><td>nan</td><td>nan</td><td>nan</td><td>N/A</td><td>nan</td><td>nan</td><td>nan</td><td>nan</td><td>nan</td><td>nan</td><td>nan</td><td>nan</td><td>nan</td><td>nan</td><td>nan</td><td>nan</td><td>nan</td><td>117</td><td>0.29</td><td>83.8056782083333</td><td>0.0005674000000000001</td><td>-5.37393716666667</td><td>0.009305</td><td>0.0296</td><td>0.0027</td><td>nan</td><td>nan</td><td></td><td>538</td><td>28.58</td><td>05351336-0522261</td><td>0.050083417250150225</td></tr>\n",
       "<tr><td>39</td><td>0.8049375857750405</td><td>0.34309018679299014</td><td>1.2142656723750942</td><td>0.6753020795307358</td><td>0.10734284318293551</td><td>0.00015175069370139727</td><td>0.07921633241669374</td><td>0.00011198823961513798</td><td>49.78165653263619</td><td>0.0032398756506959</td><td>0.06389962378704397</td><td>9.033498918428267e-05</td><td>83.80877351184465</td><td>1.6111964333668728e-08</td><td>-5.372956278708197</td><td>1.5341185041541087e-08</td><td>0.0708243379391396</td><td>0.0005478374833056603</td><td>0.04908133601844254</td><td>0.00015175069370139727</td><td>0.031084702048857438</td><td>0.00011198823961513798</td><td>1.2268564442358938</td><td>0.0032398756506959</td><td>63.04176192631816</td><td>0.00048807389</td><td>1.578954687784971</td><td>43</td><td>0.10459599541572959</td><td>0.0010313383714707152</td><td>0.0802673064290651</td><td>0.0007914490648351211</td><td>-45.25378227684655</td><td>0.026030330005371718</td><td>0.034243350029652</td><td>0.00033764936345281963</td><td>83.80877468331786</td><td>1.0831218421878963e-07</td><td>-5.372957272084667</td><td>1.0856023526692194e-07</td><td>True</td><td>0.13787506089989082</td><td>0.00031504949230258013</td><td>0.044740504582894955</td><td>0.0010313383714707152</td><td>0.03941543250683881</td><td>0.0007914490648351211</td><td>60.04956897224477</td><td>0.026030330005371718</td><td>30.227195427119046</td><td>1.1351011960894306</td><td>0.10027870739096628</td><td>0.001247849072810106</td><td>0.07352974672682976</td><td>0.0009149956149313961</td><td>-45.189531444612015</td><td>0.027910854208380284</td><td>0.026356028312864283</td><td>0.00032797160826248783</td><td>83.8087741433291</td><td>1.2893957814908248e-07</td><td>-5.3729567053478755</td><td>1.2919599490299908e-07</td><td>True</td><td>0.23145350228732262</td><td>0.0001273547259984355</td><td>0.03333584970058253</td><td>0.001247849072810106</td><td>0.022875538597011767</td><td>0.0009149956149313961</td><td>56.716129753702994</td><td>0.027910854208380284</td><td>38.939932585154025</td><td>1.4572705931801402</td><td>nan</td><td>nan</td><td>nan</td><td>162</td><td>0.16</td><td>83.8087856666667</td><td>9.200000000000002e-06</td><td>-5.37296686111111</td><td>0.000144</td><td>2.3413</td><td>0.0026</td><td>1.42</td><td>0.08</td><td>Z,K,GMR B</td><td>0</td><td>nan</td><td></td><td>0.05787290222141308</td></tr>\n",
       "<tr><td>46</td><td>3.270388302946763</td><td>0.3430866997336838</td><td>nan</td><td>nan</td><td>0.13056086463694994</td><td>0.0019364149563992935</td><td>0.11617985358907201</td><td>0.0017231275800175516</td><td>239.8740460573979</td><td>0.089665283711528</td><td>0.0011705169066520149</td><td>1.7360508293655067e-05</td><td>83.8063347483977</td><td>2.2235282628722375e-07</td><td>-5.372098894675398</td><td>2.0988456055517112e-07</td><td>0.002385862881358137</td><td>2.5734009391705232e-05</td><td>0.096034884009031</td><td>0.0019364149563992935</td><td>0.0830585441166126</td><td>0.0017231275800175516</td><td>-1.3051113661235052</td><td>0.089665283711528</td><td>18.40666060926799</td><td>5.3891254e-05</td><td>1.1562312466517575</td><td>51</td><td>nan</td><td>nan</td><td>nan</td><td>nan</td><td>nan</td><td>nan</td><td>nan</td><td>nan</td><td>nan</td><td>nan</td><td>nan</td><td>nan</td><td>N/A</td><td>nan</td><td>nan</td><td>nan</td><td>nan</td><td>nan</td><td>nan</td><td>nan</td><td>nan</td><td>nan</td><td>nan</td><td>nan</td><td>nan</td><td>nan</td><td>nan</td><td>nan</td><td>nan</td><td>nan</td><td>nan</td><td>nan</td><td>nan</td><td>nan</td><td>nan</td><td>N/A</td><td>nan</td><td>nan</td><td>nan</td><td>nan</td><td>nan</td><td>nan</td><td>nan</td><td>nan</td><td>nan</td><td>nan</td><td>nan</td><td>nan</td><td>nan</td><td>127</td><td>0.3</td><td>83.806347875</td><td>0.00011720000000000002</td><td>-5.37212877777778</td><td>0.001636</td><td>0.2295</td><td>0.0026</td><td>-0.92</td><td>0.26</td><td></td><td>551</td><td>29.51</td><td>05351352-0522196</td><td>0.11741725191552768</td></tr>\n",
       "<tr><td>48</td><td>3.128053255949892</td><td>0.3431228065164153</td><td>nan</td><td>nan</td><td>0.10563396199616161</td><td>0.001107027652136174</td><td>0.09295639700300369</td><td>0.000974167279979684</td><td>38.98490209614059</td><td>0.057803116639482136</td><td>0.0015958190007147703</td><td>1.6723761634203506e-05</td><td>83.80739770260527</td><td>1.2135901783132782e-07</td><td>-5.371498763895882</td><td>1.2461970073968482e-07</td><td>0.0020470175726980053</td><td>2.5014502418285528e-05</td><td>0.05997889914560428</td><td>0.001107027652136174</td><td>0.042183886387352786</td><td>0.000974167279979684</td><td>-0.7075602544672814</td><td>0.057803116639482136</td><td>32.12397282929976</td><td>4.3096905e-05</td><td>1.421843843282933</td><td>53</td><td>0.10271497239545514</td><td>0.004688969542513056</td><td>0.10038611228101535</td><td>0.004582964848705322</td><td>-26.991073089572552</td><td>1.4115319995794215</td><td>0.002028123073877298</td><td>9.258283401678486e-05</td><td>83.80739850173761</td><td>5.505668110403118e-07</td><td>-5.371501300374401</td><td>5.4320992735636e-07</td><td>True</td><td>0.01097708208001466</td><td>2.8462757488552074e-05</td><td>0.07268491334447055</td><td>0.004688969542513056</td><td>0.03894569035016584</td><td>0.004582964848705322</td><td>-49.142510580884796</td><td>1.4115319995794215</td><td>17.87250701450757</td><td>1.8663146728418705</td><td>nan</td><td>nan</td><td>nan</td><td>nan</td><td>nan</td><td>nan</td><td>nan</td><td>nan</td><td>nan</td><td>nan</td><td>nan</td><td>nan</td><td>N/A</td><td>nan</td><td>nan</td><td>nan</td><td>nan</td><td>nan</td><td>nan</td><td>nan</td><td>nan</td><td>nan</td><td>nan</td><td>nan</td><td>nan</td><td>nan</td><td>139</td><td>0.28</td><td>83.80739425</td><td>0.0006938000000000002</td><td>-5.37149755555556</td><td>0.012683000000000002</td><td>0.0239</td><td>0.0027</td><td>nan</td><td>nan</td><td></td><td>572</td><td>30.38</td><td>05351377-0522174</td><td>0.013117100553038252</td></tr>\n",
       "<tr><td>49</td><td>2.599361141137058</td><td>0.3431047619392751</td><td>nan</td><td>nan</td><td>0.11742996375002249</td><td>0.002138131671442485</td><td>0.0906394319332813</td><td>0.0016503368378012453</td><td>50.43683326257917</td><td>0.0491673516831126</td><td>0.001975736761778535</td><td>2.7492880967883276e-05</td><td>83.81317538856808</td><td>2.3061117659445114e-07</td><td>-5.371495888498101</td><td>2.1984221206489497e-07</td><td>0.0029083868249038095</td><td>1.6642993057612312e-05</td><td>0.06840589060998754</td><td>0.002138131671442485</td><td>0.05388376453113747</td><td>0.0016503368378012453</td><td>68.39640232371033</td><td>0.0491673516831126</td><td>57.34039135296625</td><td>3.4456283e-05</td><td>1.269508379847111</td><td>54</td><td>0.12253673520405893</td><td>0.005642516058185355</td><td>0.09277399959262689</td><td>0.004272046323395002</td><td>-46.81793043525889</td><td>0.11552716004137212</td><td>0.002158353195718165</td><td>9.938506053312395e-05</td><td>83.8131769113072</td><td>5.852195117486749e-07</td><td>-5.371496720333548</td><td>5.953922062853328e-07</td><td>True</td><td>0.012720256248889682</td><td>2.9040023878418814e-05</td><td>0.07773200449221104</td><td>0.005642516058185355</td><td>0.06125461847202824</td><td>0.004272046323395002</td><td>43.225068327299695</td><td>0.11552716004137212</td><td>17.73902516494202</td><td>1.2689982638240929</td><td>nan</td><td>nan</td><td>nan</td><td>nan</td><td>nan</td><td>nan</td><td>nan</td><td>nan</td><td>nan</td><td>nan</td><td>nan</td><td>nan</td><td>N/A</td><td>nan</td><td>nan</td><td>nan</td><td>nan</td><td>nan</td><td>nan</td><td>nan</td><td>nan</td><td>nan</td><td>nan</td><td>nan</td><td>nan</td><td>nan</td><td>219</td><td>0.28</td><td>83.8131800416667</td><td>0.00024820000000000007</td><td>-5.37148644444444</td><td>0.0042510000000000004</td><td>0.079</td><td>0.0026</td><td>-0.3</td><td>0.34</td><td></td><td>680</td><td>30.83</td><td></td><td>0.03786880664543663</td></tr>\n",
       "<tr><td>51</td><td>2.856052358030333</td><td>0.3430846931992214</td><td>nan</td><td>nan</td><td>0.11925784479476136</td><td>0.0007471380636199483</td><td>0.09804911991140547</td><td>0.0006142686305709758</td><td>55.70361711599847</td><td>0.022478922926300396</td><td>0.0021124379222369725</td><td>1.3234215782050344e-05</td><td>83.81182649736145</td><td>8.347654887641534e-08</td><td>-5.370790186893379</td><td>7.777925416450343e-08</td><td>0.0033031229610662335</td><td>3.860692695174552e-05</td><td>0.07529580918043995</td><td>0.0007471380636199483</td><td>0.061189276209385426</td><td>0.0006142686305709758</td><td>1.5623588027825086</td><td>0.022478922926300396</td><td>25.216118939419445</td><td>8.023931e-05</td><td>1.2305393010824797</td><td>56</td><td>nan</td><td>nan</td><td>nan</td><td>nan</td><td>nan</td><td>nan</td><td>nan</td><td>nan</td><td>nan</td><td>nan</td><td>nan</td><td>nan</td><td>N/A</td><td>nan</td><td>nan</td><td>nan</td><td>nan</td><td>nan</td><td>nan</td><td>nan</td><td>nan</td><td>nan</td><td>nan</td><td>nan</td><td>nan</td><td>nan</td><td>nan</td><td>nan</td><td>nan</td><td>nan</td><td>nan</td><td>nan</td><td>nan</td><td>nan</td><td>nan</td><td>N/A</td><td>nan</td><td>nan</td><td>nan</td><td>nan</td><td>nan</td><td>nan</td><td>nan</td><td>nan</td><td>nan</td><td>nan</td><td>nan</td><td>nan</td><td>nan</td><td>208</td><td>0.28</td><td>83.8118515833333</td><td>0.0004347000000000001</td><td>-5.37080130555556</td><td>0.007981</td><td>0.0402</td><td>0.0027</td><td>nan</td><td>nan</td><td></td><td>0</td><td>nan</td><td></td><td>0.09842015545980917</td></tr>\n",
       "<tr><td>56</td><td>1.1661333961847193</td><td>0.36815803780136397</td><td>nan</td><td>nan</td><td>0.09727024638262449</td><td>0.018477605043264286</td><td>0.06134223692228838</td><td>0.005909025405232812</td><td>227.0389751284938</td><td>0.1818399530153286</td><td>0.0002257676950934843</td><td>2.1088960638935155e-05</td><td>83.81792486846722</td><td>1.7749060561352615e-06</td><td>-5.369521282377781</td><td>2.160881919183817e-06</td><td>0.00019080643316403393</td><td>4.43858040416167e-05</td><td>nan</td><td>nan</td><td>nan</td><td>nan</td><td>nan</td><td>nan</td><td>3.276076748078923</td><td>5.666654e-05</td><td>nan</td><td>62</td><td>nan</td><td>nan</td><td>nan</td><td>nan</td><td>nan</td><td>nan</td><td>nan</td><td>nan</td><td>nan</td><td>nan</td><td>nan</td><td>nan</td><td>N/A</td><td>nan</td><td>nan</td><td>nan</td><td>nan</td><td>nan</td><td>nan</td><td>nan</td><td>nan</td><td>nan</td><td>nan</td><td>nan</td><td>nan</td><td>nan</td><td>nan</td><td>nan</td><td>nan</td><td>nan</td><td>nan</td><td>nan</td><td>nan</td><td>nan</td><td>nan</td><td>N/A</td><td>nan</td><td>nan</td><td>nan</td><td>nan</td><td>nan</td><td>nan</td><td>nan</td><td>nan</td><td>nan</td><td>nan</td><td>nan</td><td>nan</td><td>26.519431126768673</td><td>291</td><td>0.57</td><td>83.8179192916667</td><td>0.00032860000000000007</td><td>-5.36950366666667</td><td>0.006071000000000001</td><td>0.0658</td><td>0.0026</td><td>nan</td><td>nan</td><td></td><td>784</td><td>31.08</td><td>05351629-0522103</td><td>0.06649207161050809</td></tr>\n",
       "<tr><td>64</td><td>2.975844678967705</td><td>0.34651259000437923</td><td>-1.328385619643828</td><td>0.675688507388099</td><td>0.0951195061223734</td><td>0.004428257461820185</td><td>0.08051032009470148</td><td>0.003748204903101133</td><td>53.33140159803372</td><td>0.1965290102183987</td><td>0.0001918825441285572</td><td>8.932932187036953e-06</td><td>83.81261598835745</td><td>4.952345412534224e-07</td><td>-5.375310463693514</td><td>4.723312219051049e-07</td><td>0.00019850260328649428</td><td>2.434907468065197e-05</td><td>nan</td><td>nan</td><td>nan</td><td>nan</td><td>nan</td><td>nan</td><td>4.486676705081683</td><td>3.3050463e-05</td><td>nan</td><td>75</td><td>0.08309560022208774</td><td>0.029171627054779825</td><td>0.055097571042222876</td><td>0.019347950018966466</td><td>-34.930437110729514</td><td>0.5878393197038531</td><td>0.0001716164353434576</td><td>6.0227439728927456e-05</td><td>83.81261639633608</td><td>3.1092304837104425e-06</td><td>-5.375309552898339</td><td>2.717161613401707e-06</td><td>True</td><td>0.00041704831804778195</td><td>1.3891372624531548e-05</td><td>nan</td><td>nan</td><td>nan</td><td>nan</td><td>nan</td><td>nan</td><td>4.640904373680152</td><td>nan</td><td>0.10783030460305633</td><td>0.0</td><td>0.052257752046</td><td>0.0</td><td>233.04624032016272</td><td>0.0</td><td>0.00022076995393228389</td><td>0.0</td><td>83.81261629893234</td><td>0.0</td><td>-5.375315521042647</td><td>0.0</td><td>True</td><td>0.0028527421131359543</td><td>2.4585633376889035e-05</td><td>nan</td><td>nan</td><td>nan</td><td>nan</td><td>nan</td><td>nan</td><td>1.929739327849488</td><td>nan</td><td>10.734404259857842</td><td>10.704435455485825</td><td>22.66098842449275</td><td>216</td><td>0.14</td><td>83.8126175833333</td><td>0.00016460000000000004</td><td>-5.37530497222222</td><td>0.0030230000000000005</td><td>0.142</td><td>0.0025</td><td>nan</td><td>nan</td><td></td><td>0</td><td>nan</td><td>05351502-0522311</td><td>0.02057924491724743</td></tr>\n",
       "<tr><td>67</td><td>3.292550734839745</td><td>0.3438923044211579</td><td>-0.7253697549688907</td><td>0.6754142480332878</td><td>0.10978560106702864</td><td>0.010259318205746135</td><td>0.05344823375342999</td><td>0.00456533425086023</td><td>58.01586650124</td><td>0.07429782820772854</td><td>9.631782058551121e-05</td><td>8.874969146540926e-06</td><td>83.81242129037895</td><td>1.0511103283147769e-06</td><td>-5.375820491107892</td><td>7.787414686259115e-07</td><td>8.756683604677381e-05</td><td>1.445533344124039e-05</td><td>nan</td><td>nan</td><td>nan</td><td>nan</td><td>nan</td><td>nan</td><td>4.336030356547041</td><td>2.0446796e-05</td><td>nan</td><td>80</td><td>0.04416452553540312</td><td>0.0</td><td>0.030023582201515464</td><td>0.0</td><td>257.90227269430306</td><td>0.0</td><td>0.0003247413529607002</td><td>0.0</td><td>83.81242680332994</td><td>0.0</td><td>-5.375817662249112</td><td>0.0</td><td>True</td><td>0.00022150538594420378</td><td>2.6477754723789955e-05</td><td>nan</td><td>nan</td><td>nan</td><td>nan</td><td>nan</td><td>nan</td><td>8.56027046719834</td><td>nan</td><td>0.02283561442604352</td><td>0.0</td><td>0.018212091643364403</td><td>0.0</td><td>266.9563129530202</td><td>0.0</td><td>0.0006168441876070575</td><td>0.0</td><td>83.81242552580945</td><td>0.0</td><td>-5.375818049313694</td><td>0.0</td><td>True</td><td>0.00028286657074545334</td><td>0.00023634829997685677</td><td>nan</td><td>nan</td><td>nan</td><td>nan</td><td>nan</td><td>nan</td><td>2.073453866234444</td><td>nan</td><td>7.438690647649982</td><td>10.171443588694952</td><td>23.051281820427203</td><td>214</td><td>0.13</td><td>83.8124717083333</td><td>0.0008176000000000001</td><td>-5.37584266666667</td><td>0.017912</td><td>0.0367</td><td>0.0024</td><td>nan</td><td>nan</td><td></td><td>0</td><td>nan</td><td></td><td>0.19755484605673468</td></tr>\n",
       "</table>"
      ],
      "text/plain": [
       "<Table length=17>\n",
       " Seq       b3b6_alpha     ...      VISION           Separation     \n",
       "                          ...                         arcsec       \n",
       "int64       float64       ...     bytes16            float64       \n",
       "----- ------------------- ... ---------------- --------------------\n",
       "   11  1.2041659700088365 ... 05351539-0522399  0.19391704900403609\n",
       "   15  3.0599956987129615 ...                    0.5159020304882778\n",
       "   21  1.9356748336167402 ... 05351436-0522327  0.17177848948647192\n",
       "   24  2.6229409735012954 ...                   0.03230878981158058\n",
       "   26  1.9670280849890753 ...                   0.03586817756937565\n",
       "   27  2.5583597754213607 ...                  0.018977227549907518\n",
       "   28    2.30350047126661 ...                  0.044919136163564126\n",
       "   30 -0.5657153667861811 ... 05351472-0522296 0.016630690546738807\n",
       "   36   2.233898830587656 ... 05351336-0522261 0.050083417250150225\n",
       "   39  0.8049375857750405 ...                   0.05787290222141308\n",
       "   46   3.270388302946763 ... 05351352-0522196  0.11741725191552768\n",
       "   48   3.128053255949892 ... 05351377-0522174 0.013117100553038252\n",
       "   49   2.599361141137058 ...                   0.03786880664543663\n",
       "   51   2.856052358030333 ...                   0.09842015545980917\n",
       "   56  1.1661333961847193 ... 05351629-0522103  0.06649207161050809\n",
       "   64   2.975844678967705 ... 05351502-0522311  0.02057924491724743\n",
       "   67   3.292550734839745 ...                   0.19755484605673468"
      ]
     },
     "execution_count": 44,
     "metadata": {},
     "output_type": "execute_result"
    }
   ],
   "source": [
    "match"
   ]
  },
  {
   "cell_type": "markdown",
   "metadata": {},
   "source": []
  },
  {
   "cell_type": "code",
   "execution_count": null,
   "metadata": {},
   "outputs": [],
   "source": []
  },
  {
   "cell_type": "code",
   "execution_count": null,
   "metadata": {},
   "outputs": [],
   "source": []
  }
 ],
 "metadata": {
  "kernelspec": {
   "display_name": "Python 3",
   "language": "python",
   "name": "python3"
  },
  "language_info": {
   "codemirror_mode": {
    "name": "ipython",
    "version": 3
   },
   "file_extension": ".py",
   "mimetype": "text/x-python",
   "name": "python",
   "nbconvert_exporter": "python",
   "pygments_lexer": "ipython3",
   "version": "3.7.10"
  }
 },
 "nbformat": 4,
 "nbformat_minor": 2
}
