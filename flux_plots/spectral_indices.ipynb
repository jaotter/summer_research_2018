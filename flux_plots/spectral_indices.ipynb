{
 "cells": [
  {
   "cell_type": "code",
   "execution_count": 69,
   "metadata": {},
   "outputs": [],
   "source": [
    "from astropy.table import Table, join\n",
    "import numpy as np"
   ]
  },
  {
   "cell_type": "code",
   "execution_count": 3,
   "metadata": {},
   "outputs": [],
   "source": [
    "freqs = [98, 223.5 ,339.7672758867]\n",
    "data = Table.read('/home/jotter/nrao/summer_research_2018/tables/r0.5_catalog_bgfit_mar21_ulim.fits')\n",
    "cac = Table.read('/home/jotter/nrao/summer_research_2018/tables/r0.5_mar21_calc_vals.fits')"
   ]
  },
  {
   "cell_type": "code",
   "execution_count": 4,
   "metadata": {},
   "outputs": [],
   "source": [
    "def specind_compute(freq1, freq2, flux1, flux2, flux1_err, flux2_err):\n",
    "    freqdiff = np.log10(freq2) - np.log10(freq1)\n",
    "    specind = (np.log10(flux2)-np.log10(flux1))/freqdiff\n",
    "    error = np.sqrt((flux1_err/(freqdiff*np.log(10)*flux1))**2 + (flux2_err/(freqdiff*np.log(10)*flux2))**2)\n",
    "    return specind, error"
   ]
  },
  {
   "cell_type": "code",
   "execution_count": 5,
   "metadata": {},
   "outputs": [],
   "source": [
    "b3flux = data['ap_flux_B3'].data\n",
    "b3flux_err = data['ap_flux_err_B3'].data\n",
    "b6flux = data['ap_flux_B6'].data\n",
    "b6flux_err = data['ap_flux_err_B6'].data\n",
    "b7flux = data['ap_flux_B7'].data\n",
    "b7flux_err = data['ap_flux_err_B7'].data"
   ]
  },
  {
   "cell_type": "code",
   "execution_count": 6,
   "metadata": {},
   "outputs": [],
   "source": [
    "b6b7_specind, b6b7_specind_err = specind_compute(freqs[2],freqs[1],b7flux, b6flux, b7flux_err, b6flux_err)\n",
    "b3b6_specind, b3b6_specind_err = specind_compute(freqs[1],freqs[0],b6flux, b3flux, b6flux_err, b3flux_err)"
   ]
  },
  {
   "cell_type": "code",
   "execution_count": 7,
   "metadata": {},
   "outputs": [
    {
     "name": "stdout",
     "output_type": "stream",
     "text": [
      "42 34\n"
     ]
    }
   ],
   "source": [
    "b3b6_ind = np.where(np.isnan(b3b6_specind) == False)[0]\n",
    "b6b7_ind = np.where(np.isnan(b6b7_specind) == False)[0]\n",
    "print(len(b3b6_ind), len(b6b7_ind))"
   ]
  },
  {
   "cell_type": "code",
   "execution_count": 8,
   "metadata": {},
   "outputs": [],
   "source": [
    "sys_err = 0.20 #20% systematic error\n",
    "\n",
    "b3flux = data['ap_flux_B3'].data\n",
    "b3flux_err = np.sqrt(data['ap_flux_err_B3'].data**2 + (sys_err*b3flux)**2)\n",
    "b6flux = data['ap_flux_B6'].data\n",
    "b6flux_err = np.sqrt(data['ap_flux_err_B6'].data**2 + (sys_err*b6flux)**2)\n",
    "b7flux = data['ap_flux_B7'].data\n",
    "b7flux_err = np.sqrt(data['ap_flux_err_B7'].data**2 + (sys_err*b7flux)**2)"
   ]
  },
  {
   "cell_type": "code",
   "execution_count": 9,
   "metadata": {},
   "outputs": [],
   "source": [
    "b6b7_specind, b6b7_specind_err_sys = specind_compute(freqs[2],freqs[1],b7flux, b6flux, b7flux_err, b6flux_err)\n",
    "b3b6_specind, b3b6_specind_err_sys = specind_compute(freqs[1],freqs[0],b6flux, b3flux, b6flux_err, b3flux_err)"
   ]
  },
  {
   "cell_type": "code",
   "execution_count": 10,
   "metadata": {},
   "outputs": [
    {
     "name": "stdout",
     "output_type": "stream",
     "text": [
      "[ 2.06951976  4.04406965  2.22915097  1.96195886  1.79241549  2.0311904\n",
      " -1.9276605   2.33421134  1.91836748  3.35025701  2.3530512   1.56727741\n",
      "  1.92306402  2.45733916  2.17632605  1.99955867  2.39251537  1.98617753\n",
      "  1.86660575 -1.38129033  1.91635857  1.99726657  1.91596848  2.40227483\n",
      "  1.86006657  0.80799336  2.75304329  1.88634822  1.67444959  3.24592345\n",
      "  2.03704059  1.78980895  1.69137715  1.4395901   2.29630769  0.90048557\n",
      "  1.68549343  1.99692554  1.12566122  1.57329538  1.76940851  2.09141107] [0.34310249 0.36164027 0.34309744 0.34395758 0.34872215 0.34308182\n",
      " 1.54831179 0.34309522 0.3462319  0.3432438  0.34325239 0.34613968\n",
      " 0.34574301 0.34421104 0.34803586 0.34308647 0.34314899 0.34336369\n",
      " 0.36087017 0.61182138 0.34325431 0.34315677 0.36573069 0.34316828\n",
      " 0.35166059 0.34321035 0.34391949 0.34392411 0.34351874 0.36721177\n",
      " 0.34340533 0.34315227 0.34334138 0.39877803 0.37086647 0.3761203\n",
      " 0.48940227 0.34535324 0.42286077 0.36297917 0.4716159  0.38075765]\n",
      "[ 0.7379854   1.34046583  1.84204181  2.17374299  1.2484226   2.40481021\n",
      "  1.83487882  2.13728684  1.77568299  0.59363783  2.21728618  1.4581061\n",
      "  2.05120409  2.36431771  2.33397713  2.81413936  4.29103347  1.63297637\n",
      "  1.63836497  1.46435879  2.02561834  1.81837594  1.23679531  2.14225329\n",
      "  1.46007155  0.56742602  3.44130579 -0.10746028  4.59075141  1.0231302\n",
      "  2.57743096  0.58380972  1.90254334  3.19064931] [0.67528827 0.67566052 0.67528934 3.38519097 0.67528575 0.67613883\n",
      " 0.67528686 0.67528865 0.67533873 0.67597091 0.67528855 0.67592332\n",
      " 0.67528504 0.67528718 0.67529466 0.68166138 1.29209831 0.67530199\n",
      " 0.67528873 0.67755005 0.67529    0.6756046  0.67530816 0.67534407\n",
      " 0.67543552 0.68857372 0.71320769 0.67657831 0.68026255 0.74554512\n",
      " 0.67543789 2.12530745 0.70992872 0.79522863]\n"
     ]
    }
   ],
   "source": [
    "print(b3b6_specind[b3b6_ind], b3b6_specind_err_sys[b3b6_ind])\n",
    "print(b6b7_specind[b6b7_ind], b6b7_specind_err_sys[b6b7_ind])"
   ]
  },
  {
   "cell_type": "code",
   "execution_count": 11,
   "metadata": {},
   "outputs": [
    {
     "name": "stdout",
     "output_type": "stream",
     "text": [
      "26 8\n",
      "22 3\n"
     ]
    }
   ],
   "source": [
    "##now find where the vaues agree with 2\n",
    "b3b6_specind2 = np.where(np.abs(b3b6_specind - 2) <=  b3b6_specind_err_sys)[0]\n",
    "b3b6_specind2_nosys = np.where(np.abs(b3b6_specind - 2) <=  b3b6_specind_err)[0]\n",
    "\n",
    "print(len(b3b6_specind2), len(b3b6_specind2_nosys))\n",
    "\n",
    "b6b7_specind2 = np.where(np.abs(b6b7_specind - 2) <=  b6b7_specind_err_sys)[0]\n",
    "b6b7_specind2_nosys = np.where(np.abs(b6b7_specind - 2) <=  b6b7_specind_err)[0]\n",
    "\n",
    "print(len(b6b7_specind2), len(b6b7_specind2_nosys))"
   ]
  },
  {
   "cell_type": "code",
   "execution_count": 14,
   "metadata": {},
   "outputs": [
    {
     "data": {
      "text/plain": [
       "array([10, 12, 16, 25, 26, 28, 31, 32, 33, 35, 44, 66])"
      ]
     },
     "execution_count": 14,
     "metadata": {},
     "output_type": "execute_result"
    }
   ],
   "source": [
    "np.intersect1d(b3b6_specind2, b6b7_specind2)"
   ]
  },
  {
   "cell_type": "code",
   "execution_count": 15,
   "metadata": {},
   "outputs": [
    {
     "data": {
      "text/plain": [
       "array([], dtype=int64)"
      ]
     },
     "execution_count": 15,
     "metadata": {},
     "output_type": "execute_result"
    }
   ],
   "source": [
    "np.intersect1d(b3b6_specind2_nosys, b6b7_specind2_nosys)"
   ]
  },
  {
   "cell_type": "code",
   "execution_count": 29,
   "metadata": {},
   "outputs": [],
   "source": [
    "both_agree = np.where(np.abs(b6b7_specind - b3b6_specind) <  np.sqrt(b6b7_specind_err_sys**2 + b3b6_specind_err_sys**2))[0]"
   ]
  },
  {
   "cell_type": "code",
   "execution_count": 30,
   "metadata": {},
   "outputs": [
    {
     "data": {
      "text/plain": [
       "array([10, 12, 16, 20, 21, 24, 25, 26, 27, 28, 31, 32, 33, 34, 35, 39, 40,\n",
       "       44, 65, 66, 67, 68])"
      ]
     },
     "execution_count": 30,
     "metadata": {},
     "output_type": "execute_result"
    }
   ],
   "source": [
    "both_agree"
   ]
  },
  {
   "cell_type": "code",
   "execution_count": 44,
   "metadata": {},
   "outputs": [
    {
     "name": "stdout",
     "output_type": "stream",
     "text": [
      "8 19\n",
      "7 17\n",
      "[39]\n"
     ]
    }
   ],
   "source": [
    "##now find where the vaues less than 2\n",
    "b3b6_specindl2 = np.where(2 - b3b6_specind >  b3b6_specind_err_sys)[0]\n",
    "b3b6_specindl2_nosys = np.where(2 - b3b6_specind >  b3b6_specind_err)[0]\n",
    "\n",
    "print(len(b3b6_specindl2), len(b3b6_specindl2_nosys))\n",
    "\n",
    "b6b7_specindl2 = np.where(2 - b6b7_specind >  b6b7_specind_err_sys)[0]\n",
    "b6b7_specindl2_nosys = np.where(2 - b6b7_specind >  b6b7_specind_err)[0]\n",
    "\n",
    "print(len(b6b7_specindl2), len(b6b7_specindl2_nosys))\n",
    "print(np.intersect1d(b3b6_specindl2, b6b7_specindl2))"
   ]
  },
  {
   "cell_type": "code",
   "execution_count": 46,
   "metadata": {},
   "outputs": [
    {
     "name": "stdout",
     "output_type": "stream",
     "text": [
      "8 15\n",
      "[ 8 18 20 24 27 34 40 45] [29 30 62 64 69]\n",
      "[]\n"
     ]
    }
   ],
   "source": [
    "##now find where the vaues greater than 2\n",
    "b3b6_specindg2 = np.where(b3b6_specind - 2>  b3b6_specind_err_sys)[0]\n",
    "b3b6_specindg2_nosys = np.where(b3b6_specind - 2>  b3b6_specind_err)[0]\n",
    "\n",
    "print(len(b3b6_specindg2), len(b3b6_specindg2_nosys))\n",
    "\n",
    "b6b7_specindg2 = np.where(b6b7_specind - 2>  b6b7_specind_err_sys)[0]\n",
    "b6b7_specindg2_nosys = np.where(b6b7_specind - 2 >  b6b7_specind_err)[0]\n",
    "\n",
    "print(b3b6_specindg2, b6b7_specindg2)\n",
    "print(np.intersect1d(b3b6_specindg2, b6b7_specindg2))"
   ]
  },
  {
   "cell_type": "code",
   "execution_count": 40,
   "metadata": {},
   "outputs": [
    {
     "name": "stdout",
     "output_type": "stream",
     "text": [
      "[1.65121235 1.93661611 2.16158885 2.24516902 1.6714802  2.33731267\n",
      " 1.81721607 2.02538138 2.37841654 2.16007733 1.77466747 1.81781577\n",
      " 1.69016363 2.21394659 1.83922126 1.02239433 2.44764829 1.56726057\n",
      " 1.35431181 2.28717825 0.85473547 1.73791936]\n",
      "[0.37908573 0.37872181 0.37981582 0.37876014 0.37943875 0.37897753\n",
      " 0.38013198 0.37872094 0.37873606 0.37878803 0.37876652 0.37873851\n",
      " 0.38497825 0.37874168 0.38082369 0.37875931 0.37893609 0.37888595\n",
      " 0.44591258 0.3793037  1.08348315 0.3986705 ]\n"
     ]
    }
   ],
   "source": [
    "avg_alpha = (b3b6_specind[both_agree] + b6b7_specind[both_agree])/2\n",
    "avg_alpha_err = np.sqrt(b3b6_specind_err_sys[both_agree]**2 + b6b7_specind_err_sys[both_agree]**2)/2\n",
    "\n",
    "print(avg_alpha)\n",
    "print(avg_alpha_err)"
   ]
  },
  {
   "cell_type": "code",
   "execution_count": 37,
   "metadata": {},
   "outputs": [
    {
     "data": {
      "text/plain": [
       "array([10, 12, 16, 20, 21, 24, 25, 26, 27, 28, 31, 32, 33, 34, 35, 66, 68])"
      ]
     },
     "execution_count": 37,
     "metadata": {},
     "output_type": "execute_result"
    }
   ],
   "source": [
    "both_agree[np.where(np.abs(avg_alpha - 2) < avg_alpha_err)[0]]"
   ]
  },
  {
   "cell_type": "code",
   "execution_count": 47,
   "metadata": {},
   "outputs": [
    {
     "data": {
      "text/plain": [
       "array([40])"
      ]
     },
     "execution_count": 47,
     "metadata": {},
     "output_type": "execute_result"
    }
   ],
   "source": [
    "both_agree[np.where(avg_alpha - 2 > avg_alpha_err)[0]] #avg greater than 2"
   ]
  },
  {
   "cell_type": "code",
   "execution_count": 48,
   "metadata": {},
   "outputs": [
    {
     "data": {
      "text/plain": [
       "array([39, 44, 65, 67])"
      ]
     },
     "execution_count": 48,
     "metadata": {},
     "output_type": "execute_result"
    }
   ],
   "source": [
    "both_agree[np.where(2 - avg_alpha > avg_alpha_err)[0]] #avg greater than 2"
   ]
  },
  {
   "cell_type": "code",
   "execution_count": 60,
   "metadata": {},
   "outputs": [],
   "source": [
    "only_b3b6_ind = np.setdiff1d(b3b6_ind, b6b7_ind)"
   ]
  },
  {
   "cell_type": "code",
   "execution_count": 61,
   "metadata": {},
   "outputs": [
    {
     "data": {
      "text/plain": [
       "array([ 6,  8, 11, 41, 48, 49, 50, 70])"
      ]
     },
     "execution_count": 61,
     "metadata": {},
     "output_type": "execute_result"
    }
   ],
   "source": [
    "only_b3b6_ind"
   ]
  },
  {
   "cell_type": "code",
   "execution_count": 64,
   "metadata": {},
   "outputs": [
    {
     "name": "stdout",
     "output_type": "stream",
     "text": [
      "[2.06951976 4.04406965 1.79241549 1.88634822 2.03704059 1.78980895\n",
      " 1.69137715 2.09141107]\n",
      "[0.34310249 0.36164027 0.34872215 0.34392411 0.34340533 0.34315227\n",
      " 0.34334138 0.38075765]\n"
     ]
    }
   ],
   "source": [
    "print(b3b6_specind[only_b3b6_ind])\n",
    "print(b3b6_specind_err_sys[only_b3b6_ind])"
   ]
  },
  {
   "cell_type": "code",
   "execution_count": 65,
   "metadata": {},
   "outputs": [
    {
     "data": {
      "text/plain": [
       "array([2.41262225, 4.40570992, 2.14113765, 2.23027233, 2.38044592,\n",
       "       2.13296121, 2.03471853, 2.47216873])"
      ]
     },
     "execution_count": 65,
     "metadata": {},
     "output_type": "execute_result"
    }
   ],
   "source": [
    "b3b6_specind[only_b3b6_ind] + b3b6_specind_err_sys[only_b3b6_ind]"
   ]
  },
  {
   "cell_type": "code",
   "execution_count": 66,
   "metadata": {},
   "outputs": [
    {
     "data": {
      "text/plain": [
       "array([ 6,  8, 11, 41, 48, 49, 50, 70])"
      ]
     },
     "execution_count": 66,
     "metadata": {},
     "output_type": "execute_result"
    }
   ],
   "source": [
    "only_b3b6_ind"
   ]
  },
  {
   "cell_type": "code",
   "execution_count": 72,
   "metadata": {},
   "outputs": [],
   "source": [
    "fb = Table.read('/home/jotter/nrao/summer_research_2018/tables/Forbrich2016_r0.5_mar21.fits')\n",
    "fb.rename_column('Seq_1','Seq')"
   ]
  },
  {
   "cell_type": "code",
   "execution_count": 73,
   "metadata": {},
   "outputs": [],
   "source": [
    "specind_tab = Table((b3b6_ind, b3b6_specind[b3b6_ind], b3b6_specind_err_sys[b3b6_ind],\n",
    "                     b6b7_specind[b3b6_ind], b6b7_specind_err_sys[b3b6_ind]),\n",
    "                    names=('Seq', 'b3b6_alpha', 'b3b6_alpha_err', 'b6b7_alpha', 'b6b7_alpha_err'))"
   ]
  },
  {
   "cell_type": "code",
   "execution_count": 74,
   "metadata": {},
   "outputs": [],
   "source": [
    "match = join(specind_tab, fb, keys='Seq')"
   ]
  },
  {
   "cell_type": "code",
   "execution_count": 75,
   "metadata": {},
   "outputs": [
    {
     "data": {
      "text/html": [
       "<i>Table length=14</i>\n",
       "<table id=\"table139881999692520\" class=\"table-striped table-bordered table-condensed\">\n",
       "<thead><tr><th>Seq</th><th>b3b6_alpha</th><th>b3b6_alpha_err</th><th>b6b7_alpha</th><th>b6b7_alpha_err</th><th>fwhm_maj_B3</th><th>fwhm_maj_err_B3</th><th>fwhm_min_B3</th><th>fwhm_min_err_B3</th><th>pa_B3</th><th>pa_err_B3</th><th>gauss_amp_B3</th><th>gauss_amp_err_B3</th><th>RA_B3</th><th>RA_err_B3</th><th>DEC_B3</th><th>DEC_err_B3</th><th>ap_flux_B3</th><th>ap_flux_err_B3</th><th>fwhm_maj_deconv_B3</th><th>fwhm_maj_deconv_err_B3</th><th>fwhm_min_deconv_B3</th><th>fwhm_min_deconv_err_B3</th><th>pa_deconv_B3</th><th>pa_deconv_err_B3</th><th>SNR_B3</th><th>RMS_B3</th><th>ar_deconv_B3</th><th>D_ID</th><th>fwhm_maj_B6</th><th>fwhm_maj_err_B6</th><th>fwhm_min_B6</th><th>fwhm_min_err_B6</th><th>pa_B6</th><th>pa_err_B6</th><th>gauss_amp_B6</th><th>gauss_amp_err_B6</th><th>RA_B6</th><th>RA_err_B6</th><th>DEC_B6</th><th>DEC_err_B6</th><th>success_B6</th><th>ap_flux_B6</th><th>ap_flux_err_B6</th><th>fwhm_maj_deconv_B6</th><th>fwhm_maj_deconv_err_B6</th><th>fwhm_min_deconv_B6</th><th>fwhm_min_deconv_err_B6</th><th>pa_deconv_B6</th><th>pa_deconv_err_B6</th><th>SNR_B6</th><th>ar_deconv_B6</th><th>fwhm_maj_B7</th><th>fwhm_maj_err_B7</th><th>fwhm_min_B7</th><th>fwhm_min_err_B7</th><th>pa_B7</th><th>pa_err_B7</th><th>gauss_amp_B7</th><th>gauss_amp_err_B7</th><th>RA_B7</th><th>RA_err_B7</th><th>DEC_B7</th><th>DEC_err_B7</th><th>success_B7</th><th>ap_flux_B7</th><th>ap_flux_err_B7</th><th>fwhm_maj_deconv_B7</th><th>fwhm_maj_deconv_err_B7</th><th>fwhm_min_deconv_B7</th><th>fwhm_min_deconv_err_B7</th><th>pa_deconv_B7</th><th>pa_deconv_err_B7</th><th>SNR_B7</th><th>ar_deconv_B7</th><th>upper_lim_B6</th><th>upper_lim_B7</th><th>upper_lim_B3</th><th>Seq_2</th><th>Rad</th><th>RAJ2000</th><th>e_RAJ2000</th><th>DEJ2000</th><th>e_DEJ2000</th><th>Spk</th><th>e_Spk</th><th>alpha</th><th>e_alpha</th><th>Ref</th><th>COUP</th><th>Ltc</th><th>VISION</th><th>Separation</th></tr></thead>\n",
       "<thead><tr><th></th><th></th><th></th><th></th><th></th><th></th><th></th><th></th><th></th><th></th><th></th><th></th><th></th><th></th><th></th><th></th><th></th><th></th><th></th><th></th><th></th><th></th><th></th><th></th><th></th><th></th><th></th><th></th><th></th><th></th><th></th><th></th><th></th><th></th><th></th><th></th><th></th><th></th><th></th><th></th><th></th><th></th><th></th><th></th><th></th><th></th><th></th><th></th><th></th><th></th><th></th><th></th><th></th><th></th><th></th><th></th><th></th><th></th><th></th><th></th><th></th><th></th><th></th><th></th><th></th><th></th><th></th><th></th><th></th><th></th><th></th><th></th><th></th><th></th><th></th><th>AU</th><th>AU</th><th>AU</th><th></th><th>arcmin</th><th>deg</th><th>s</th><th>deg</th><th>arcsec</th><th>mJy</th><th>mJy</th><th></th><th></th><th></th><th></th><th>[10-7W]</th><th></th><th>arcsec</th></tr></thead>\n",
       "<thead><tr><th>int64</th><th>float64</th><th>float64</th><th>float64</th><th>float64</th><th>float64</th><th>float64</th><th>float64</th><th>float64</th><th>float64</th><th>float64</th><th>float64</th><th>float64</th><th>float64</th><th>float64</th><th>float64</th><th>float64</th><th>float64</th><th>float64</th><th>float64</th><th>float64</th><th>float64</th><th>float64</th><th>float64</th><th>float64</th><th>float64</th><th>float32</th><th>float64</th><th>int32</th><th>float64</th><th>float64</th><th>float64</th><th>float64</th><th>float64</th><th>float64</th><th>float64</th><th>float64</th><th>float64</th><th>float64</th><th>float64</th><th>float64</th><th>bytes8</th><th>float64</th><th>float64</th><th>float64</th><th>float64</th><th>float64</th><th>float64</th><th>float64</th><th>float64</th><th>float64</th><th>float64</th><th>float64</th><th>float64</th><th>float64</th><th>float64</th><th>float64</th><th>float64</th><th>float64</th><th>float64</th><th>float64</th><th>float64</th><th>float64</th><th>float64</th><th>bytes8</th><th>float64</th><th>float64</th><th>float64</th><th>float64</th><th>float64</th><th>float64</th><th>float64</th><th>float64</th><th>float64</th><th>float64</th><th>float64</th><th>float64</th><th>float64</th><th>int16</th><th>float32</th><th>float64</th><th>float64</th><th>float64</th><th>float64</th><th>float32</th><th>float32</th><th>float32</th><th>float32</th><th>bytes10</th><th>int16</th><th>float32</th><th>bytes16</th><th>float64</th></tr></thead>\n",
       "<tr><td>11</td><td>1.7924154923992122</td><td>0.34872215346960056</td><td>nan</td><td>nan</td><td>0.12508210993658392</td><td>0.010340954500372333</td><td>0.07738150510535492</td><td>0.0063974644881915135</td><td>63.87105340817135</td><td>0.1171777427736119</td><td>0.00042892873791004993</td><td>3.5459341681562276e-05</td><td>83.81413482476985</td><td>1.1444981184015256e-06</td><td>-5.377732925184</td><td>8.646495562344217e-07</td><td>0.0005267397030781578</td><td>2.6459894084720006e-05</td><td>0.08435570004661445</td><td>0.010340954500372333</td><td>0.009750403626335292</td><td>0.0063974644881915135</td><td>1.3197653459129894</td><td>0.1171777427736119</td><td>8.222765350482419</td><td>5.1860705e-05</td><td>8.651508519993413</td><td>13</td><td>0.15964335921635386</td><td>0.0</td><td>0.06117036435877132</td><td>0.0</td><td>250.2004256854907</td><td>0.0</td><td>0.00048677623736149755</td><td>0.0</td><td>83.81413767212715</td><td>0.0</td><td>-5.377732005185563</td><td>0.0</td><td>True</td><td>0.0023087293491329645</td><td>2.6718869645249473e-05</td><td>nan</td><td>nan</td><td>nan</td><td>nan</td><td>nan</td><td>nan</td><td>4.699289971199373</td><td>nan</td><td>nan</td><td>nan</td><td>nan</td><td>nan</td><td>nan</td><td>nan</td><td>nan</td><td>nan</td><td>nan</td><td>nan</td><td>nan</td><td>nan</td><td>N/A</td><td>nan</td><td>nan</td><td>nan</td><td>nan</td><td>nan</td><td>nan</td><td>nan</td><td>nan</td><td>nan</td><td>nan</td><td>10.654308473754133</td><td>nan</td><td>nan</td><td>233</td><td>0.28</td><td>83.8141426666667</td><td>7.310000000000002e-05</td><td>-5.37778622222222</td><td>0.0008300000000000001</td><td>0.4975</td><td>0.0025</td><td>-0.68</td><td>0.21</td><td>Z</td><td>0</td><td>nan</td><td>05351539-0522399</td><td>0.19391704900403609</td></tr>\n",
       "<tr><td>14</td><td>-1.9276605001826117</td><td>1.5483117870624536</td><td>2.1737429893865134</td><td>3.385190971512436</td><td>0.09634824107607774</td><td>0.003102183002897431</td><td>0.06788046217540548</td><td>0.0021856768092064073</td><td>46.17639666589673</td><td>0.06370633447393365</td><td>0.00046002072376798874</td><td>1.4811674723502008e-05</td><td>83.81042393726936</td><td>3.187079583501615e-07</td><td>-5.377417792980893</td><td>3.143399465396786e-07</td><td>0.00038203434196243456</td><td>1.3921741916596627e-05</td><td>nan</td><td>nan</td><td>nan</td><td>nan</td><td>nan</td><td>nan</td><td>20.359742224942206</td><td>1.9848407e-05</td><td>nan</td><td>16</td><td>0.027765674516556003</td><td>0.0</td><td>0.027765674516556003</td><td>0.0</td><td>132.81065859813407</td><td>0.0</td><td>0.0001475595810916275</td><td>0.0</td><td>83.81042216459109</td><td>0.0</td><td>-5.3774171697576865</td><td>0.0</td><td>True</td><td>7.796519398504607e-05</td><td>9.700683584763233e-05</td><td>nan</td><td>nan</td><td>nan</td><td>nan</td><td>nan</td><td>nan</td><td>1.386662141194327</td><td>nan</td><td>0.021532390823584432</td><td>0.0</td><td>0.018212091643364403</td><td>0.0</td><td>-68.3155872938164</td><td>0.0</td><td>0.0004162559406232181</td><td>0.0</td><td>83.81042301230663</td><td>0.0</td><td>-5.3774162555227045</td><td>0.0</td><td>True</td><td>0.0001937819641795176</td><td>0.00011981376562372211</td><td>nan</td><td>nan</td><td>nan</td><td>nan</td><td>nan</td><td>nan</td><td>2.81267995275496</td><td>nan</td><td>22.13425342520799</td><td>8.188860349944783</td><td>10.637880314826772</td><td>184</td><td>0.14</td><td>83.8104220833333</td><td>1.3800000000000003e-05</td><td>-5.37741338888889</td><td>0.000248</td><td>1.2994</td><td>0.0027</td><td>0.9</td><td>0.1</td><td>Z,K,GMR H</td><td>639</td><td>30.9</td><td></td><td>0.01719086457211836</td></tr>\n",
       "<tr><td>15</td><td>2.334211336409895</td><td>0.343095220718767</td><td>1.2484226007758923</td><td>0.6752857460623513</td><td>0.19939876292069492</td><td>0.00202988914746693</td><td>0.0980854869696446</td><td>0.0009985185572633478</td><td>-84.00387297660558</td><td>0.009342554436372946</td><td>0.001496526994912253</td><td>1.523478937792442e-05</td><td>83.81107215283834</td><td>2.384561120713724e-07</td><td>-5.377358469256499</td><td>1.1978290994901457e-07</td><td>0.003292253169383969</td><td>1.1032424966607122e-05</td><td>0.1823311368692168</td><td>0.00202988914746693</td><td>0.04139455132052926</td><td>0.0009985185572633478</td><td>-80.25450102795986</td><td>0.009342554436372946</td><td>48.35535068040186</td><td>3.094853e-05</td><td>4.4047134478491445</td><td>17</td><td>0.23293727073047546</td><td>0.003485788332594531</td><td>0.10847470114638688</td><td>0.001623275303775445</td><td>6.720746212185361</td><td>0.012584423155651423</td><td>0.002165320499186504</td><td>3.240341716364201e-05</td><td>83.8110731308297</td><td>4.089773651523633e-07</td><td>-5.377359335214831</td><td>1.9616165433877818e-07</td><td>True</td><td>0.022555942675093348</td><td>7.798314897834036e-06</td><td>0.21918156894051585</td><td>0.003485788332594531</td><td>0.06448332383324551</td><td>0.001623275303775445</td><td>-80.70656061124687</td><td>0.012584423155651423</td><td>44.456153204099955</td><td>3.3990426657800934</td><td>0.2521372543437774</td><td>0.013091746487728729</td><td>0.09997049822621522</td><td>0.005190837033326284</td><td>6.37843893208813</td><td>0.03454640472980462</td><td>0.0017548393801976204</td><td>9.111908515628475e-05</td><td>83.81106882096374</td><td>1.536268355664132e-06</td><td>-5.377357650872647</td><td>6.322483984036077e-07</td><td>True</td><td>0.03804994845987197</td><td>1.159673148917816e-05</td><td>0.2394016737194864</td><td>0.013091746487728729</td><td>0.049257085739754056</td><td>0.005190837033326284</td><td>-81.55823927347178</td><td>0.03454640472980462</td><td>15.386240428858159</td><td>4.860248431755511</td><td>nan</td><td>nan</td><td>nan</td><td>200</td><td>0.14</td><td>83.811188</td><td>0.00024820000000000007</td><td>-5.37727341666667</td><td>0.005672000000000001</td><td>0.0686</td><td>0.0026</td><td>nan</td><td>nan</td><td></td><td>0</td><td>nan</td><td></td><td>0.5159020304882778</td></tr>\n",
       "<tr><td>21</td><td>1.5672774115314787</td><td>0.3461396776113539</td><td>1.7756829909445098</td><td>0.6753387277759924</td><td>0.09903178444661873</td><td>0.001599587286907939</td><td>0.0740468188800734</td><td>0.0011960248400822648</td><td>41.96961846740993</td><td>0.03873547669292013</td><td>0.0013731493365948216</td><td>2.2179464456372965e-05</td><td>83.80982708856077</td><td>1.6409009209843703e-07</td><td>-5.37575717589869</td><td>1.690652665980387e-07</td><td>0.0012959593632677821</td><td>4.895208008693686e-05</td><td>0.023297160887695602</td><td>0.001599587286907939</td><td>0.018027505489830332</td><td>0.0011960248400822648</td><td>0.0966655202195798</td><td>0.03873547669292013</td><td>16.343996368094007</td><td>7.551067e-05</td><td>1.2923119563512537</td><td>23</td><td>0.1106547226225418</td><td>0.005387321598716349</td><td>0.07985713860384423</td><td>0.0038879824101768485</td><td>-41.00181223761632</td><td>0.10370495688690973</td><td>0.0012229074790801463</td><td>5.95412004310688e-05</td><td>83.80982880630711</td><td>5.661743143383438e-07</td><td>-5.37575684782842</td><td>5.418898199852885e-07</td><td>True</td><td>0.004717993479491312</td><td>1.5521214741493263e-05</td><td>0.05834717272067777</td><td>0.005387321598716349</td><td>0.03727417325464247</td><td>0.0038879824101768485</td><td>61.218151768630946</td><td>0.10370495688690973</td><td>21.3105327455565</td><td>1.5653512238104619</td><td>0.09545531770339269</td><td>0.008728159611409683</td><td>0.07240639227428206</td><td>0.006620843547102291</td><td>-47.86538881231604</td><td>0.23102132760636868</td><td>0.0011939945954606238</td><td>0.00010916783712291799</td><td>83.8098278152042</td><td>9.014212259489432e-07</td><td>-5.375758103575617</td><td>9.259876145370471e-07</td><td>True</td><td>0.00992570153684431</td><td>1.3837480081124887e-05</td><td>0.020168514991707572</td><td>0.008728159611409683</td><td>0.01094352112944186</td><td>0.006620843547102291</td><td>-32.44890611003327</td><td>0.23102132760636868</td><td>16.723615809787447</td><td>1.8429639558557882</td><td>nan</td><td>nan</td><td>nan</td><td>178</td><td>0.05</td><td>83.809807125</td><td>4.280000000000001e-05</td><td>-5.37580055555556</td><td>0.0012820000000000002</td><td>0.5904</td><td>0.0025</td><td>-0.28</td><td>0.12</td><td>Z,GMR L</td><td>621</td><td>30.97</td><td>05351436-0522327</td><td>0.17177848948647192</td></tr>\n",
       "<tr><td>24</td><td>2.457339162962514</td><td>0.34421103539086945</td><td>2.2172861812144835</td><td>0.6752885472710852</td><td>0.12967183521590606</td><td>0.002232677567423603</td><td>0.08497125282543859</td><td>0.001463031690313493</td><td>63.79922279568646</td><td>0.0279633031431088</td><td>0.0022547246641611406</td><td>3.8821957382578386e-05</td><td>83.81072556494026</td><td>2.4828989414096433e-07</td><td>-5.375362040041768</td><td>1.9364914887027325e-07</td><td>0.0031608588985081914</td><td>7.289383166205229e-05</td><td>0.09101063576510156</td><td>0.002232677567423603</td><td>0.03646211424603409</td><td>0.001463031690313493</td><td>1.3199845219886224</td><td>0.0279633031431088</td><td>14.696549206472266</td><td>0.00014494611</td><td>2.496032872668666</td><td>28</td><td>0.16490991032102897</td><td>0.0</td><td>0.100891542793053</td><td>0.0</td><td>247.56439571319925</td><td>0.0</td><td>0.0029107338897973963</td><td>0.0</td><td>83.81072837447728</td><td>0.0</td><td>-5.375362247510271</td><td>0.0</td><td>True</td><td>0.02396949940687319</td><td>2.1344935223588636e-05</td><td>0.13817141063461447</td><td>0.0</td><td>0.06674705644552066</td><td>0.0</td><td>1.2859004442119328</td><td>0.0</td><td>26.914349371075904</td><td>2.07007496648771</td><td>0.15754050197870248</td><td>0.008317268733170293</td><td>0.09054794959474005</td><td>0.00478035848618802</td><td>157.55508647285427</td><td>0.06408095626799878</td><td>0.0038845325928980063</td><td>0.00020508433511952698</td><td>83.8107267648731</td><td>9.320040858307136e-07</td><td>-5.3753631471356025</td><td>6.418240837991185e-07</td><td>True</td><td>0.06067254822740265</td><td>1.7493745899504414e-05</td><td>0.1293023465076303</td><td>0.008317268733170293</td><td>0.04970885694503894</td><td>0.00478035848618802</td><td>73.83469106544479</td><td>0.06408095626799878</td><td>29.978052457782443</td><td>2.601193317532822</td><td>nan</td><td>nan</td><td>nan</td><td>191</td><td>0.03</td><td>83.8107240416667</td><td>0.0002463</td><td>-5.37535319444444</td><td>0.005568000000000001</td><td>0.051</td><td>0.0027</td><td>nan</td><td>nan</td><td></td><td>0</td><td>nan</td><td></td><td>0.03230878981158058</td></tr>\n",
       "<tr><td>26</td><td>1.999558671804784</td><td>0.3430864657912304</td><td>2.051204085819558</td><td>0.6752850445312317</td><td>0.16331123523718813</td><td>0.0005984989564806667</td><td>0.10473652686566355</td><td>0.00038383577867933506</td><td>-34.83517756319236</td><td>0.005646171235100633</td><td>0.022894279779799867</td><td>8.390236000220025e-05</td><td>83.81048870425084</td><td>5.4840612063627444e-08</td><td>-5.375171637140804</td><td>6.345794306308062e-08</td><td>0.04835475015016731</td><td>0.000129947382448196</td><td>0.1464608019963095</td><td>0.0005984989564806667</td><td>0.04203636563559025</td><td>0.00038383577867933506</td><td>-37.3229547204303</td><td>0.005646171235100633</td><td>67.14203011721378</td><td>0.00034098284</td><td>3.484145210505732</td><td>30</td><td>0.22115750851055851</td><td>0.0015550442423447111</td><td>0.11297519605070568</td><td>0.0007943708525476552</td><td>233.40412326553144</td><td>0.0068732682451465976</td><td>0.02319284383114502</td><td>0.00016307741676502898</td><td>83.81048858347229</td><td>1.3273673851478007e-07</td><td>-5.375172324047161</td><td>1.5751205275218476e-07</td><td>True</td><td>0.2514108573006386</td><td>5.249053068769276e-05</td><td>0.2096150019157218</td><td>0.0015550442423447111</td><td>0.06251172527465239</td><td>0.0007943708525476552</td><td>-37.627811022884686</td><td>0.0068732682451465976</td><td>71.13852130716653</td><td>3.3532109535411863</td><td>0.23204508420518688</td><td>0.0024596911446968877</td><td>0.10697239125830676</td><td>0.0011339197343777755</td><td>234.62968488185322</td><td>0.008775836922038174</td><td>0.02362916013374762</td><td>0.00025047223199103994</td><td>83.81048824255767</td><td>2.0026295477852324e-07</td><td>-5.375171244157876</td><td>2.489423705898047e-07</td><td>True</td><td>0.5936169586740018</td><td>3.032631100565687e-05</td><td>0.22100020988271843</td><td>0.0024596911446968877</td><td>0.051176627074822664</td><td>0.0011339197343777755</td><td>-36.365463618994006</td><td>0.008775836922038174</td><td>79.85680311452491</td><td>4.318381701076267</td><td>nan</td><td>nan</td><td>nan</td><td>185</td><td>0.01</td><td>83.8104811666667</td><td>3.08e-05</td><td>-5.37516508333333</td><td>0.0005310000000000001</td><td>0.6127</td><td>0.0027</td><td>1.86</td><td>0.26</td><td>Z,GMR I</td><td>0</td><td>nan</td><td></td><td>0.03586817756937565</td></tr>\n",
       "<tr><td>27</td><td>2.392515369854543</td><td>0.34314898922977616</td><td>2.3643177054447335</td><td>0.6752871771495014</td><td>0.11813186324617996</td><td>0.00043468727849308206</td><td>0.10101323405468406</td><td>0.0003716963440031233</td><td>45.32123365175519</td><td>0.016552759101006766</td><td>0.004850262673296847</td><td>1.784740866768621e-05</td><td>83.8116809414994</td><td>4.774746003077352e-08</td><td>-5.375189825376971</td><td>4.7664390035333147e-08</td><td>0.007731626710471992</td><td>4.6326189580769116e-05</td><td>0.07182626132787302</td><td>0.00043468727849308206</td><td>0.06765590657535943</td><td>0.0003716963440031233</td><td>-1.0413511027549482</td><td>0.016552759101006766</td><td>47.73337635509851</td><td>8.365894e-05</td><td>1.0616406602706356</td><td>31</td><td>0.12750061258938641</td><td>0.00071828424418033</td><td>0.11470442942959089</td><td>0.0006461961671567699</td><td>134.06739630632558</td><td>0.03759489877240168</td><td>0.007612453848159216</td><td>4.288529915341499e-05</td><td>83.81168147269874</td><td>8.045194970033392e-08</td><td>-5.37519081716348</td><td>8.072825435365056e-08</td><td>True</td><td>0.055579480014412076</td><td>4.0370167476379906e-05</td><td>0.09113378251768073</td><td>0.00071828424418033</td><td>0.0853245120531337</td><td>0.0006461961671567699</td><td>-49.59463603379517</td><td>0.03759489877240168</td><td>39.63419357642094</td><td>1.0680844264416005</td><td>0.12324347159336775</td><td>0.0013004206330314004</td><td>0.10570567868461701</td><td>0.0011153715245616907</td><td>-48.744210081094764</td><td>0.048416333242761615</td><td>0.009081826078320228</td><td>9.582806377988263e-05</td><td>83.81168120618877</td><td>1.4147696284371926e-07</td><td>-5.375190775597561</td><td>1.443138998103675e-07</td><td>True</td><td>0.1496212836048912</td><td>2.3137277378788126e-05</td><td>0.08007394052202933</td><td>0.0013004206330314004</td><td>0.07824918004352331</td><td>0.0011153715245616907</td><td>-13.213581472766325</td><td>0.048416333242761615</td><td>55.45874412439676</td><td>1.0233198670898669</td><td>nan</td><td>nan</td><td>nan</td><td>206</td><td>0.08</td><td>83.8116815</td><td>0.00014250000000000002</td><td>-5.37518458333333</td><td>0.0030910000000000004</td><td>0.0923</td><td>0.0027</td><td>nan</td><td>nan</td><td></td><td>0</td><td>nan</td><td></td><td>0.018977227549907518</td></tr>\n",
       "<tr><td>28</td><td>1.9861775284748058</td><td>0.34336368976765363</td><td>2.3339771295819194</td><td>0.6752946587013856</td><td>0.09935764250563933</td><td>0.0007383579382746675</td><td>0.0740737936269457</td><td>0.0005504656880587276</td><td>44.86876487699547</td><td>0.0176389940134741</td><td>0.002700612488838627</td><td>2.00689448449509e-05</td><td>83.80999692843773</td><td>7.676891979938971e-08</td><td>-5.375113566120221</td><td>7.686954290185851e-08</td><td>0.0026043515946572392</td><td>3.0205382373527037e-05</td><td>0.024419663844879043</td><td>0.0007383579382746675</td><td>0.018441013717850868</td><td>0.0005504656880587276</td><td>1.3123898419648983</td><td>0.0176389940134741</td><td>51.96780309176472</td><td>4.3990218e-05</td><td>1.3242039845803515</td><td>32</td><td>0.09994446491819159</td><td>0.0026266689241011784</td><td>0.07462675419999953</td><td>0.0019613169986370787</td><td>-46.95565188647791</td><td>0.06272366678399499</td><td>0.0034202634769480485</td><td>8.988415328802162e-05</td><td>83.80999781536767</td><td>2.7076805349283396e-07</td><td>-5.3751136466172085</td><td>2.760726968421164e-07</td><td>True</td><td>0.013392244277926684</td><td>1.9405669066820608e-05</td><td>0.03187702929924152</td><td>0.0026266689241011784</td><td>0.02672133688486625</td><td>0.0019613169986370787</td><td>41.49226965434895</td><td>0.06272366678399499</td><td>51.888030238440415</td><td>1.1929429068833461</td><td>0.1000278300365765</td><td>0.0030008167964678807</td><td>0.07354010467121466</td><td>0.002206196815151225</td><td>-48.96755073538412</td><td>0.06788450818641723</td><td>0.003813274592775115</td><td>0.0001143981580326338</td><td>83.80999782791231</td><td>3.042052700329154e-07</td><td>-5.375113930453334</td><td>3.1700042741971076e-07</td><td>True</td><td>0.035596982620222185</td><td>1.686647798909198e-05</td><td>0.03289157564919631</td><td>0.0030008167964678807</td><td>0.02244959598391643</td><td>0.002206196815151225</td><td>25.087202268562695</td><td>0.06788450818641723</td><td>42.614477832268264</td><td>1.4651299592545375</td><td>nan</td><td>nan</td><td>nan</td><td>180</td><td>0.02</td><td>83.8099944583333</td><td>0.00027680000000000006</td><td>-5.37510133333333</td><td>0.0037750000000000006</td><td>0.0816</td><td>0.0026</td><td>0.36</td><td>0.3</td><td></td><td>628</td><td>29.91</td><td></td><td>0.044919136163564126</td></tr>\n",
       "<tr><td>30</td><td>-1.3812903275590565</td><td>0.6118213810790694</td><td>4.291033470851264</td><td>1.2920983069621574</td><td>0.09858907321861342</td><td>0.00960679082637385</td><td>0.07024009544737278</td><td>0.0068443416684823765</td><td>50.86617694936402</td><td>0.1993898111747764</td><td>0.00023547794866967775</td><td>2.294765169728743e-05</td><td>83.81138234323772</td><td>1.0160018586229238e-06</td><td>-5.374950709672517</td><td>9.506805948704598e-07</td><td>0.0002232191433909771</td><td>1.7100742145690553e-05</td><td>nan</td><td>nan</td><td>nan</td><td>nan</td><td>nan</td><td>nan</td><td>8.250220909607293</td><td>2.643829e-05</td><td>nan</td><td>34</td><td>0.03538025651854684</td><td>0.0</td><td>0.027765674516556003</td><td>0.0</td><td>247.1240587219545</td><td>0.0</td><td>0.00013902094124205178</td><td>0.0</td><td>83.81138025837255</td><td>0.0</td><td>-5.374949885484752</td><td>0.0</td><td>True</td><td>7.147570209825021e-05</td><td>2.9345355287415635e-05</td><td>nan</td><td>nan</td><td>nan</td><td>nan</td><td>nan</td><td>nan</td><td>3.865231128242361</td><td>nan</td><td>0.02694357203102398</td><td>0.0</td><td>0.021778661938876252</td><td>0.0</td><td>213.58457552169193</td><td>0.0</td><td>0.0005734295341232241</td><td>0.0</td><td>83.81137958829969</td><td>0.0</td><td>-5.374952228834863</td><td>0.0</td><td>True</td><td>0.0004312356649050874</td><td>9.079416758370001e-05</td><td>nan</td><td>nan</td><td>nan</td><td>nan</td><td>nan</td><td>nan</td><td>4.229446858718679</td><td>nan</td><td>11.97732167981239</td><td>6.127095602653608</td><td>16.711231235576264</td><td>203</td><td>0.06</td><td>83.8113781666667</td><td>8.960000000000002e-05</td><td>-5.37495272222222</td><td>0.0016640000000000001</td><td>0.2093</td><td>0.0026</td><td>0.52</td><td>0.37</td><td></td><td>655</td><td>31.37</td><td>05351472-0522296</td><td>0.016630690546738807</td></tr>\n",
       "<tr><td>39</td><td>0.8079933551044094</td><td>0.34321034747502827</td><td>1.236795308852178</td><td>0.6753081639923425</td><td>0.10734284318293551</td><td>0.00015175069370139727</td><td>0.07921633241669374</td><td>0.00011198823961513798</td><td>49.78165653263619</td><td>0.0032398756506959</td><td>0.06389962378704397</td><td>9.033498918428267e-05</td><td>83.80877351184465</td><td>1.6111964333668728e-08</td><td>-5.372956278708197</td><td>1.5341185041541087e-08</td><td>0.0708243379391396</td><td>0.0005478374833056603</td><td>0.04908133601844254</td><td>0.00015175069370139727</td><td>0.031084702048857438</td><td>0.00011198823961513798</td><td>1.2268564442358938</td><td>0.0032398756506959</td><td>63.04176192631816</td><td>0.00048807389</td><td>1.578954687784971</td><td>43</td><td>0.10459599541572959</td><td>0.0010313383714707152</td><td>0.0802673064290651</td><td>0.0007914490648351211</td><td>-45.25378227684655</td><td>0.026030330005371718</td><td>0.034243350029652</td><td>0.00033764936345281963</td><td>83.80877468331786</td><td>1.0831218421878963e-07</td><td>-5.372957272084667</td><td>1.0856023526692194e-07</td><td>True</td><td>0.13787506089989082</td><td>0.00031504949230258013</td><td>0.044740504582894955</td><td>0.0010313383714707152</td><td>0.03941543250683881</td><td>0.0007914490648351211</td><td>60.04956897224477</td><td>0.026030330005371718</td><td>30.227195427119046</td><td>1.1351011960894306</td><td>0.10027870739096628</td><td>0.001247849072810106</td><td>0.07352974672682976</td><td>0.0009149956149313961</td><td>-45.189531444612015</td><td>0.027910854208380284</td><td>0.026356028312864283</td><td>0.00032797160826248783</td><td>83.8087741433291</td><td>1.2893957814908248e-07</td><td>-5.3729567053478755</td><td>1.2919599490299908e-07</td><td>True</td><td>0.23145350228732262</td><td>0.0001273547259984355</td><td>0.03333584970058253</td><td>0.001247849072810106</td><td>0.022875538597011767</td><td>0.0009149956149313961</td><td>56.716129753702994</td><td>0.027910854208380284</td><td>38.939932585154025</td><td>1.4572705931801402</td><td>nan</td><td>nan</td><td>nan</td><td>162</td><td>0.16</td><td>83.8087856666667</td><td>9.200000000000002e-06</td><td>-5.37296686111111</td><td>0.000144</td><td>2.3413</td><td>0.0026</td><td>1.42</td><td>0.08</td><td>Z,K,GMR B</td><td>0</td><td>nan</td><td></td><td>0.05787290222141308</td></tr>\n",
       "<tr><td>48</td><td>2.0370405903928037</td><td>0.3434053278790813</td><td>nan</td><td>nan</td><td>0.10563396199616161</td><td>0.001107027652136174</td><td>0.09295639700300369</td><td>0.000974167279979684</td><td>38.98490209614059</td><td>0.057803116639482136</td><td>0.0015958190007147703</td><td>1.6723761634203506e-05</td><td>83.80739770260527</td><td>1.2135901783132782e-07</td><td>-5.371498763895882</td><td>1.2461970073968482e-07</td><td>0.0020470175726980053</td><td>2.5014502418285528e-05</td><td>0.05997889914560428</td><td>0.001107027652136174</td><td>0.042183886387352786</td><td>0.000974167279979684</td><td>-0.7075602544672814</td><td>0.057803116639482136</td><td>32.12397282929976</td><td>4.3096905e-05</td><td>1.421843843282933</td><td>53</td><td>0.10271497239545514</td><td>0.004688969542513056</td><td>0.10038611228101535</td><td>0.004582964848705322</td><td>-26.991073089572552</td><td>1.4115319995794215</td><td>0.002028123073877298</td><td>9.258283401678486e-05</td><td>83.80739850173761</td><td>5.505668110403118e-07</td><td>-5.371501300374401</td><td>5.4320992735636e-07</td><td>True</td><td>0.01097708208001466</td><td>2.8462757488552074e-05</td><td>0.07268491334447055</td><td>0.004688969542513056</td><td>0.03894569035016584</td><td>0.004582964848705322</td><td>-49.142510580884796</td><td>1.4115319995794215</td><td>17.87250701450757</td><td>1.8663146728418705</td><td>nan</td><td>nan</td><td>nan</td><td>nan</td><td>nan</td><td>nan</td><td>nan</td><td>nan</td><td>nan</td><td>nan</td><td>nan</td><td>nan</td><td>N/A</td><td>nan</td><td>nan</td><td>nan</td><td>nan</td><td>nan</td><td>nan</td><td>nan</td><td>nan</td><td>nan</td><td>nan</td><td>nan</td><td>nan</td><td>nan</td><td>139</td><td>0.28</td><td>83.80739425</td><td>0.0006938000000000002</td><td>-5.37149755555556</td><td>0.012683000000000002</td><td>0.0239</td><td>0.0027</td><td>nan</td><td>nan</td><td></td><td>572</td><td>30.38</td><td>05351377-0522174</td><td>0.013117100553038252</td></tr>\n",
       "<tr><td>49</td><td>1.7898089463271065</td><td>0.34315226695566114</td><td>nan</td><td>nan</td><td>0.11742996375002249</td><td>0.002138131671442485</td><td>0.0906394319332813</td><td>0.0016503368378012453</td><td>50.43683326257917</td><td>0.0491673516831126</td><td>0.001975736761778535</td><td>2.7492880967883276e-05</td><td>83.81317538856808</td><td>2.3061117659445114e-07</td><td>-5.371495888498101</td><td>2.1984221206489497e-07</td><td>0.0029083868249038095</td><td>1.6642993057612312e-05</td><td>0.06840589060998754</td><td>0.002138131671442485</td><td>0.05388376453113747</td><td>0.0016503368378012453</td><td>68.39640232371033</td><td>0.0491673516831126</td><td>57.34039135296625</td><td>3.4456283e-05</td><td>1.269508379847111</td><td>54</td><td>0.12253673520405893</td><td>0.005642516058185355</td><td>0.09277399959262689</td><td>0.004272046323395002</td><td>-46.81793043525889</td><td>0.11552716004137212</td><td>0.002158353195718165</td><td>9.938506053312395e-05</td><td>83.8131769113072</td><td>5.852195117486749e-07</td><td>-5.371496720333548</td><td>5.953922062853328e-07</td><td>True</td><td>0.012720256248889682</td><td>2.9040023878418814e-05</td><td>0.07773200449221104</td><td>0.005642516058185355</td><td>0.06125461847202824</td><td>0.004272046323395002</td><td>43.225068327299695</td><td>0.11552716004137212</td><td>17.73902516494202</td><td>1.2689982638240929</td><td>nan</td><td>nan</td><td>nan</td><td>nan</td><td>nan</td><td>nan</td><td>nan</td><td>nan</td><td>nan</td><td>nan</td><td>nan</td><td>nan</td><td>N/A</td><td>nan</td><td>nan</td><td>nan</td><td>nan</td><td>nan</td><td>nan</td><td>nan</td><td>nan</td><td>nan</td><td>nan</td><td>nan</td><td>nan</td><td>nan</td><td>219</td><td>0.28</td><td>83.8131800416667</td><td>0.00024820000000000007</td><td>-5.37148644444444</td><td>0.0042510000000000004</td><td>0.079</td><td>0.0026</td><td>-0.3</td><td>0.34</td><td></td><td>680</td><td>30.83</td><td></td><td>0.03786880664543663</td></tr>\n",
       "<tr><td>64</td><td>0.9004855745890116</td><td>0.37612030312490674</td><td>4.590751408094689</td><td>0.6802625533562168</td><td>0.0951195061223734</td><td>0.004428257461820185</td><td>0.08051032009470148</td><td>0.003748204903101133</td><td>53.33140159803372</td><td>0.1965290102183987</td><td>0.0001918825441285572</td><td>8.932932187036953e-06</td><td>83.81261598835745</td><td>4.952345412534224e-07</td><td>-5.375310463693514</td><td>4.723312219051049e-07</td><td>0.00019850260328649428</td><td>2.434907468065197e-05</td><td>nan</td><td>nan</td><td>nan</td><td>nan</td><td>nan</td><td>nan</td><td>4.486676705081683</td><td>3.3050463e-05</td><td>nan</td><td>75</td><td>0.08309560022208774</td><td>0.029171627054779825</td><td>0.055097571042222876</td><td>0.019347950018966466</td><td>-34.930437110729514</td><td>0.5878393197038531</td><td>0.0001716164353434576</td><td>6.0227439728927456e-05</td><td>83.81261639633608</td><td>3.1092304837104425e-06</td><td>-5.375309552898339</td><td>2.717161613401707e-06</td><td>True</td><td>0.00041704831804778195</td><td>1.3891372624531548e-05</td><td>nan</td><td>nan</td><td>nan</td><td>nan</td><td>nan</td><td>nan</td><td>4.640904373680152</td><td>nan</td><td>0.10783030460305633</td><td>0.0</td><td>0.052257752046</td><td>0.0</td><td>233.04624032016272</td><td>0.0</td><td>0.00022076995393228389</td><td>0.0</td><td>83.81261629893234</td><td>0.0</td><td>-5.375315521042647</td><td>0.0</td><td>True</td><td>0.0028527421131359543</td><td>2.4585633376889035e-05</td><td>nan</td><td>nan</td><td>nan</td><td>nan</td><td>nan</td><td>nan</td><td>1.929739327849488</td><td>nan</td><td>10.734404259857842</td><td>10.704435455485825</td><td>22.66098842449275</td><td>216</td><td>0.14</td><td>83.8126175833333</td><td>0.00016460000000000004</td><td>-5.37530497222222</td><td>0.0030230000000000005</td><td>0.142</td><td>0.0025</td><td>nan</td><td>nan</td><td></td><td>0</td><td>nan</td><td>05351502-0522311</td><td>0.02057924491724743</td></tr>\n",
       "<tr><td>67</td><td>1.1256612157783081</td><td>0.42286076539165557</td><td>0.5838097166398147</td><td>2.125307449475993</td><td>0.10978560106702864</td><td>0.010259318205746135</td><td>0.05344823375342999</td><td>0.00456533425086023</td><td>58.01586650124</td><td>0.07429782820772854</td><td>9.631782058551121e-05</td><td>8.874969146540926e-06</td><td>83.81242129037895</td><td>1.0511103283147769e-06</td><td>-5.375820491107892</td><td>7.787414686259115e-07</td><td>8.756683604677381e-05</td><td>1.445533344124039e-05</td><td>nan</td><td>nan</td><td>nan</td><td>nan</td><td>nan</td><td>nan</td><td>4.336030356547041</td><td>2.0446796e-05</td><td>nan</td><td>80</td><td>0.04416452553540312</td><td>0.0</td><td>0.030023582201515464</td><td>0.0</td><td>257.90227269430306</td><td>0.0</td><td>0.0003247413529607002</td><td>0.0</td><td>83.81242680332994</td><td>0.0</td><td>-5.375817662249112</td><td>0.0</td><td>True</td><td>0.00022150538594420378</td><td>2.6477754723789955e-05</td><td>nan</td><td>nan</td><td>nan</td><td>nan</td><td>nan</td><td>nan</td><td>8.56027046719834</td><td>nan</td><td>0.02283561442604352</td><td>0.0</td><td>0.018212091643364403</td><td>0.0</td><td>266.9563129530202</td><td>0.0</td><td>0.0006168441876070575</td><td>0.0</td><td>83.81242552580945</td><td>0.0</td><td>-5.375818049313694</td><td>0.0</td><td>True</td><td>0.00028286657074545334</td><td>0.00023634829997685677</td><td>nan</td><td>nan</td><td>nan</td><td>nan</td><td>nan</td><td>nan</td><td>2.073453866234444</td><td>nan</td><td>7.438690647649982</td><td>10.171443588694952</td><td>23.051281820427203</td><td>214</td><td>0.13</td><td>83.8124717083333</td><td>0.0008176000000000001</td><td>-5.37584266666667</td><td>0.017912</td><td>0.0367</td><td>0.0024</td><td>nan</td><td>nan</td><td></td><td>0</td><td>nan</td><td></td><td>0.19755484605673468</td></tr>\n",
       "</table>"
      ],
      "text/plain": [
       "<Table length=14>\n",
       " Seq       b3b6_alpha     ...      VISION           Separation     \n",
       "                          ...                         arcsec       \n",
       "int64       float64       ...     bytes16            float64       \n",
       "----- ------------------- ... ---------------- --------------------\n",
       "   11  1.7924154923992122 ... 05351539-0522399  0.19391704900403609\n",
       "   14 -1.9276605001826117 ...                   0.01719086457211836\n",
       "   15   2.334211336409895 ...                    0.5159020304882778\n",
       "   21  1.5672774115314787 ... 05351436-0522327  0.17177848948647192\n",
       "   24   2.457339162962514 ...                   0.03230878981158058\n",
       "   26   1.999558671804784 ...                   0.03586817756937565\n",
       "   27   2.392515369854543 ...                  0.018977227549907518\n",
       "   28  1.9861775284748058 ...                  0.044919136163564126\n",
       "   30 -1.3812903275590565 ... 05351472-0522296 0.016630690546738807\n",
       "   39  0.8079933551044094 ...                   0.05787290222141308\n",
       "   48  2.0370405903928037 ... 05351377-0522174 0.013117100553038252\n",
       "   49  1.7898089463271065 ...                   0.03786880664543663\n",
       "   64  0.9004855745890116 ... 05351502-0522311  0.02057924491724743\n",
       "   67  1.1256612157783081 ...                   0.19755484605673468"
      ]
     },
     "execution_count": 75,
     "metadata": {},
     "output_type": "execute_result"
    }
   ],
   "source": []
  },
  {
   "cell_type": "code",
   "execution_count": null,
   "metadata": {},
   "outputs": [],
   "source": []
  }
 ],
 "metadata": {
  "kernelspec": {
   "display_name": "Python 3",
   "language": "python",
   "name": "python3"
  },
  "language_info": {
   "codemirror_mode": {
    "name": "ipython",
    "version": 3
   },
   "file_extension": ".py",
   "mimetype": "text/x-python",
   "name": "python",
   "nbconvert_exporter": "python",
   "pygments_lexer": "ipython3",
   "version": "3.7.3"
  }
 },
 "nbformat": 4,
 "nbformat_minor": 2
}
