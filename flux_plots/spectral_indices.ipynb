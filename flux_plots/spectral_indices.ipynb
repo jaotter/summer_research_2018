{
 "cells": [
  {
   "cell_type": "code",
   "execution_count": 1,
   "metadata": {},
   "outputs": [],
   "source": [
    "from astropy.table import Table, join\n",
    "import numpy as np\n",
    "import matplotlib.pyplot as plt\n",
    "import astropy.units as u\n",
    "from astropy.coordinates import SkyCoord\n",
    "import astropy.constants as const"
   ]
  },
  {
   "cell_type": "code",
   "execution_count": 2,
   "metadata": {},
   "outputs": [],
   "source": [
    "freqs = [98, 223.5 ,339.7672758867]\n",
    "eisfreq = (const.c / (850*u.micron)).to(u.GHz).value\n",
    "data = Table.read('/home/jotter/nrao/summer_research_2018/tables/r0.5_catalog_bgfit_may21_ulim.fits')\n",
    "calc = Table.read('/home/jotter/nrao/summer_research_2018/tables/r0.5_may21_calc_vals_mask_alpha.fits')"
   ]
  },
  {
   "cell_type": "code",
   "execution_count": 3,
   "metadata": {},
   "outputs": [],
   "source": [
    "def specind_compute(freq1, freq2, flux1, flux2, flux1_err, flux2_err):\n",
    "    freqdiff = np.log10(freq2) - np.log10(freq1)\n",
    "    specind = (np.log10(flux2)-np.log10(flux1))/freqdiff\n",
    "    error = np.sqrt((flux1_err/(freqdiff*np.log(10)*flux1))**2 + (flux2_err/(freqdiff*np.log(10)*flux2))**2)\n",
    "    return specind, error"
   ]
  },
  {
   "cell_type": "code",
   "execution_count": 4,
   "metadata": {},
   "outputs": [],
   "source": [
    "b3flux = data['ap_flux_B3'].data\n",
    "b3flux_err = data['ap_flux_err_B3'].data\n",
    "b6flux = data['ap_flux_B6'].data\n",
    "b6flux_err = data['ap_flux_err_B6'].data\n",
    "b7flux = data['ap_flux_B7'].data\n",
    "b7flux_err = data['ap_flux_err_B7'].data"
   ]
  },
  {
   "cell_type": "code",
   "execution_count": 5,
   "metadata": {},
   "outputs": [],
   "source": [
    "b6b7_specind, b6b7_specind_err = specind_compute(freqs[2],freqs[1],b7flux, b6flux, b7flux_err, b6flux_err)\n",
    "b3b6_specind, b3b6_specind_err = specind_compute(freqs[1],freqs[0],b6flux, b3flux, b6flux_err, b3flux_err)"
   ]
  },
  {
   "cell_type": "code",
   "execution_count": 6,
   "metadata": {},
   "outputs": [
    {
     "name": "stdout",
     "output_type": "stream",
     "text": [
      "49 33\n"
     ]
    }
   ],
   "source": [
    "b3b6_ind = np.where(np.isnan(b3b6_specind) == False)[0]\n",
    "b6b7_ind = np.where(np.isnan(b6b7_specind) == False)[0]\n",
    "print(len(b3b6_ind), len(b6b7_ind))"
   ]
  },
  {
   "cell_type": "code",
   "execution_count": 7,
   "metadata": {},
   "outputs": [],
   "source": [
    "sys_err = 0.20 #20% systematic error\n",
    "\n",
    "b3flux = data['ap_flux_B3'].data\n",
    "b3flux_err = np.sqrt(data['ap_flux_err_B3'].data**2 + (sys_err*b3flux)**2)\n",
    "b6flux = data['ap_flux_B6'].data\n",
    "b6flux_err = np.sqrt(data['ap_flux_err_B6'].data**2 + (sys_err*b6flux)**2)\n",
    "b7flux = data['ap_flux_B7'].data\n",
    "b7flux_err = np.sqrt(data['ap_flux_err_B7'].data**2 + (sys_err*b7flux)**2)"
   ]
  },
  {
   "cell_type": "code",
   "execution_count": 8,
   "metadata": {},
   "outputs": [],
   "source": [
    "b6b7_specind, b6b7_specind_err_sys = specind_compute(freqs[2],freqs[1],b7flux, b6flux, b7flux_err, b6flux_err)\n",
    "b3b6_specind, b3b6_specind_err_sys = specind_compute(freqs[1],freqs[0],b6flux, b3flux, b6flux_err, b3flux_err)"
   ]
  },
  {
   "cell_type": "code",
   "execution_count": 10,
   "metadata": {},
   "outputs": [
    {
     "name": "stdout",
     "output_type": "stream",
     "text": [
      "[37 38 43 53 56 58]\n"
     ]
    }
   ],
   "source": [
    "##get spectral index upper limits:\n",
    "b6_ulim_ind = np.where(np.isnan(data['B6_flux_ulim']) == False)[0] #upper limit for B6\n",
    "b7_nodet_ind = np.where(np.isnan(data['ap_flux_B7']) == True)[0] #no detection in B7\n",
    "ulim_ind = np.intersect1d(b6_ulim_ind, b7_nodet_ind)\n",
    "fit_ind = np.where(np.isnan(calc['alpha_fit'])==False)[0]\n",
    "ulim_ind = np.setdiff1d(ulim_ind, fit_ind)\n",
    "print(ulim_ind)\n",
    "\n",
    "b3flux = data['ap_flux_B3'][ulim_ind] * 1000\n",
    "b3flux_err = data['ap_flux_err_B3'][ulim_ind] * 1000 #errors don't actually matter here\n",
    "b6ulim = data['B6_flux_ulim'][ulim_ind]\n",
    "b6ulim_err = data['B6_flux_ulim'][ulim_ind] * 0.2\n",
    "b7ulim = data['B7_flux_ulim'][ulim_ind]\n",
    "b7ulim_err = data['B7_flux_ulim'][ulim_ind] * 0.2\n",
    "\n",
    "b3b6_ulim, b3b6_ulim_err = specind_compute(freqs[1],freqs[0],b6ulim, b3flux, b6ulim_err, b3flux_err)\n",
    "b3b7_ulim, b3b7_ulim_err = specind_compute(freqs[2],freqs[0],b7ulim, b3flux, b7ulim_err, b3flux_err)"
   ]
  },
  {
   "cell_type": "code",
   "execution_count": 11,
   "metadata": {},
   "outputs": [],
   "source": [
    "calc['alpha_ulim_B3B6'] = np.repeat(np.nan, len(calc))\n",
    "calc['alpha_ulim_B3B6'][ulim_ind] = b3b6_ulim"
   ]
  },
  {
   "cell_type": "code",
   "execution_count": 12,
   "metadata": {},
   "outputs": [],
   "source": [
    "eisner_full = Table.read('/home/jotter/nrao/tables/eisner_tbl.txt', format='ascii')\n",
    "eisner_coord = Table.read('/home/jotter/nrao/tables/eis_coord_table.fits')\n",
    "match_eis = Table.read('/home/jotter/nrao/tables/eis_r0.5_may21_match.fits')\n",
    "nondet_eis_match = Table.read('/home/jotter/nrao/tables/eis_nondet_ir_nondet.fits')\n",
    "\n",
    "match_eis_ind = []\n",
    "\n",
    "for ID in match_eis['ID_2']:\n",
    "    match_eis_ind.append(np.where(eisner_full['ID'] == ID.strip())[0][0])\n",
    "    \n",
    "eis_match = eisner_full[match_eis_ind]\n",
    "\n",
    "eis_flux = []\n",
    "eis_flux_err = []\n",
    "for fstr in eis_match['F_lambda 850mum']:\n",
    "    split = fstr.split(' ')\n",
    "    eis_flux.append(float(split[0]))\n",
    "    eis_flux_err.append(float(split[-1]))\n",
    "    \n",
    "eis_flux = np.array(eis_flux)\n",
    "eis_flux_err = np.array(eis_flux_err)\n",
    "b3flux = match_eis['ap_flux_B3'] * 1000\n",
    "b3flux_err = np.sqrt((match_eis['ap_flux_err_B3']*1000)**2 + (b3flux*0.2)**2)\n",
    "b3eis_specind, b3eis_specind_err = specind_compute(freqs[0], eisfreq, b3flux, eis_flux, b3flux_err, eis_flux_err)"
   ]
  },
  {
   "cell_type": "code",
   "execution_count": 13,
   "metadata": {},
   "outputs": [],
   "source": [
    "calc['alpha_B3eis'] = np.repeat(np.nan, len(calc))\n",
    "calc['alpha_B3eis_err'] = np.repeat(np.nan, len(calc))\n",
    "b3eis_ind = match_eis['ID_1']\n",
    "#b3eis_ind = np.setdiff1d(match_eis['ID_1'], np.array([4,6,11]))\n",
    "calc['alpha_B3eis'][b3eis_ind] = b3eis_specind\n",
    "calc['alpha_B3eis_err'][b3eis_ind] = b3eis_specind_err"
   ]
  },
  {
   "cell_type": "code",
   "execution_count": 14,
   "metadata": {},
   "outputs": [],
   "source": [
    "calc.write('/home/jotter/nrao/summer_research_2018/tables/r0.5_may21_calc_vals_mask_alpha_ulim.fits', overwrite=True)"
   ]
  },
  {
   "cell_type": "code",
   "execution_count": null,
   "metadata": {},
   "outputs": [],
   "source": []
  },
  {
   "cell_type": "code",
   "execution_count": null,
   "metadata": {},
   "outputs": [],
   "source": []
  },
  {
   "cell_type": "code",
   "execution_count": 15,
   "metadata": {},
   "outputs": [],
   "source": [
    "nondet_fov_ind = []\n",
    "eisner_full_id = np.array([idstr.strip() for idstr in eisner_full['ID']])\n",
    "for nondet_id in nondet_eis_match['ID']:\n",
    "    nondet_id = nondet_id.strip()\n",
    "    ind = np.where(eisner_full_id == nondet_id)[0][0]\n",
    "    nondet_fov_ind.append(ind)\n",
    "\n",
    "nondet_eis_full = eisner_full[np.array(nondet_fov_ind)]"
   ]
  },
  {
   "cell_type": "code",
   "execution_count": 16,
   "metadata": {},
   "outputs": [],
   "source": [
    "b3_ulim = nondet_eis_match['B3_flux_ulim']\n",
    "b3_ulim_err = b3_ulim*0.2\n",
    "\n",
    "eis_flux_nd = []\n",
    "eis_flux_err_nd = []\n",
    "for fstr in nondet_eis_full['F_lambda 850mum']:\n",
    "    split = fstr.split(' ')\n",
    "    eis_flux_nd.append(float(split[0]))\n",
    "    eis_flux_err_nd.append(float(split[-1]))\n",
    "eis_flux_nd  = np.array(eis_flux_nd)\n",
    "eis_flux_err_nd = np.array(eis_flux_err_nd)\n",
    "\n",
    "b3eis_alpha_llim, b3eis_alpha_llim_err = specind_compute(freqs[0], eisfreq, b3_ulim, eis_flux_nd, b3_ulim_err, eis_flux_err_nd)"
   ]
  },
  {
   "cell_type": "code",
   "execution_count": 17,
   "metadata": {},
   "outputs": [
    {
     "name": "stdout",
     "output_type": "stream",
     "text": [
      "39 33\n",
      "85 39 13 33 6\n"
     ]
    },
    {
     "data": {
      "image/png": "[encoded data removed]",
      "text/plain": [
       "<Figure size 576x432 with 1 Axes>"
      ]
     },
     "metadata": {
      "needs_background": "light"
     },
     "output_type": "display_data"
    }
   ],
   "source": [
    "##creating spectral index histogram - including eisner spectral indices\n",
    "\n",
    "plt.rcParams.update({'font.size': 16})\n",
    "\n",
    "fig = plt.figure(figsize=(8,6))\n",
    "specind_fit = calc['alpha_fit']\n",
    "fit_ind = np.where(np.isnan(specind_fit) == False)[0]\n",
    "b3b6_only = np.setdiff1d(b3b6_ind, fit_ind)\n",
    "eis_ind = np.where(np.isnan(calc['alpha_B3eis'])==False)[0]\n",
    "eis_only = np.setdiff1d(eis_ind, fit_ind)\n",
    "\n",
    "specind_fit = specind_fit[fit_ind]\n",
    "specind_fit_err = calc['alpha_fit_err'][fit_ind]\n",
    "specind_b3b6_only = calc['alpha_B3B6'][b3b6_only]\n",
    "specind_b3b6_only_err = calc['alpha_B3B6_err'][b3b6_only]\n",
    "print(len(eis_ind), len(eis_only))\n",
    "specind_eis_only = calc['alpha_B3eis'][eis_only]\n",
    "specind_eis_only_err = calc['alpha_B3eis_err'][eis_only]\n",
    "\n",
    "total_alpha = np.concatenate((specind_fit,specind_b3b6_only, specind_eis_only))\n",
    "total_alpha_err = np.concatenate((specind_fit_err, specind_b3b6_only_err, specind_eis_only_err))\n",
    "bins = np.arange(-1.5, 5, 0.5)\n",
    "plt.hist(total_alpha, bins=bins,color='tab:purple', edgecolor='k')\n",
    "\n",
    "ulim_alpha = calc['alpha_ulim_B3B6']\n",
    "ulim_alpha = ulim_alpha[np.isnan(ulim_alpha) == False]\n",
    "plt.hist(ulim_alpha, bins=bins,color='gray', edgecolor='k', alpha=0.5, hatch='O', label='Upper limits', rwidth=0.8)\n",
    "\n",
    "plt.hist(b3eis_alpha_llim, bins=bins,color='gray', edgecolor='k', alpha=0.5, hatch='/', label='Lower limits', rwidth=0.8)\n",
    "plt.legend()\n",
    "plt.xlabel('Spectral Index')\n",
    "plt.ylabel('Number')\n",
    "print(len(total_alpha), len(fit_ind), len(b3b6_only), len(specind_eis_only), len(ulim_alpha))\n",
    "plt.savefig('/home/jotter/nrao/plots/alpha_hist.pdf', bbox_inches='tight')"
   ]
  },
  {
   "cell_type": "code",
   "execution_count": null,
   "metadata": {},
   "outputs": [],
   "source": [
    "b3b6_alpha = calc['alpha_B3B6']\n",
    "b3b6_alpha_err = calc['alpha_B3B6_err']\n",
    "b6b7_alpha = calc['alpha_B6B7']\n",
    "b6b7_alpha_err = calc['alpha_B6B7_err']\n",
    "alpha = calc['alpha_fit']\n",
    "alpha_err = calc['alpha_fit_err']"
   ]
  },
  {
   "cell_type": "code",
   "execution_count": 140,
   "metadata": {},
   "outputs": [
    {
     "name": "stdout",
     "output_type": "stream",
     "text": [
      "[ 0  1  2  3  4  5  7  8  9 10 11 12 13 14 15 16 17 18 19 20 21 22 23 24\n",
      " 26 27 28 29 30 31 32 33 34 35 36 37 39 41 43 45 46 47 48 49 51 54 57 58\n",
      " 59 62 66 68 69 70 75 76 77 82] 58\n",
      "[38 40 42 44] 4\n",
      "[ 6 25 50 52 53 55 56 60 61 63 64 65 67 71 72 73 74 78 79 80 81 83 84] 23\n",
      "[ 0  1  2  3  4  5  7  8  9 10 12 13 14 16 17 18 20 21 22 23 24 26 27 28\n",
      " 29 30 31 32 33 34 35 36 37 38 39 40 41 42 43 44 45 46 47 49 57 59 69] 47\n",
      "[1.19939063 1.10556168 1.98181565 2.00848386 2.12758724 2.05153496\n",
      " 2.04327796 2.09011784 2.83220038 2.34825301 1.57548438 2.39286437\n",
      " 2.20403329 2.40175332 2.13171912 2.35214808 1.89971481 1.9717476\n",
      " 1.77621602 2.32700557 1.90306809 2.68306769 1.7294879  2.42278457\n",
      " 2.01318233 1.71913237 2.73936137 1.56057699 2.12560587 1.37614491\n",
      " 2.00020626 2.12653567 2.28672315 3.60049339 1.83138712 4.35475107\n",
      " 2.23389883 3.2703883  2.36742273 3.12805326 2.59936114 2.45225294\n",
      " 2.85605236 2.26038354 1.99004992 1.94787367 2.02493948]\n"
     ]
    }
   ],
   "source": [
    "##now find where the vaues agree with 2\n",
    "alpha2 = np.where(np.abs(total_alpha - 2) <=  3*total_alpha_err)[0]\n",
    "print(alpha2, len(alpha2))\n",
    "\n",
    "alpha_close2 = np.where(np.abs(total_alpha - 2) <= 0.5)[0]\n",
    "#print(alpha_close2, len(alpha_close2))\n",
    "\n",
    "alphag2 = np.where(total_alpha - 2 >  3*total_alpha_err)[0]\n",
    "print(alphag2, len(alphag2))\n",
    "\n",
    "alphal2 = np.where(2 - total_alpha > 3*total_alpha_err)[0]\n",
    "print(alphal2, len(alphal2))\n",
    "\n",
    "alpha24 = np.where(2.4 - total_alpha <=  3*total_alpha_err)[0]\n",
    "print(alpha24, len(alpha24))\n",
    "print(total_alpha[alpha24])"
   ]
  },
  {
   "cell_type": "code",
   "execution_count": 132,
   "metadata": {},
   "outputs": [
    {
     "name": "stdout",
     "output_type": "stream",
     "text": [
      "[63 64 73 74 78 79 80 81 84] 9\n"
     ]
    }
   ],
   "source": [
    "alphal0 = np.where(total_alpha + 3*total_alpha_err <= 0)[0]\n",
    "print(alphal0, len(alphal0))"
   ]
  },
  {
   "cell_type": "code",
   "execution_count": null,
   "metadata": {},
   "outputs": [],
   "source": []
  },
  {
   "cell_type": "code",
   "execution_count": null,
   "metadata": {},
   "outputs": [],
   "source": []
  },
  {
   "cell_type": "code",
   "execution_count": null,
   "metadata": {},
   "outputs": [],
   "source": []
  },
  {
   "cell_type": "code",
   "execution_count": null,
   "metadata": {},
   "outputs": [],
   "source": []
  },
  {
   "cell_type": "code",
   "execution_count": null,
   "metadata": {},
   "outputs": [],
   "source": []
  },
  {
   "cell_type": "code",
   "execution_count": 150,
   "metadata": {},
   "outputs": [
    {
     "name": "stdout",
     "output_type": "stream",
     "text": [
      "   ID_2  \n",
      "---------\n",
      "HC447    \n",
      "  ID \n",
      "-----\n",
      "HC447\n",
      "F_lambda 850mum\n",
      "---------------\n",
      "   1.6 +or- 0.3\n"
     ]
    }
   ],
   "source": [
    "match_eis_ind = np.where(match_eis['ID_1'] == 19)\n",
    "print(match_eis[match_eis_ind]['ID_2'])\n",
    "print(eis_match[match_eis_ind]['ID'])\n",
    "print(eis_match[match_eis_ind]['F_lambda 850mum'])"
   ]
  },
  {
   "cell_type": "code",
   "execution_count": 129,
   "metadata": {},
   "outputs": [],
   "source": [
    "eis_fdust = []\n",
    "eis_fdust_err = []\n",
    "for fstr in eis_match['F_dust']:\n",
    "    split = fstr.split(' ')\n",
    "    eis_fdust.append(float(split[0]))\n",
    "    eis_fdust_err.append(float(split[-1]))\n",
    "    \n",
    "eis_fdust = np.array(eis_fdust)\n",
    "    \n",
    "ff_ind = np.where(eis_fdust == 0.0)\n",
    "ff_cont_ind = np.where(eis_flux - eis_fdust > eis_flux_err)"
   ]
  },
  {
   "cell_type": "code",
   "execution_count": 130,
   "metadata": {},
   "outputs": [
    {
     "name": "stdout",
     "output_type": "stream",
     "text": [
      "     ap_flux_B3     \n",
      "--------------------\n",
      "-0.09420096630005637\n",
      " -0.3433744997252077\n",
      "  0.2837327720924503\n",
      "-0.36415320157576564\n",
      "-0.28530526017089464\n",
      " -0.4474587353022407\n",
      "-0.10261329548619313\n",
      "     ap_flux_B3     \n",
      "--------------------\n",
      "    1.53572734375194\n",
      "  0.8171412373229117\n",
      "-0.09420096630005637\n",
      " -0.3433744997252077\n",
      "  0.2837327720924503\n",
      "-0.36415320157576564\n",
      "-0.28530526017089464\n",
      " -0.1509770211963688\n",
      " -0.4474587353022407\n",
      "-0.20742094729553096\n",
      "-0.10422174750565016\n",
      "  0.6205516435844293\n",
      "-0.10261329548619313\n"
     ]
    }
   ],
   "source": [
    "print(b3eis_specind[ff_ind] + 3*b3eis_specind_err[ff_ind])\n",
    "print(b3eis_specind[ff_cont_ind] + 3*b3eis_specind_err[ff_cont_ind])"
   ]
  },
  {
   "cell_type": "code",
   "execution_count": 131,
   "metadata": {},
   "outputs": [
    {
     "data": {
      "text/plain": [
       "(13, 39)"
      ]
     },
     "execution_count": 131,
     "metadata": {},
     "output_type": "execute_result"
    }
   ],
   "source": [
    "len(ff_cont_ind[0]), len(eis_flux)"
   ]
  },
  {
   "cell_type": "code",
   "execution_count": null,
   "metadata": {},
   "outputs": [],
   "source": [
    "## get spectral ind\n",
    "\n",
    "eis_flux = np.array(eis_flux)\n",
    "eis_flux_err = np.array(eis_flux_err)\n",
    "b3flux = match_eis['ap_flux_B3'] * 1000\n",
    "b3flux_err = np.sqrt((match_eis['ap_flux_err_B3']*1000)**2 + (b3flux*0.2)**2)\n",
    "b3eis_specind, b3eis_specind_err = specind_compute(freqs[0], eisfreq, b3flux, eis_flux, b3flux_err, eis_flux_err)\n",
    "\n",
    "eis_fdust = np.array(eis_fdust)\n",
    "eis_fdust_err = np.array(eis_fdust_err)\n",
    "b3eis_specind_fdust, b3eis_specind_err_fdust = specind_compute(freqs[0], eisfreq, b3flux, eis_fdust, b3flux_err, eis_fdust_err)\n",
    "\n",
    "nodust_ind = np.where(np.isinf(b3eis_specind_fdust)==True)\n",
    "print(b3eis_specind[nodust_ind])"
   ]
  },
  {
   "cell_type": "code",
   "execution_count": null,
   "metadata": {},
   "outputs": [],
   "source": [
    "b6flux = match_eis['ap_flux_B6']\n",
    "print(b6flux[np.isnan(b6flux)==False])\n",
    "print(match_eis['ID_1'][np.isnan(b6flux)==False])\n",
    "print(eis_flux[np.isnan(b6flux)==False])\n",
    "print(eis_flux_err[np.isnan(b6flux)==False])"
   ]
  },
  {
   "cell_type": "code",
   "execution_count": null,
   "metadata": {},
   "outputs": [],
   "source": [
    "plt.hist(b3eis_specind)"
   ]
  },
  {
   "cell_type": "code",
   "execution_count": null,
   "metadata": {},
   "outputs": [],
   "source": [
    "plt.hist(b3eis_specind_fdust[b3eis_specind_fdust > -10])"
   ]
  },
  {
   "cell_type": "code",
   "execution_count": null,
   "metadata": {},
   "outputs": [],
   "source": [
    "b3eis_specind[-1], b3eis_specind_err[-1], b3flux[-1], b3flux_err[-1], eis_flux[-1], eis_flux_err[-1]"
   ]
  },
  {
   "cell_type": "code",
   "execution_count": null,
   "metadata": {},
   "outputs": [],
   "source": [
    "np.where(np.abs(2 - b3eis_specind) > 3*b3eis_specind_err)"
   ]
  },
  {
   "cell_type": "code",
   "execution_count": null,
   "metadata": {},
   "outputs": [],
   "source": [
    "##unmatched eisner sources:\n",
    "eisner_full_id = [st.strip() for st in eisner_full['ID']]\n",
    "matched_eis_id = [st.strip() for st in match_eis['ID_2']]\n",
    "nondet_eis = np.setdiff1d(eisner_full_id, matched_eis_id)\n",
    "\n",
    "nondet_eis_ind = []\n",
    "for ID in nondet_eis:\n",
    "    nondet_eis_ind.append(np.where(eisner_full['ID'] == ID.strip())[0][0])\n",
    "    \n",
    "nondet_eis = eisner_coord[nondet_eis_ind]\n",
    "#nondet_eis.write('/home/jotter/nrao/tables/eis_nondet_full.fits', overwrite=True)"
   ]
  },
  {
   "cell_type": "code",
   "execution_count": null,
   "metadata": {},
   "outputs": [],
   "source": [
    "nondet_coord = SkyCoord(nondet_eis['RA'], nondet_eis['DEC'], unit=u.degree)\n",
    "srcI = SkyCoord(data['RA_B3'][26], data['DEC_B3'][26], unit=u.degree)\n",
    "\n",
    "dist = nondet_coord.separation(srcI)\n",
    "fov_ind = np.where(dist < 65*u.arcsecond)"
   ]
  },
  {
   "cell_type": "code",
   "execution_count": null,
   "metadata": {},
   "outputs": [],
   "source": [
    "nondet_eis_fov = nondet_eis[fov_ind]\n",
    "#nondet_eis_fov.write('/home/jotter/nrao/tables/eis_nondet_fov.fits', overwrite=True)"
   ]
  },
  {
   "cell_type": "code",
   "execution_count": null,
   "metadata": {},
   "outputs": [],
   "source": [
    "match_eis_ind_nondet = []\n",
    "for ID in nondet_eis_fov['ID']:\n",
    "    match_eis_ind_nondet.append(np.where(eisner_full['ID'] == ID.strip())[0][0])\n",
    "    \n",
    "nondet_eis_fov_full = eisner_full[match_eis_ind_nondet]"
   ]
  },
  {
   "cell_type": "code",
   "execution_count": null,
   "metadata": {},
   "outputs": [],
   "source": [
    "eis_flux_nd = []\n",
    "eis_flux_err_nd = []\n",
    "for fstr in nondet_eis_fov_full['F_lambda 850mum']:\n",
    "    split = fstr.split(' ')\n",
    "    eis_flux_nd.append(float(split[0]))\n",
    "    eis_flux_err_nd.append(float(split[-1]))\n",
    "eis_flux_nd  = np.array(eis_flux_nd)\n",
    "eis_flux_err_nd = np.array(eis_flux_err_nd)\n",
    "\n",
    "eis_fdust_nd = []\n",
    "eis_fdust_err_nd = []\n",
    "for fstr in nondet_eis_fov_full['F_dust']:\n",
    "    split = fstr.split(' ')\n",
    "    eis_fdust_nd.append(float(split[0]))\n",
    "    eis_fdust_err_nd.append(float(split[-1]))\n",
    "eis_fdust_nd  = np.array(eis_fdust_nd)\n",
    "eis_fdust_err_nd = np.array(eis_fdust_err_nd)"
   ]
  },
  {
   "cell_type": "code",
   "execution_count": null,
   "metadata": {},
   "outputs": [],
   "source": [
    "nondet_eis_match = Table.read('/home/jotter/nrao/tables/eis_nondet_ir_nondet.fits')\n",
    "b3_ulim = nondet_eis_match['B3_flux_ulim']\n",
    "b3_ulim_err = b3_ulim*0.2\n",
    "b3eis_alpha_llim, b3eis_alpha_llim_err = specind_compute(freqs[0], eisfreq, b3_ulim, eis_flux_nd, b3_ulim_err, eis_flux_err_nd)\n",
    "b3eis_alpha_llim_fdust, b3eis_alpha_llim_fdust_err = specind_compute(freqs[0], eisfreq, b3_ulim, eis_fdust_nd, b3_ulim_err, eis_fdust_err_nd)\n"
   ]
  },
  {
   "cell_type": "code",
   "execution_count": null,
   "metadata": {},
   "outputs": [],
   "source": [
    "plt.hist(b3eis_alpha_ulim)"
   ]
  },
  {
   "cell_type": "code",
   "execution_count": null,
   "metadata": {},
   "outputs": [],
   "source": [
    "plt.hist(b3eis_alpha_ulim_fdust)"
   ]
  },
  {
   "cell_type": "code",
   "execution_count": null,
   "metadata": {},
   "outputs": [],
   "source": [
    "##creating 2 panel spectral index histogram\n",
    "\n",
    "plt.rcParams.update({'font.size': 16})\n",
    "\n",
    "fig, (ax0,ax1) = plt.subplots(1,2,sharey=True,figsize=(8,4))\n",
    "\n",
    "bins = np.arange(-1.5, 5, 0.5)\n",
    "ax0.hist(total_alpha, bins=bins,color='tab:purple', edgecolor='k')\n",
    "ax0.hist(ulim_alpha, bins=bins,color='gray', edgecolor='k', alpha=0.5, hatch='/')\n",
    "\n",
    "ax0.set_ylabel('Number')\n",
    "\n",
    "bins2 = np.arange(-2,4,0.75)\n",
    "plt.hist(b3eis_specind, bins, color='tab:green', edgecolor='k')\n",
    "ax1.hist(b3eis_alpha_llim, bins, alpha=0.5, hatch='\\\\', color='gray', edgecolor='k')\n",
    "\n",
    "fig.text(0.4,0, 'Spectral Index')\n",
    "plt.subplots_adjust(wspace=0.05)\n",
    "plt.savefig('/home/jotter/nrao/plots/alpha_hist_2panel.pdf', bbox_inches='tight')"
   ]
  },
  {
   "cell_type": "code",
   "execution_count": null,
   "metadata": {},
   "outputs": [],
   "source": []
  },
  {
   "cell_type": "code",
   "execution_count": null,
   "metadata": {},
   "outputs": [],
   "source": [
    "fb = Table.read('/home/jotter/nrao/summer_research_2018/tables/Forbrich2016_r0.5_mar21.fits')\n",
    "fb.rename_column('Seq_1','Seq')"
   ]
  },
  {
   "cell_type": "code",
   "execution_count": null,
   "metadata": {},
   "outputs": [],
   "source": [
    "specind_tab = Table((b3b6_ind, b3b6_specind[b3b6_ind], b3b6_specind_err_sys[b3b6_ind],\n",
    "                     b6b7_specind[b3b6_ind], b6b7_specind_err_sys[b3b6_ind]),\n",
    "                    names=('Seq', 'b3b6_alpha', 'b3b6_alpha_err', 'b6b7_alpha', 'b6b7_alpha_err'))"
   ]
  },
  {
   "cell_type": "code",
   "execution_count": null,
   "metadata": {},
   "outputs": [],
   "source": [
    "match = join(specind_tab, fb, keys='Seq')"
   ]
  },
  {
   "cell_type": "code",
   "execution_count": null,
   "metadata": {},
   "outputs": [],
   "source": [
    "match"
   ]
  },
  {
   "cell_type": "markdown",
   "metadata": {},
   "source": []
  },
  {
   "cell_type": "code",
   "execution_count": null,
   "metadata": {},
   "outputs": [],
   "source": []
  },
  {
   "cell_type": "code",
   "execution_count": null,
   "metadata": {},
   "outputs": [],
   "source": []
  }
 ],
 "metadata": {
  "kernelspec": {
   "display_name": "Python 3",
   "language": "python",
   "name": "python3"
  },
  "language_info": {
   "codemirror_mode": {
    "name": "ipython",
    "version": 3
   },
   "file_extension": ".py",
   "mimetype": "text/x-python",
   "name": "python",
   "nbconvert_exporter": "python",
   "pygments_lexer": "ipython3",
   "version": "3.7.10"
  }
 },
 "nbformat": 4,
 "nbformat_minor": 2
}
